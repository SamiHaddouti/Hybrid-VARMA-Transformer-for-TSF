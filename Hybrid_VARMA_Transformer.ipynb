{
  "nbformat": 4,
  "nbformat_minor": 0,
  "metadata": {
    "colab": {
      "provenance": []
    },
    "kernelspec": {
      "name": "python3",
      "display_name": "Python 3"
    },
    "language_info": {
      "name": "python"
    }
  },
  "cells": [
    {
      "cell_type": "markdown",
      "source": [
        "# Imports and helper functions"
      ],
      "metadata": {
        "id": "P1cY9cWpo-sm"
      }
    },
    {
      "cell_type": "code",
      "execution_count": 5,
      "metadata": {
        "id": "viQ-gMLio4it"
      },
      "outputs": [],
      "source": [
        "import numpy as np\n",
        "import pandas as pd\n",
        "\n",
        "import matplotlib.pyplot as plt\n",
        "%matplotlib inline\n",
        "\n",
        "from statsmodels.tsa.stattools import adfuller\n",
        "from statsmodels.tsa.vector_ar.vecm import coint_johansen\n",
        "from statsmodels.tsa.api import VAR\n",
        "from statsmodels.tsa.statespace.varmax import VARMAX\n",
        "\n",
        "from sklearn.metrics import mean_absolute_error, mean_absolute_percentage_error, mean_squared_error\n",
        "from sklearn import metrics\n",
        "from sklearn.model_selection import ParameterGrid\n",
        "\n",
        "import warnings\n",
        "warnings.filterwarnings(\"ignore\")"
      ]
    },
    {
      "cell_type": "code",
      "source": [
        "#!git clone --recurse-submodules https://github.com/SamiHaddouti/Hybrid-VARMA-Transformer-for-TSF\n",
        "!git clone https://github.com/SamiHaddouti/Time-Series-Library.git\n",
        "!git clone https://github.com/SamiHaddouti/PatchTST.git"
      ],
      "metadata": {
        "id": "Z2rYW6KEqnmQ"
      },
      "execution_count": null,
      "outputs": []
    },
    {
      "cell_type": "code",
      "source": [
        "'''\n",
        "The following code was derived from here: https://michael-fuchs-python.netlify.app/2020/10/29/time-series-analysis-regression-extension-techniques-for-forecasting-multivariate-variables/ and https://github.com/Apress/hands-on-time-series-analylsis-python/blob/master/Chapter%204/8.%20VARMA%20with%20Gird%20Search.ipynb \n",
        "The code provided by https://github.com/Apress/hands-on-time-series-analylsis-python is licensed under the Freeware License, some rights reserved, Copyright (c) 2020 B V Vishwas and Ashish Patel.\n",
        "Please take a look at the LICENSE file for more information: https://github.com/Apress/hands-on-time-series-analylsis-python/blob/master/LICENSE.txt\n",
        "'''\n",
        "def Augmented_Dickey_Fuller_Test_func(timeseries , column_name):\n",
        "    '''\n",
        "    Calculates statistical values whether the available data are stationary or not \n",
        "    \n",
        "    Args:\n",
        "        series (float64): Values of the column for which stationarity is to be checked, numpy array of floats \n",
        "        column_name (str): Name of the column for which stationarity is to be checked\n",
        "    \n",
        "    Returns:\n",
        "        p-value that indicates whether the data are stationary or not\n",
        "    ''' \n",
        "    print (f'Results of Dickey-Fuller Test for column: {column_name}')\n",
        "    adfTest = adfuller(timeseries, autolag='AIC')\n",
        "    dfResults = pd.Series(adfTest[0:4], index=['ADF Test Statistic','P-Value','# Lags Used','# Observations Used'])\n",
        "    for key, value in adfTest[4].items():\n",
        "       dfResults['Critical Value (%s)'%key] = value\n",
        "    print (dfResults)\n",
        "    if adfTest[1] <= 0.05:\n",
        "        print()\n",
        "        print(\"Conclusion:\")\n",
        "        print(\"Reject the null hypothesis\")\n",
        "        print('\\033[92m' + \"Data is stationary\" + '\\033[0m')\n",
        "    else:\n",
        "        print()\n",
        "        print(\"Conclusion:\")\n",
        "        print(\"Fail to reject the null hypothesis\")\n",
        "        print('\\033[91m' + \"Data is non-stationary\" + '\\033[0m')\n",
        "\n",
        "def cointegration_test_func(df): \n",
        "    '''\n",
        "    Test if there is a long-run relationship between features\n",
        "    \n",
        "    Args:\n",
        "        dataframe (float64): Values of the columns to be checked, numpy array of floats \n",
        "    \n",
        "    Returns:\n",
        "        True or False whether a variable has a long-run relationship between other features\n",
        "    ''' \n",
        "    johansen_cointegration_test = coint_johansen(df,-1,5)\n",
        "    c = {'0.90':0, '0.95':1, '0.99':2}\n",
        "    traces = johansen_cointegration_test.lr1\n",
        "    cvts = johansen_cointegration_test.cvt[:, c[str(1-0.05)]]\n",
        "    def adjust(val, length= 6): \n",
        "        return str(val).ljust(length)\n",
        "    print('Column_Name  >  Test_Stat  >  C(95%)  =>  Signif  \\n', '--'*25)\n",
        "    for col, trace, cvt in zip(df.columns, traces, cvts):\n",
        "        print(adjust(col), '  >  ', \n",
        "              adjust(round(trace,2), 9), \"  >  \", \n",
        "              adjust(cvt, 8), '  => ' , \n",
        "              trace > cvt)"
      ],
      "metadata": {
        "id": "je6Ey5U3peUV"
      },
      "execution_count": 7,
      "outputs": []
    },
    {
      "cell_type": "markdown",
      "source": [
        "## Load data"
      ],
      "metadata": {
        "id": "EVfNQe8yq3VD"
      }
    },
    {
      "cell_type": "code",
      "source": [
        "# Read ILI dataset and load into pd.Dataframe\n",
        "illness_df = pd.read_csv(\"/content/Time-Series-Library/dataset/illness/national_illness.csv\")\n",
        "# Change date colum format to datetime.datetime\n",
        "illness_df['date'] =  pd.to_datetime(illness_df['date'])\n",
        "\n",
        "# Read ILI dataset and load into pd.Dataframe\n",
        "exchange_df = pd.read_csv(\"/content/Time-Series-Library/dataset/exchange_rate/exchange_rate.csv\")\n",
        "# Change date colum format to datetime.datetime\n",
        "exchange_df['date'] =  pd.to_datetime(exchange_df['date'])"
      ],
      "metadata": {
        "id": "kQfYEf78q2pE"
      },
      "execution_count": 9,
      "outputs": []
    },
    {
      "cell_type": "code",
      "source": [
        "illness_df"
      ],
      "metadata": {
        "id": "Csj71s10iD09"
      },
      "execution_count": null,
      "outputs": []
    },
    {
      "cell_type": "code",
      "source": [
        "exchange_df"
      ],
      "metadata": {
        "id": "2yKtOYjhiGbH"
      },
      "execution_count": null,
      "outputs": []
    },
    {
      "cell_type": "markdown",
      "source": [
        "# EDA"
      ],
      "metadata": {
        "id": "LcqCWh-8pp4T"
      }
    },
    {
      "cell_type": "code",
      "source": [
        "print(\"Illness\")\n",
        "print(f\"Length: {len(illness_df)}\")\n",
        "print(f\"Columns: {len(illness_df.columns)}\")\n",
        "print(f\"Frequency: weekly\")\n",
        "print(f\"Timespan: {(pd.Timedelta(illness_df['date'][len(illness_df)-1] - illness_df['date'][0]).days)/7} weeks\")\n",
        "\n",
        "print(\"\\n\")\n",
        "\n",
        "print(\"Exchange\")\n",
        "print(f\"Length: {len(exchange_df)}\")\n",
        "print(f\"Columns: {len(exchange_df.columns)}\")\n",
        "print(f\"Frequency: daily\")\n",
        "print(f\"Timespan: {pd.Timedelta(exchange_df['date'][len(exchange_df)-1] - exchange_df['date'][0]).days} days\")"
      ],
      "metadata": {
        "id": "1svaAJUqppbp"
      },
      "execution_count": null,
      "outputs": []
    },
    {
      "cell_type": "code",
      "source": [
        "# Set date as index\n",
        "illness_df.set_index('date', inplace=True)\n",
        "exchange_df.set_index('date', inplace=True)"
      ],
      "metadata": {
        "id": "yyOtGGmd0Xbe"
      },
      "execution_count": 13,
      "outputs": []
    },
    {
      "cell_type": "code",
      "source": [
        "'''\n",
        "Parts of the following code were derived and adapted from here: https://michael-fuchs-python.netlify.app/2020/10/29/time-series-analysis-regression-extension-techniques-for-forecasting-multivariate-variables/ and https://github.com/Apress/hands-on-time-series-analylsis-python/blob/master/Chapter%204/8.%20VARMA%20with%20Gird%20Search.ipynb \n",
        "The code provided by https://github.com/Apress/hands-on-time-series-analylsis-python is licensed under the Freeware License, some rights reserved, Copyright (c) 2020 B V Vishwas and Ashish Patel.\n",
        "Please take a look at the LICENSE file for more information: https://github.com/Apress/hands-on-time-series-analylsis-python/blob/master/LICENSE.txt\n",
        "'''\n",
        "# Plots of ILI variables\n",
        "for col in illness_df.columns:\n",
        "  illness_df[col].plot(figsize=(15, 6))\n",
        "  plt.title(col)\n",
        "  plt.xlabel(\"Date\")\n",
        "  plt.ylabel(col)\n",
        "  plt.show()"
      ],
      "metadata": {
        "id": "19f_-4wrpzGO"
      },
      "execution_count": null,
      "outputs": []
    },
    {
      "cell_type": "code",
      "source": [
        "'''\n",
        "Parts of the following code were derived and adapted from here: https://michael-fuchs-python.netlify.app/2020/10/29/time-series-analysis-regression-extension-techniques-for-forecasting-multivariate-variables/ and https://github.com/Apress/hands-on-time-series-analylsis-python/blob/master/Chapter%204/8.%20VARMA%20with%20Gird%20Search.ipynb \n",
        "The code provided by https://github.com/Apress/hands-on-time-series-analylsis-python is licensed under the Freeware License, some rights reserved, Copyright (c) 2020 B V Vishwas and Ashish Patel.\n",
        "Please take a look at the LICENSE file for more information: https://github.com/Apress/hands-on-time-series-analylsis-python/blob/master/LICENSE.txt\n",
        "'''\n",
        "# Plots of Exchange variables\n",
        "for col in exchange_df.columns:\n",
        "  exchange_df[col].plot(figsize=(15, 6))\n",
        "  plt.title(col)\n",
        "  plt.xlabel(\"Date\")\n",
        "  plt.ylabel(col)\n",
        "  plt.show()"
      ],
      "metadata": {
        "id": "tqYS2DVh4Qkz"
      },
      "execution_count": null,
      "outputs": []
    },
    {
      "cell_type": "markdown",
      "source": [
        "# Data pre-processing"
      ],
      "metadata": {
        "id": "lZUWoEafpx6d"
      }
    },
    {
      "cell_type": "markdown",
      "source": [
        "## Stationarity check"
      ],
      "metadata": {
        "id": "HR402iGJV_iA"
      }
    },
    {
      "cell_type": "code",
      "source": [
        "'''\n",
        "Parts of the following code were derived and adapted from here: https://michael-fuchs-python.netlify.app/2020/10/29/time-series-analysis-regression-extension-techniques-for-forecasting-multivariate-variables/ and https://github.com/Apress/hands-on-time-series-analylsis-python/blob/master/Chapter%204/8.%20VARMA%20with%20Gird%20Search.ipynb \n",
        "The code provided by https://github.com/Apress/hands-on-time-series-analylsis-python is licensed under the Freeware License, some rights reserved, Copyright (c) 2020 B V Vishwas and Ashish Patel.\n",
        "Please take a look at the LICENSE file for more information: https://github.com/Apress/hands-on-time-series-analylsis-python/blob/master/LICENSE.txt\n",
        "'''\n",
        "# Illness data\n",
        "for name, column in illness_df[['% WEIGHTED ILI', '%UNWEIGHTED ILI', 'AGE 0-4', 'AGE 5-24', 'ILITOTAL', 'NUM. OF PROVIDERS', 'OT']].iteritems():\n",
        "    Augmented_Dickey_Fuller_Test_func(illness_df[name],name)\n",
        "    print('\\n')"
      ],
      "metadata": {
        "id": "Jp3BFXkiWCtN"
      },
      "execution_count": null,
      "outputs": []
    },
    {
      "cell_type": "code",
      "source": [
        "'''\n",
        "Parts of the following code were derived and adapted from here: https://michael-fuchs-python.netlify.app/2020/10/29/time-series-analysis-regression-extension-techniques-for-forecasting-multivariate-variables/ and https://github.com/Apress/hands-on-time-series-analylsis-python/blob/master/Chapter%204/8.%20VARMA%20with%20Gird%20Search.ipynb \n",
        "The code provided by https://github.com/Apress/hands-on-time-series-analylsis-python is licensed under the Freeware License, some rights reserved, Copyright (c) 2020 B V Vishwas and Ashish Patel.\n",
        "Please take a look at the LICENSE file for more information: https://github.com/Apress/hands-on-time-series-analylsis-python/blob/master/LICENSE.txt\n",
        "'''\n",
        "# Exchange data\n",
        "for name, column in exchange_df[['0', '1', '2', '3', '4', '5', '6', 'OT']].iteritems():\n",
        "    Augmented_Dickey_Fuller_Test_func(exchange_df[name],name)\n",
        "    print('\\n')"
      ],
      "metadata": {
        "id": "pMaYt0JaWdIF"
      },
      "execution_count": null,
      "outputs": []
    },
    {
      "cell_type": "markdown",
      "source": [
        "### Stationarize data"
      ],
      "metadata": {
        "id": "c7dF5G40WC6e"
      }
    },
    {
      "cell_type": "code",
      "source": [
        "# diff_illness_df = illness_df.diff()\n",
        "# diff_exchange_df = exchange_df.diff()"
      ],
      "metadata": {
        "id": "hhf3XPX0WDJD"
      },
      "execution_count": null,
      "outputs": []
    },
    {
      "cell_type": "markdown",
      "source": [
        "## Cointegration function"
      ],
      "metadata": {
        "id": "T9ubkm4dYDjC"
      }
    },
    {
      "cell_type": "code",
      "source": [
        "# Illness data\n",
        "cointegration_test_func(illness_df)"
      ],
      "metadata": {
        "colab": {
          "base_uri": "https://localhost:8080/"
        },
        "id": "rO0cyYBZYC2a",
        "outputId": "4ed62326-bbb5-4174-bba6-c69c2556d8cf"
      },
      "execution_count": 19,
      "outputs": [
        {
          "output_type": "stream",
          "name": "stdout",
          "text": [
            "Column_Name  >  Test_Stat  >  C(95%)  =>  Signif  \n",
            " --------------------------------------------------\n",
            "% WEIGHTED ILI   >   458.26      >   111.7797   =>  True\n",
            "%UNWEIGHTED ILI   >   325.58      >   83.9383    =>  True\n",
            "AGE 0-4   >   205.26      >   60.0627    =>  True\n",
            "AGE 5-24   >   125.75      >   40.1749    =>  True\n",
            "ILITOTAL   >   50.57       >   24.2761    =>  True\n",
            "NUM. OF PROVIDERS   >   11.38       >   12.3212    =>  False\n",
            "OT       >   0.13        >   4.1296     =>  False\n"
          ]
        }
      ]
    },
    {
      "cell_type": "code",
      "source": [
        "# Exchange data\n",
        "cointegration_test_func(exchange_df)"
      ],
      "metadata": {
        "id": "QHFA8tK3YNN2"
      },
      "execution_count": null,
      "outputs": []
    },
    {
      "cell_type": "markdown",
      "source": [
        "# Hybrid model\n"
      ],
      "metadata": {
        "id": "pEGPqe5Zp40q"
      }
    },
    {
      "cell_type": "markdown",
      "source": [
        "## VARMA"
      ],
      "metadata": {
        "id": "lDlk-MQ9pz6p"
      }
    },
    {
      "cell_type": "markdown",
      "source": [
        "### Grid Search"
      ],
      "metadata": {
        "id": "8tP824mAYu7_"
      }
    },
    {
      "cell_type": "code",
      "source": [
        "'''\n",
        "Parts of the following code were derived and adapted from here: https://michael-fuchs-python.netlify.app/2020/10/29/time-series-analysis-regression-extension-techniques-for-forecasting-multivariate-variables/ and https://github.com/Apress/hands-on-time-series-analylsis-python/blob/master/Chapter%204/8.%20VARMA%20with%20Gird%20Search.ipynb \n",
        "The code provided by https://github.com/Apress/hands-on-time-series-analylsis-python is licensed under the Freeware License, some rights reserved, Copyright (c) 2020 B V Vishwas and Ashish Patel.\n",
        "Please take a look at the LICENSE file for more information: https://github.com/Apress/hands-on-time-series-analylsis-python/blob/master/LICENSE.txt\n",
        "'''\n",
        "# Define param space\n",
        "param_grid = {'p': [1,2,3], 'q':[1,2,3]}\n",
        "pq = list(ParameterGrid(param_grid))\n",
        "\n",
        "def find_optimal_params(train, test):\n",
        "  '''\n",
        "    Grid search function that iterates params cofnigurations and calculates the loss of each VARMA model.\n",
        "    \n",
        "    Args:\n",
        "        train (pd.Dataframe): Training data for the model\n",
        "        test (pd.Dataframe): Test data for the model\n",
        "    \n",
        "    Returns:\n",
        "        (p, q), a list of the optimal params\n",
        "\n",
        "  ''' \n",
        "  df_results = pd.DataFrame(columns=['p', 'q','mae','mse'])\n",
        "  print('Starting grid search...')\n",
        "  for i, pq_dict in enumerate(pq):\n",
        "      # Get params and fit model\n",
        "      p = pq_dict.get('p')\n",
        "      q = pq_dict.get('q')\n",
        "      fitted_model = VARMAX(train, order=(p,q)).fit()\n",
        "      forecast_test = fitted_model.forecast(len(test))\n",
        "   # End of the code adapted by https://michael-fuchs-python.netlify.app/2020/10/29/time-series-analysis-regression-extension-techniques-for-forecasting-multivariate-variables/ and https://github.com/Apress/hands-on-time-series-analylsis-python\n",
        "      # Calculate loss\n",
        "      mae = mean_absolute_error(test, forecast_test)\n",
        "      df_results = df_results.append({'p': p, 'q': q, 'mae': mae}, ignore_index=True)\n",
        "\n",
        "  return list(df_results.sort_values('mae', ascending=True)[['p', 'q']].iloc[0])"
      ],
      "metadata": {
        "id": "a3Q0HcBwYkrb"
      },
      "execution_count": null,
      "outputs": []
    },
    {
      "cell_type": "markdown",
      "source": [
        "### Training and test function"
      ],
      "metadata": {
        "id": "QhdgRzliw-9b"
      }
    },
    {
      "cell_type": "code",
      "source": [
        "def train_test_varma(Xy, data_name):\n",
        "  '''\n",
        "    Function to train and test VARMA models for a number of prediction lengths.\n",
        "    \n",
        "    Args:\n",
        "        Xy (pd.Dataframe): Training and test data for the model\n",
        "        data_name (str): Name of dataset used\n",
        "    \n",
        "    Returns:\n",
        "        summary_df, a pd.DataFrame that summarizes the metrics of all VARMA runs\n",
        "        result_df, a pd.DataFrame that adds the forecast and residuals to the original dataframe\n",
        "  ''' \n",
        "  print(f\"Starting training...\")\n",
        "  summary_df = pd.DataFrame(columns=['Run','MAE', 'MSE'])\n",
        "  results_df = Xy.copy()\n",
        "\n",
        "  if  data_name==\"ILI\":\n",
        "     pred_lens = [24, 36, 48, 60]\n",
        "  else:\n",
        "     pred_lens = [96, 192, 336, 720]\n",
        "\n",
        "  for pred_len in pred_lens:\n",
        "\n",
        "    # Split into Train and Test data based on pred len\n",
        "    X, y = Xy[0:-pred_len], Xy[-pred_len:]\n",
        "    print(f\"Fitting model (pred_len={pred_len})...\")\n",
        "\n",
        "    # Find optimal parameters and fit model\n",
        "    optimal_order = find_optimal_params(X, y)\n",
        "    print(f\"Found optimal params={optimal_order})...\")\n",
        "    var_model = VARMAX(X, order=(optimal_order[0], optimal_order[1]))\n",
        "    fitted_model = var_model.fit()\n",
        "\n",
        "    print(f\"Testing model (pred_len={pred_len})...\")\n",
        "    # Forecast model\n",
        "    forecast_test = fitted_model.forecast(len(y))\n",
        "    results_df['forecast_' + str(pred_len)] = [None]*len(X) + list(forecast_test['OT'])\n",
        "    results_df['residuals_' + str(pred_len)] = pd.concat([fitted_model.resid['OT'], y['OT'] - forecast_test['OT']], axis = 0)\n",
        "\n",
        "    # Calculate metrics\n",
        "    mae = mean_absolute_error(y['OT'], forecast_test['OT'])\n",
        "    mse = mean_squared_error(y['OT'], forecast_test['OT'])\n",
        "    summary_df = summary_df.append({'Run': f'VARMA_{data_name}_{pred_len}', 'MAE': mae, \"MSE\": mse}, ignore_index=True)\n",
        "\n",
        "    summary = f'VARMA:\\n data={data_name} \\n pred_len={pred_len} \\n order={optimal_order} \\n mae={mae} \\n mse={mse}'\n",
        "\n",
        "    #with open(f\"summary_VARMA_raw_{data_name}_{pred_len}.txt\", \"w\") as text_file:\n",
        "     # text_file.write(summary)\n",
        "\n",
        "    print(summary)\n",
        "\n",
        "  #results_df.to_csv(f\"results_VARMA_raw_{data_name}.csv\", index=False)\n",
        "\n",
        "  print(\"Training done...\")\n",
        "\n",
        "  return summary_df, results_df"
      ],
      "metadata": {
        "id": "l_10ZdcSw-EM"
      },
      "execution_count": null,
      "outputs": []
    },
    {
      "cell_type": "markdown",
      "source": [
        "### Run VARMA models for ILI and Exchange data"
      ],
      "metadata": {
        "id": "BoHVCgoHfLPx"
      }
    },
    {
      "cell_type": "code",
      "source": [
        "ILI_summary_df, ILI_results_df = train_test_varma(illness_df, \"ILI\")\n",
        "Exchange_summary_df, Exchange_results_df = train_test_varma(exchange_df, \"Exchange\")"
      ],
      "metadata": {
        "id": "tO0fz_NDbx5J"
      },
      "execution_count": null,
      "outputs": []
    },
    {
      "cell_type": "markdown",
      "source": [
        "### Save residuals"
      ],
      "metadata": {
        "id": "nPcb403WeWsQ"
      }
    },
    {
      "cell_type": "code",
      "source": [
        "# Add best residuals to ILI data\n",
        "ILI_results_df['date'] = illness_df.index\n",
        "ILI_residuals_df = ILI_results_df[['date', '% WEIGHTED ILI', '%UNWEIGHTED ILI', 'AGE 0-4', 'AGE 5-24', 'ILITOTAL', 'NUM. OF PROVIDERS', 'residuals_24', 'OT']].rename(columns={'residuals_24': 'RESIDUALS'})\n",
        "\n",
        "# Save new ILI dataframe\n",
        "ILI_residuals_df.to_csv(\"national_illness_VARMA_Residuals.csv\", index=False)\n",
        "\n",
        "# Add best residuals to Exchange data\n",
        "Exchange_results_df['date'] = exchange_df.index\n",
        "Exchange_residuals_df = Exchange_results_df[['date', '0', '1', '2', '3', '4', '5', '6', 'residuals_192', 'OT']].rename(columns={'residuals_192': 'RESIDUALS'})\n",
        "\n",
        "# Save new Exchange dataframe\n",
        "Exchange_residuals_df.to_csv(\"exchange_rate_VARMA_Residuals.csv\", index=False)"
      ],
      "metadata": {
        "id": "359GFjo_eWF1"
      },
      "execution_count": null,
      "outputs": []
    },
    {
      "cell_type": "markdown",
      "source": [
        "## Transformer"
      ],
      "metadata": {
        "id": "9gQfZ4D_p1Ip"
      }
    },
    {
      "cell_type": "code",
      "source": [
        "%cd /content/Time-Series-Library"
      ],
      "metadata": {
        "id": "j2VMXC5RyfSL"
      },
      "execution_count": null,
      "outputs": []
    },
    {
      "cell_type": "code",
      "source": [
        "%cd /content/PatchTST/PatchTST_supervised"
      ],
      "metadata": {
        "id": "e4i0YKxLyi8s"
      },
      "execution_count": null,
      "outputs": []
    },
    {
      "cell_type": "code",
      "source": [
        "!git stash"
      ],
      "metadata": {
        "id": "ZoWDF6v5yllA"
      },
      "execution_count": null,
      "outputs": []
    },
    {
      "cell_type": "code",
      "source": [
        "!git pull"
      ],
      "metadata": {
        "id": "OrUYHN30ymlj"
      },
      "execution_count": null,
      "outputs": []
    },
    {
      "cell_type": "code",
      "source": [
        "!git status"
      ],
      "metadata": {
        "id": "zKljfpqzyrIb"
      },
      "execution_count": null,
      "outputs": []
    },
    {
      "cell_type": "markdown",
      "source": [
        "### ILI data"
      ],
      "metadata": {
        "id": "-Bu0bkZXxgJi"
      }
    },
    {
      "cell_type": "code",
      "source": [
        "%cd /content/Time-Series-Library"
      ],
      "metadata": {
        "id": "3q8xaXxOyN6V"
      },
      "execution_count": null,
      "outputs": []
    },
    {
      "cell_type": "code",
      "source": [
        "!pip install -r requirements.txt"
      ],
      "metadata": {
        "id": "qZucvQDqyQ56"
      },
      "execution_count": null,
      "outputs": []
    },
    {
      "cell_type": "code",
      "source": [
        "# Autoformer - Illness\n",
        "print(f'\\nRunning Model with pred_len 24...')\n",
        "!python run.py --task_name 'long_term_forecast' --is_training 1 --model_id 'ili_36_24' --model 'Autoformer' --data 'custom' --root_path './dataset/illness/' --data_path 'national_illness.csv' --features 'M' --target 'OT' --freq 'h' --checkpoints './checkpoints/' --seq_len 36 --label_len 18 --pred_len 24 --seasonal_patterns 'Monthly' --mask_rate 0.25 --anomaly_ratio 0.25 --top_k 5 --num_kernels 6 --enc_in 7 --dec_in 7 --c_out 7 --d_model 512 --n_heads 8 --e_layers 2 --d_layers 1 --d_ff 2048 --moving_avg 25 --factor 3 --dropout 0.1 --embed 'timeF' --activation 'gelu' --num_workers 10 --itr 1 --train_epochs 10 --batch_size 32 --patience 3 --learning_rate 0.0001 --des 'Exp' --loss 'MSE' --lradj 'type1' --devices '0,1,2,3' --p_hidden_layers 2\n",
        "print(f'\\nRunning Model with pred_len 36...')\n",
        "!python run.py --task_name 'long_term_forecast' --is_training 1 --model_id 'ili_36_36' --model 'Autoformer' --data 'custom' --root_path './dataset/illness/' --data_path 'national_illness.csv' --features 'M' --target 'OT' --freq 'h' --checkpoints './checkpoints/' --seq_len 36 --label_len 18 --pred_len 36 --seasonal_patterns  'Monthly' --mask_rate 0.25 --anomaly_ratio 0.25 --top_k 5 --num_kernels 6 --enc_in 7 --dec_in 7 --c_out 7 --d_model 512 --n_heads 8 --e_layers 2 --d_layers 1 --d_ff 2048 --moving_avg 25 --factor 3 --dropout 0.1 --embed 'timeF' --activation 'gelu' --num_workers 10 --itr 1 --train_epochs 10 --batch_size 32 --patience 3 --learning_rate 0.0001 --des 'Exp' --loss 'MSE' --lradj 'type1' --devices '0,1,2,3' --p_hidden_layers 2\n",
        "print(f'\\nRunning Model with pred_len 48...')\n",
        "!python run.py --task_name 'long_term_forecast' --is_training 1 --model_id 'ili_36_48' --model 'Autoformer' --data 'custom' --root_path './dataset/illness/' --data_path 'national_illness.csv' --features 'M' --target 'OT' --freq 'h' --checkpoints './checkpoints/' --seq_len 36 --label_len 18 --pred_len 48 --seasonal_patterns 'Monthly' --mask_rate 0.25 --anomaly_ratio 0.25 --top_k 5 --num_kernels 6 --enc_in 7 --dec_in 7 --c_out 7 --d_model 512 --n_heads 8 --e_layers 2 --d_layers 1 --d_ff 2048 --moving_avg 25 --factor 3 --dropout 0.1 --embed 'timeF' --activation 'gelu' --num_workers 10 --itr 1 --train_epochs 10 --batch_size 32 --patience 3 --learning_rate 0.0001 --des 'Exp' --loss 'MSE' --lradj 'type1' --devices '0,1,2,3' --p_hidden_layers 2\n",
        "print(f'\\nRunning Model with pred_len 60...')\n",
        "!python run.py --task_name 'long_term_forecast' --is_training 1 --model_id 'ili_36_60' --model 'Autoformer' --data 'custom' --root_path './dataset/illness/' --data_path 'national_illness.csv' --features 'M' --target 'OT' --freq 'h' --checkpoints './checkpoints/' --seq_len 36 --label_len 18 --pred_len 60 --seasonal_patterns 'Monthly' --mask_rate 0.25 --anomaly_ratio 0.25 --top_k 5 --num_kernels 6 --enc_in 7 --dec_in 7 --c_out 7 --d_model 512 --n_heads 8 --e_layers 2 --d_layers 1 --d_ff 2048 --moving_avg 25 --factor 3 --dropout 0.1 --embed 'timeF' --activation 'gelu' --num_workers 10 --itr 1 --train_epochs 10 --batch_size 32 --patience 3 --learning_rate 0.0001 --des 'Exp' --loss 'MSE' --lradj 'type1' --devices '0,1,2,3' --p_hidden_layers 2\n"
      ],
      "metadata": {
        "id": "4A4ozsm-yUu9"
      },
      "execution_count": null,
      "outputs": []
    },
    {
      "cell_type": "code",
      "source": [
        "# Autoformer - Illness + VARMA Residuals\n",
        "print(f'\\nRunning Model with pred_len 24...')\n",
        "!python run.py --task_name 'long_term_forecast' --is_training 1 --model_id 'ili_36_24' --model 'Autoformer' --data 'custom' --root_path './dataset/illness/' --data_path 'national_illness_VARMA_Residuals.csv' --features 'M' --target 'OT' --freq 'h' --checkpoints './checkpoints/' --seq_len 36 --label_len 18 --pred_len 24 --seasonal_patterns 'Monthly' --mask_rate 0.25 --anomaly_ratio 0.25 --top_k 5 --num_kernels 6 --enc_in 8 --dec_in 8 --c_out 8 --d_model 512 --n_heads 8 --e_layers 2 --d_layers 1 --d_ff 2048 --moving_avg 25 --factor 3 --dropout 0.1 --embed 'timeF' --activation 'gelu' --num_workers 10 --itr 1 --train_epochs 10 --batch_size 32 --patience 3 --learning_rate 0.0001 --des 'Exp' --loss 'MSE' --lradj 'type1' --devices '0,1,2,3' --p_hidden_layers 2\n",
        "print(f'\\nRunning Model with pred_len 36...')\n",
        "!python run.py --task_name 'long_term_forecast' --is_training 1 --model_id 'ili_36_36' --model 'Autoformer' --data 'custom' --root_path './dataset/illness/' --data_path 'national_illness_VARMA_Residuals.csv' --features 'M' --target 'OT' --freq 'h' --checkpoints './checkpoints/' --seq_len 36 --label_len 18 --pred_len 36 --seasonal_patterns  'Monthly' --mask_rate 0.25 --anomaly_ratio 0.25 --top_k 5 --num_kernels 6 --enc_in 8 --dec_in 8 --c_out 8 --d_model 512 --n_heads 8 --e_layers 2 --d_layers 1 --d_ff 2048 --moving_avg 25 --factor 3 --dropout 0.1 --embed 'timeF' --activation 'gelu' --num_workers 10 --itr 1 --train_epochs 10 --batch_size 32 --patience 3 --learning_rate 0.0001 --des 'Exp' --loss 'MSE' --lradj 'type1' --devices '0,1,2,3' --p_hidden_layers 2\n",
        "print(f'\\nRunning Model with pred_len 48...')\n",
        "!python run.py --task_name 'long_term_forecast' --is_training 1 --model_id 'ili_36_48' --model 'Autoformer' --data 'custom' --root_path './dataset/illness/' --data_path 'national_illness_VARMA_Residuals.csv' --features 'M' --target 'OT' --freq 'h' --checkpoints './checkpoints/' --seq_len 36 --label_len 18 --pred_len 48 --seasonal_patterns 'Monthly' --mask_rate 0.25 --anomaly_ratio 0.25 --top_k 5 --num_kernels 6 --enc_in 8 --dec_in 8 --c_out 8 --d_model 512 --n_heads 8 --e_layers 2 --d_layers 1 --d_ff 2048 --moving_avg 25 --factor 3 --dropout 0.1 --embed 'timeF' --activation 'gelu' --num_workers 10 --itr 1 --train_epochs 10 --batch_size 32 --patience 3 --learning_rate 0.0001 --des 'Exp' --loss 'MSE' --lradj 'type1' --devices '0,1,2,3' --p_hidden_layers 2\n",
        "print(f'\\nRunning Model with pred_len 60...')\n",
        "!python run.py --task_name 'long_term_forecast' --is_training 1 --model_id 'ili_36_60' --model 'Autoformer' --data 'custom' --root_path './dataset/illness/' --data_path 'national_illness_VARMA_Residuals.csv' --features 'M' --target 'OT' --freq 'h' --checkpoints './checkpoints/' --seq_len 36 --label_len 18 --pred_len 60 --seasonal_patterns 'Monthly' --mask_rate 0.25 --anomaly_ratio 0.25 --top_k 5 --num_kernels 6 --enc_in 8 --dec_in 8 --c_out 8 --d_model 512 --n_heads 8 --e_layers 2 --d_layers 1 --d_ff 2048 --moving_avg 25 --factor 3 --dropout 0.1 --embed 'timeF' --activation 'gelu' --num_workers 10 --itr 1 --train_epochs 10 --batch_size 32 --patience 3 --learning_rate 0.0001 --des 'Exp' --loss 'MSE' --lradj 'type1' --devices '0,1,2,3' --p_hidden_layers 2\n"
      ],
      "metadata": {
        "id": "YP0Ll_8ZyVdm"
      },
      "execution_count": null,
      "outputs": []
    },
    {
      "cell_type": "code",
      "source": [
        "# FEDformer - Illness\n",
        "print(f'\\nRunning Model with pred_len 24...')\n",
        "!python run.py --task_name 'long_term_forecast' --is_training 1 --model_id 'ili_36_24' --model 'FEDformer' --data 'custom' --root_path './dataset/illness/' --data_path 'national_illness.csv' --features 'M' --target 'OT' --freq 'h' --checkpoints './checkpoints/' --seq_len 36 --label_len 18 --pred_len 24 --seasonal_patterns 'Monthly' --mask_rate 0.25 --anomaly_ratio 0.25 --top_k 5 --num_kernels 6 --enc_in 7 --dec_in 7 --c_out 7 --d_model 512 --n_heads 8 --e_layers 2 --d_layers 1 --d_ff 2048 --moving_avg 25 --factor 3 --dropout 0.1 --embed 'timeF' --activation 'gelu' --num_workers 10 --itr 1 --train_epochs 10 --batch_size 32 --patience 3 --learning_rate 0.0001 --des 'Exp' --loss 'MSE' --lradj 'type1' --devices '0,1,2,3' --p_hidden_layers 2\n",
        "print(f'\\nRunning Model with pred_len 36...')\n",
        "!python run.py --task_name 'long_term_forecast' --is_training 1 --model_id 'ili_36_36' --model 'FEDformer' --data 'custom' --root_path './dataset/illness/' --data_path 'national_illness.csv' --features 'M' --target 'OT' --freq 'h' --checkpoints './checkpoints/' --seq_len 36 --label_len 18 --pred_len 36 --seasonal_patterns  'Monthly' --mask_rate 0.25 --anomaly_ratio 0.25 --top_k 5 --num_kernels 6 --enc_in 7 --dec_in 7 --c_out 7 --d_model 512 --n_heads 8 --e_layers 2 --d_layers 1 --d_ff 2048 --moving_avg 25 --factor 3 --dropout 0.1 --embed 'timeF' --activation 'gelu' --num_workers 10 --itr 1 --train_epochs 10 --batch_size 32 --patience 3 --learning_rate 0.0001 --des 'Exp' --loss 'MSE' --lradj 'type1' --devices '0,1,2,3' --p_hidden_layers 2\n",
        "print(f'\\nRunning Model with pred_len 48...')\n",
        "!python run.py --task_name 'long_term_forecast' --is_training 1 --model_id 'ili_36_48' --model 'FEDformer' --data 'custom' --root_path './dataset/illness/' --data_path 'national_illness.csv' --features 'M' --target 'OT' --freq 'h' --checkpoints './checkpoints/' --seq_len 36 --label_len 18 --pred_len 48 --seasonal_patterns 'Monthly' --mask_rate 0.25 --anomaly_ratio 0.25 --top_k 5 --num_kernels 6 --enc_in 7 --dec_in 7 --c_out 7 --d_model 512 --n_heads 8 --e_layers 2 --d_layers 1 --d_ff 2048 --moving_avg 25 --factor 3 --dropout 0.1 --embed 'timeF' --activation 'gelu' --num_workers 10 --itr 1 --train_epochs 10 --batch_size 32 --patience 3 --learning_rate 0.0001 --des 'Exp' --loss 'MSE' --lradj 'type1' --devices '0,1,2,3' --p_hidden_layers 2\n",
        "print(f'\\nRunning Model with pred_len 60...')\n",
        "!python run.py --task_name 'long_term_forecast' --is_training 1 --model_id 'ili_36_60' --model 'FEDformer' --data 'custom' --root_path './dataset/illness/' --data_path 'national_illness.csv' --features 'M' --target 'OT' --freq 'h' --checkpoints './checkpoints/' --seq_len 36 --label_len 18 --pred_len 60 --seasonal_patterns 'Monthly' --mask_rate 0.25 --anomaly_ratio 0.25 --top_k 5 --num_kernels 6 --enc_in 7 --dec_in 7 --c_out 7 --d_model 512 --n_heads 8 --e_layers 2 --d_layers 1 --d_ff 2048 --moving_avg 25 --factor 3 --dropout 0.1 --embed 'timeF' --activation 'gelu' --num_workers 10 --itr 1 --train_epochs 10 --batch_size 32 --patience 3 --learning_rate 0.0001 --des 'Exp' --loss 'MSE' --lradj 'type1' --devices '0,1,2,3' --p_hidden_layers 2\n"
      ],
      "metadata": {
        "id": "6FjrFFwzyVg4"
      },
      "execution_count": null,
      "outputs": []
    },
    {
      "cell_type": "code",
      "source": [
        "# FEDformer - Illness + VARMA Residuals\n",
        "print(f'\\nRunning Model with pred_len 24...')\n",
        "!python run.py --task_name 'long_term_forecast' --is_training 1 --model_id 'ili_36_24' --model 'FEDformer' --data 'custom' --root_path './dataset/illness/' --data_path 'national_illness_VARMA_Residuals.csv' --features 'M' --target 'OT' --freq 'h' --checkpoints './checkpoints/' --seq_len 36 --label_len 18 --pred_len 24 --seasonal_patterns 'Monthly' --mask_rate 0.25 --anomaly_ratio 0.25 --top_k 5 --num_kernels 6 --enc_in 8 --dec_in 8 --c_out 8 --d_model 512 --n_heads 8 --e_layers 2 --d_layers 1 --d_ff 2048 --moving_avg 25 --factor 3 --dropout 0.1 --embed 'timeF' --activation 'gelu' --num_workers 10 --itr 1 --train_epochs 10 --batch_size 32 --patience 3 --learning_rate 0.0001 --des 'Exp' --loss 'MSE' --lradj 'type1' --devices '0,1,2,3' --p_hidden_layers 2\n",
        "print(f'\\nRunning Model with pred_len 36...')\n",
        "!python run.py --task_name 'long_term_forecast' --is_training 1 --model_id 'ili_36_36' --model 'FEDformer' --data 'custom' --root_path './dataset/illness/' --data_path 'national_illness_VARMA_Residuals.csv' --features 'M' --target 'OT' --freq 'h' --checkpoints './checkpoints/' --seq_len 36 --label_len 18 --pred_len 36 --seasonal_patterns  'Monthly' --mask_rate 0.25 --anomaly_ratio 0.25 --top_k 5 --num_kernels 6 --enc_in 8 --dec_in 8 --c_out 8 --d_model 512 --n_heads 8 --e_layers 2 --d_layers 1 --d_ff 2048 --moving_avg 25 --factor 3 --dropout 0.1 --embed 'timeF' --activation 'gelu' --num_workers 10 --itr 1 --train_epochs 10 --batch_size 32 --patience 3 --learning_rate 0.0001 --des 'Exp' --loss 'MSE' --lradj 'type1' --devices '0,1,2,3' --p_hidden_layers 2\n",
        "print(f'\\nRunning Model with pred_len 48...')\n",
        "!python run.py --task_name 'long_term_forecast' --is_training 1 --model_id 'ili_36_48' --model 'FEDformer' --data 'custom' --root_path './dataset/illness/' --data_path 'national_illness_VARMA_Residuals.csv' --features 'M' --target 'OT' --freq 'h' --checkpoints './checkpoints/' --seq_len 36 --label_len 18 --pred_len 48 --seasonal_patterns 'Monthly' --mask_rate 0.25 --anomaly_ratio 0.25 --top_k 5 --num_kernels 6 --enc_in 8 --dec_in 8 --c_out 8 --d_model 512 --n_heads 8 --e_layers 2 --d_layers 1 --d_ff 2048 --moving_avg 25 --factor 3 --dropout 0.1 --embed 'timeF' --activation 'gelu' --num_workers 10 --itr 1 --train_epochs 10 --batch_size 32 --patience 3 --learning_rate 0.0001 --des 'Exp' --loss 'MSE' --lradj 'type1' --devices '0,1,2,3' --p_hidden_layers 2\n",
        "print(f'\\nRunning Model with pred_len 60...')\n",
        "!python run.py --task_name 'long_term_forecast' --is_training 1 --model_id 'ili_36_60' --model 'FEDformer' --data 'custom' --root_path './dataset/illness/' --data_path 'national_illness_VARMA_Residuals.csv' --features 'M' --target 'OT' --freq 'h' --checkpoints './checkpoints/' --seq_len 36 --label_len 18 --pred_len 60 --seasonal_patterns 'Monthly' --mask_rate 0.25 --anomaly_ratio 0.25 --top_k 5 --num_kernels 6 --enc_in 8 --dec_in 8 --c_out 8 --d_model 512 --n_heads 8 --e_layers 2 --d_layers 1 --d_ff 2048 --moving_avg 25 --factor 3 --dropout 0.1 --embed 'timeF' --activation 'gelu' --num_workers 10 --itr 1 --train_epochs 10 --batch_size 32 --patience 3 --learning_rate 0.0001 --des 'Exp' --loss 'MSE' --lradj 'type1' --devices '0,1,2,3' --p_hidden_layers 2\n"
      ],
      "metadata": {
        "id": "Pb-m7LMVyVkx"
      },
      "execution_count": null,
      "outputs": []
    },
    {
      "cell_type": "code",
      "source": [
        "# Pyraformer - Illness\n",
        "print(f'\\nRunning Model with pred_len 24...')\n",
        "!python run.py --task_name 'long_term_forecast' --is_training 1 --model_id 'ili_36_24' --model 'Pyraformer' --data 'custom' --root_path './dataset/illness/' --data_path 'national_illness.csv' --features 'M' --target 'OT' --freq 'h' --checkpoints './checkpoints/' --seq_len 36 --label_len 18 --pred_len 24 --seasonal_patterns 'Monthly' --mask_rate 0.25 --anomaly_ratio 0.25 --top_k 5 --num_kernels 6 --enc_in 7 --dec_in 7 --c_out 7 --d_model 512 --n_heads 8 --e_layers 2 --d_layers 1 --d_ff 2048 --moving_avg 25 --factor 3 --dropout 0.1 --embed 'timeF' --activation 'gelu' --num_workers 10 --itr 1 --train_epochs 10 --batch_size 32 --patience 3 --learning_rate 0.0001 --des 'Exp' --loss 'MSE' --lradj 'type1' --devices '0,1,2,3' --p_hidden_layers 2\n",
        "print(f'\\nRunning Model with pred_len 36...')\n",
        "!python run.py --task_name 'long_term_forecast' --is_training 1 --model_id 'ili_36_36' --model 'Pyraformer' --data 'custom' --root_path './dataset/illness/' --data_path 'national_illness.csv' --features 'M' --target 'OT' --freq 'h' --checkpoints './checkpoints/' --seq_len 36 --label_len 18 --pred_len 36 --seasonal_patterns  'Monthly' --mask_rate 0.25 --anomaly_ratio 0.25 --top_k 5 --num_kernels 6 --enc_in 7 --dec_in 7 --c_out 7 --d_model 512 --n_heads 8 --e_layers 2 --d_layers 1 --d_ff 2048 --moving_avg 25 --factor 3 --dropout 0.1 --embed 'timeF' --activation 'gelu' --num_workers 10 --itr 1 --train_epochs 10 --batch_size 32 --patience 3 --learning_rate 0.0001 --des 'Exp' --loss 'MSE' --lradj 'type1' --devices '0,1,2,3' --p_hidden_layers 2\n",
        "print(f'\\nRunning Model with pred_len 48...')\n",
        "!python run.py --task_name 'long_term_forecast' --is_training 1 --model_id 'ili_36_48' --model 'Pyraformer' --data 'custom' --root_path './dataset/illness/' --data_path 'national_illness.csv' --features 'M' --target 'OT' --freq 'h' --checkpoints './checkpoints/' --seq_len 36 --label_len 18 --pred_len 48 --seasonal_patterns 'Monthly' --mask_rate 0.25 --anomaly_ratio 0.25 --top_k 5 --num_kernels 6 --enc_in 7 --dec_in 7 --c_out 7 --d_model 512 --n_heads 8 --e_layers 2 --d_layers 1 --d_ff 2048 --moving_avg 25 --factor 3 --dropout 0.1 --embed 'timeF' --activation 'gelu' --num_workers 10 --itr 1 --train_epochs 10 --batch_size 32 --patience 3 --learning_rate 0.0001 --des 'Exp' --loss 'MSE' --lradj 'type1' --devices '0,1,2,3' --p_hidden_layers 2\n",
        "print(f'\\nRunning Model with pred_len 60...')\n",
        "!python run.py --task_name 'long_term_forecast' --is_training 1 --model_id 'ili_36_60' --model 'Pyraformer' --data 'custom' --root_path './dataset/illness/' --data_path 'national_illness.csv' --features 'M' --target 'OT' --freq 'h' --checkpoints './checkpoints/' --seq_len 36 --label_len 18 --pred_len 60 --seasonal_patterns 'Monthly' --mask_rate 0.25 --anomaly_ratio 0.25 --top_k 5 --num_kernels 6 --enc_in 7 --dec_in 7 --c_out 7 --d_model 512 --n_heads 8 --e_layers 2 --d_layers 1 --d_ff 2048 --moving_avg 25 --factor 3 --dropout 0.1 --embed 'timeF' --activation 'gelu' --num_workers 10 --itr 1 --train_epochs 10 --batch_size 32 --patience 3 --learning_rate 0.0001 --des 'Exp' --loss 'MSE' --lradj 'type1' --devices '0,1,2,3' --p_hidden_layers 2\n"
      ],
      "metadata": {
        "id": "Rl5Koi0wyVmP"
      },
      "execution_count": null,
      "outputs": []
    },
    {
      "cell_type": "code",
      "source": [
        "# Pyraformer - Illness + VARMA Residuals\n",
        "print(f'\\nRunning Model with pred_len 24...')\n",
        "!python run.py --task_name 'long_term_forecast' --is_training 1 --model_id 'ili_36_24' --model 'Pyraformer' --data 'custom' --root_path './dataset/illness/' --data_path 'national_illness_VARMA_Residuals.csv' --features 'M' --target 'OT' --freq 'h' --checkpoints './checkpoints/' --seq_len 36 --label_len 18 --pred_len 24 --seasonal_patterns 'Monthly' --mask_rate 0.25 --anomaly_ratio 0.25 --top_k 5 --num_kernels 6 --enc_in 8 --dec_in 8 --c_out 8 --d_model 512 --n_heads 8 --e_layers 2 --d_layers 1 --d_ff 2048 --moving_avg 25 --factor 3 --dropout 0.1 --embed 'timeF' --activation 'gelu' --num_workers 10 --itr 1 --train_epochs 10 --batch_size 32 --patience 3 --learning_rate 0.0001 --des 'Exp' --loss 'MSE' --lradj 'type1' --devices '0,1,2,3' --p_hidden_layers 2\n",
        "print(f'\\nRunning Model with pred_len 36...')\n",
        "!python run.py --task_name 'long_term_forecast' --is_training 1 --model_id 'ili_36_36' --model 'Pyraformer' --data 'custom' --root_path './dataset/illness/' --data_path 'national_illness_VARMA_Residuals.csv' --features 'M' --target 'OT' --freq 'h' --checkpoints './checkpoints/' --seq_len 36 --label_len 18 --pred_len 36 --seasonal_patterns  'Monthly' --mask_rate 0.25 --anomaly_ratio 0.25 --top_k 5 --num_kernels 6 --enc_in 8 --dec_in 8 --c_out 8 --d_model 512 --n_heads 8 --e_layers 2 --d_layers 1 --d_ff 2048 --moving_avg 25 --factor 3 --dropout 0.1 --embed 'timeF' --activation 'gelu' --num_workers 10 --itr 1 --train_epochs 10 --batch_size 32 --patience 3 --learning_rate 0.0001 --des 'Exp' --loss 'MSE' --lradj 'type1' --devices '0,1,2,3' --p_hidden_layers 2\n",
        "print(f'\\nRunning Model with pred_len 48...')\n",
        "!python run.py --task_name 'long_term_forecast' --is_training 1 --model_id 'ili_36_48' --model 'Pyraformer' --data 'custom' --root_path './dataset/illness/' --data_path 'national_illness_VARMA_Residuals.csv' --features 'M' --target 'OT' --freq 'h' --checkpoints './checkpoints/' --seq_len 36 --label_len 18 --pred_len 48 --seasonal_patterns 'Monthly' --mask_rate 0.25 --anomaly_ratio 0.25 --top_k 5 --num_kernels 6 --enc_in 8 --dec_in 8 --c_out 8 --d_model 512 --n_heads 8 --e_layers 2 --d_layers 1 --d_ff 2048 --moving_avg 25 --factor 3 --dropout 0.1 --embed 'timeF' --activation 'gelu' --num_workers 10 --itr 1 --train_epochs 10 --batch_size 32 --patience 3 --learning_rate 0.0001 --des 'Exp' --loss 'MSE' --lradj 'type1' --devices '0,1,2,3' --p_hidden_layers 2\n",
        "print(f'\\nRunning Model with pred_len 60...')\n",
        "!python run.py --task_name 'long_term_forecast' --is_training 1 --model_id 'ili_36_60' --model 'Pyraformer' --data 'custom' --root_path './dataset/illness/' --data_path 'national_illness_VARMA_Residuals.csv' --features 'M' --target 'OT' --freq 'h' --checkpoints './checkpoints/' --seq_len 36 --label_len 18 --pred_len 60 --seasonal_patterns 'Monthly' --mask_rate 0.25 --anomaly_ratio 0.25 --top_k 5 --num_kernels 6 --enc_in 8 --dec_in 8 --c_out 8 --d_model 512 --n_heads 8 --e_layers 2 --d_layers 1 --d_ff 2048 --moving_avg 25 --factor 3 --dropout 0.1 --embed 'timeF' --activation 'gelu' --num_workers 10 --itr 1 --train_epochs 10 --batch_size 32 --patience 3 --learning_rate 0.0001 --des 'Exp' --loss 'MSE' --lradj 'type1' --devices '0,1,2,3' --p_hidden_layers 2\n"
      ],
      "metadata": {
        "id": "vX0OOoTTyahl"
      },
      "execution_count": null,
      "outputs": []
    },
    {
      "cell_type": "code",
      "source": [
        "# Crossformer - Illness\n",
        "print(f'\\nRunning Model with pred_len 24...')\n",
        "!python run.py --task_name 'long_term_forecast' --is_training 1 --model_id 'ili_36_24' --model 'Crossformer' --data 'custom' --root_path './dataset/illness/' --data_path 'national_illness.csv' --features 'M' --target 'OT' --freq 'h' --checkpoints './checkpoints/' --seq_len 36 --label_len 18 --pred_len 24 --seasonal_patterns 'Monthly' --mask_rate 0.25 --anomaly_ratio 0.25 --top_k 5 --num_kernels 6 --enc_in 7 --dec_in 7 --c_out 7 --d_model 512 --n_heads 8 --e_layers 2 --d_layers 1 --d_ff 2048 --moving_avg 25 --factor 3 --dropout 0.1 --embed 'timeF' --activation 'gelu' --num_workers 10 --itr 1 --train_epochs 10 --batch_size 32 --patience 3 --learning_rate 0.0001 --des 'Exp' --loss 'MSE' --lradj 'type1' --devices '0,1,2,3' --p_hidden_layers 2\n",
        "print(f'\\nRunning Model with pred_len 36...')\n",
        "!python run.py --task_name 'long_term_forecast' --is_training 1 --model_id 'ili_36_36' --model 'Crossformer' --data 'custom' --root_path './dataset/illness/' --data_path 'national_illness.csv' --features 'M' --target 'OT' --freq 'h' --checkpoints './checkpoints/' --seq_len 36 --label_len 18 --pred_len 36 --seasonal_patterns  'Monthly' --mask_rate 0.25 --anomaly_ratio 0.25 --top_k 5 --num_kernels 6 --enc_in 7 --dec_in 7 --c_out 7 --d_model 512 --n_heads 8 --e_layers 2 --d_layers 1 --d_ff 2048 --moving_avg 25 --factor 3 --dropout 0.1 --embed 'timeF' --activation 'gelu' --num_workers 10 --itr 1 --train_epochs 10 --batch_size 32 --patience 3 --learning_rate 0.0001 --des 'Exp' --loss 'MSE' --lradj 'type1' --devices '0,1,2,3' --p_hidden_layers 2\n",
        "print(f'\\nRunning Model with pred_len 48...')\n",
        "!python run.py --task_name 'long_term_forecast' --is_training 1 --model_id 'ili_36_48' --model 'Crossformer' --data 'custom' --root_path './dataset/illness/' --data_path 'national_illness.csv' --features 'M' --target 'OT' --freq 'h' --checkpoints './checkpoints/' --seq_len 36 --label_len 18 --pred_len 48 --seasonal_patterns 'Monthly' --mask_rate 0.25 --anomaly_ratio 0.25 --top_k 5 --num_kernels 6 --enc_in 7 --dec_in 7 --c_out 7 --d_model 512 --n_heads 8 --e_layers 2 --d_layers 1 --d_ff 2048 --moving_avg 25 --factor 3 --dropout 0.1 --embed 'timeF' --activation 'gelu' --num_workers 10 --itr 1 --train_epochs 10 --batch_size 32 --patience 3 --learning_rate 0.0001 --des 'Exp' --loss 'MSE' --lradj 'type1' --devices '0,1,2,3' --p_hidden_layers 2\n",
        "print(f'\\nRunning Model with pred_len 60...')\n",
        "!python run.py --task_name 'long_term_forecast' --is_training 1 --model_id 'ili_36_60' --model 'Crossformer' --data 'custom' --root_path './dataset/illness/' --data_path 'national_illness.csv' --features 'M' --target 'OT' --freq 'h' --checkpoints './checkpoints/' --seq_len 36 --label_len 18 --pred_len 60 --seasonal_patterns 'Monthly' --mask_rate 0.25 --anomaly_ratio 0.25 --top_k 5 --num_kernels 6 --enc_in 7 --dec_in 7 --c_out 7 --d_model 512 --n_heads 8 --e_layers 2 --d_layers 1 --d_ff 2048 --moving_avg 25 --factor 3 --dropout 0.1 --embed 'timeF' --activation 'gelu' --num_workers 10 --itr 1 --train_epochs 10 --batch_size 32 --patience 3 --learning_rate 0.0001 --des 'Exp' --loss 'MSE' --lradj 'type1' --devices '0,1,2,3' --p_hidden_layers 2\n"
      ],
      "metadata": {
        "id": "5Hfi7GVqyakM"
      },
      "execution_count": null,
      "outputs": []
    },
    {
      "cell_type": "code",
      "source": [
        "# Crossformer - Illness + VARMA Residuals\n",
        "print(f'\\nRunning Model with pred_len 24...')\n",
        "!python run.py --task_name 'long_term_forecast' --is_training 1 --model_id 'ili_36_24' --model 'Crossformer' --data 'custom' --root_path './dataset/illness/' --data_path 'national_illness_VARMA_Residuals.csv' --features 'M' --target 'OT' --freq 'h' --checkpoints './checkpoints/' --seq_len 36 --label_len 18 --pred_len 24 --seasonal_patterns 'Monthly' --mask_rate 0.25 --anomaly_ratio 0.25 --top_k 5 --num_kernels 6 --enc_in 8 --dec_in 8 --c_out 8 --d_model 512 --n_heads 8 --e_layers 2 --d_layers 1 --d_ff 2048 --moving_avg 25 --factor 3 --dropout 0.1 --embed 'timeF' --activation 'gelu' --num_workers 10 --itr 1 --train_epochs 10 --batch_size 32 --patience 3 --learning_rate 0.0001 --des 'Exp' --loss 'MSE' --lradj 'type1' --devices '0,1,2,3' --p_hidden_layers 2\n",
        "print(f'\\nRunning Model with pred_len 36...')\n",
        "!python run.py --task_name 'long_term_forecast' --is_training 1 --model_id 'ili_36_36' --model 'Crossformer' --data 'custom' --root_path './dataset/illness/' --data_path 'national_illness_VARMA_Residuals.csv' --features 'M' --target 'OT' --freq 'h' --checkpoints './checkpoints/' --seq_len 36 --label_len 18 --pred_len 36 --seasonal_patterns  'Monthly' --mask_rate 0.25 --anomaly_ratio 0.25 --top_k 5 --num_kernels 6 --enc_in 8 --dec_in 8 --c_out 8 --d_model 512 --n_heads 8 --e_layers 2 --d_layers 1 --d_ff 2048 --moving_avg 25 --factor 3 --dropout 0.1 --embed 'timeF' --activation 'gelu' --num_workers 10 --itr 1 --train_epochs 10 --batch_size 32 --patience 3 --learning_rate 0.0001 --des 'Exp' --loss 'MSE' --lradj 'type1' --devices '0,1,2,3' --p_hidden_layers 2\n",
        "print(f'\\nRunning Model with pred_len 48...')\n",
        "!python run.py --task_name 'long_term_forecast' --is_training 1 --model_id 'ili_36_48' --model 'Crossformer' --data 'custom' --root_path './dataset/illness/' --data_path 'national_illness_VARMA_Residuals.csv' --features 'M' --target 'OT' --freq 'h' --checkpoints './checkpoints/' --seq_len 36 --label_len 18 --pred_len 48 --seasonal_patterns 'Monthly' --mask_rate 0.25 --anomaly_ratio 0.25 --top_k 5 --num_kernels 6 --enc_in 8 --dec_in 8 --c_out 8 --d_model 512 --n_heads 8 --e_layers 2 --d_layers 1 --d_ff 2048 --moving_avg 25 --factor 3 --dropout 0.1 --embed 'timeF' --activation 'gelu' --num_workers 10 --itr 1 --train_epochs 10 --batch_size 32 --patience 3 --learning_rate 0.0001 --des 'Exp' --loss 'MSE' --lradj 'type1' --devices '0,1,2,3' --p_hidden_layers 2\n",
        "print(f'\\nRunning Model with pred_len 60...')\n",
        "!python run.py --task_name 'long_term_forecast' --is_training 1 --model_id 'ili_36_60' --model 'Crossformer' --data 'custom' --root_path './dataset/illness/' --data_path 'national_illness_VARMA_Residuals.csv' --features 'M' --target 'OT' --freq 'h' --checkpoints './checkpoints/' --seq_len 36 --label_len 18 --pred_len 60 --seasonal_patterns 'Monthly' --mask_rate 0.25 --anomaly_ratio 0.25 --top_k 5 --num_kernels 6 --enc_in 8 --dec_in 8 --c_out 8 --d_model 512 --n_heads 8 --e_layers 2 --d_layers 1 --d_ff 2048 --moving_avg 25 --factor 3 --dropout 0.1 --embed 'timeF' --activation 'gelu' --num_workers 10 --itr 1 --train_epochs 10 --batch_size 32 --patience 3 --learning_rate 0.0001 --des 'Exp' --loss 'MSE' --lradj 'type1' --devices '0,1,2,3' --p_hidden_layers 2\n"
      ],
      "metadata": {
        "id": "bBUK3rC2yam8"
      },
      "execution_count": null,
      "outputs": []
    },
    {
      "cell_type": "code",
      "source": [
        "%cd /content/PatchTST/PatchTST_supervised"
      ],
      "metadata": {
        "id": "ddSPZMjHyFzF"
      },
      "execution_count": null,
      "outputs": []
    },
    {
      "cell_type": "code",
      "source": [
        "# PatchTST - Illness\n",
        "!sh /content/PatchTST/PatchTST_supervised/scripts/PatchTST/illness.sh"
      ],
      "metadata": {
        "id": "15hgajUdp2f5"
      },
      "execution_count": null,
      "outputs": []
    },
    {
      "cell_type": "code",
      "source": [
        "# PatchTST - Illness + VARMA Residuals\n",
        "!sh /content/PatchTST/PatchTST_supervised/scripts/PatchTST/illness_residuals.sh"
      ],
      "metadata": {
        "id": "zXzY-JI_yDFS"
      },
      "execution_count": null,
      "outputs": []
    },
    {
      "cell_type": "markdown",
      "source": [
        "### Exchange data"
      ],
      "metadata": {
        "id": "kGYjIkcqxjex"
      }
    },
    {
      "cell_type": "code",
      "source": [
        "%cd /content/Time-Series-Library"
      ],
      "metadata": {
        "id": "Efn9GoDByJUG"
      },
      "execution_count": null,
      "outputs": []
    },
    {
      "cell_type": "code",
      "source": [
        "# Autoformer - Exchange\n",
        "print(f'\\nRunning Model with pred_len 96...')\n",
        "!python run.py --task_name 'long_term_forecast' --is_training 1 --model_id 'Exchange_96_96' --model 'Autoformer' --data 'custom' --root_path './dataset/exchange_rate/' --data_path 'exchange_rate.csv' --features 'M' --target 'OT' --freq 'h' --checkpoints './checkpoints/' --seq_len 96 --label_len 48 --pred_len 96 --seasonal_patterns 'Monthly' --mask_rate 0.25 --anomaly_ratio 0.25 --top_k 5 --num_kernels 6 --enc_in 8 --dec_in 8 --c_out 8 --d_model 512 --n_heads 8 --e_layers 2 --d_layers 1 --d_ff 2048 --moving_avg 25 --factor 3 --dropout 0.1 --embed 'timeF' --activation 'gelu' --num_workers 10 --itr 1 --train_epochs 10 --batch_size 32 --patience 3 --learning_rate 0.0001 --des 'Exp' --loss 'MSE' --lradj 'type1' --devices '0,1,2,3' --p_hidden_layers 2\n",
        "print(f'\\nRunning Model with pred_len 192...')\n",
        "!python run.py --task_name 'long_term_forecast' --is_training 1 --model_id 'Exchange_96_192' --model 'Autoformer' --data 'custom' --root_path './dataset/exchange_rate/' --data_path 'exchange_rate.csv' --features 'M' --target 'OT' --freq 'h' --checkpoints './checkpoints/' --seq_len 96 --label_len 48 --pred_len 192 --seasonal_patterns  'Monthly' --mask_rate 0.25 --anomaly_ratio 0.25 --top_k 5 --num_kernels 6 --enc_in 8 --dec_in 8 --c_out 8 --d_model 512 --n_heads 8 --e_layers 2 --d_layers 1 --d_ff 2048 --moving_avg 25 --factor 3 --dropout 0.1 --embed 'timeF' --activation 'gelu' --num_workers 10 --itr 1 --train_epochs 10 --batch_size 32 --patience 3 --learning_rate 0.0001 --des 'Exp' --loss 'MSE' --lradj 'type1' --devices '0,1,2,3' --p_hidden_layers 2\n",
        "print(f'\\nRunning Model with pred_len 336...')\n",
        "!python run.py --task_name 'long_term_forecast' --is_training 1 --model_id 'Exchange_96_336' --model 'Autoformer' --data 'custom' --root_path './dataset/exchange_rate/' --data_path 'exchange_rate.csv' --features 'M' --target 'OT' --freq 'h' --checkpoints './checkpoints/' --seq_len 96 --label_len 48 --pred_len 336 --seasonal_patterns 'Monthly' --mask_rate 0.25 --anomaly_ratio 0.25 --top_k 5 --num_kernels 6 --enc_in 8 --dec_in 8 --c_out 8 --d_model 512 --n_heads 8 --e_layers 2 --d_layers 1 --d_ff 2048 --moving_avg 25 --factor 3 --dropout 0.1 --embed 'timeF' --activation 'gelu' --num_workers 10 --itr 1 --train_epochs 10 --batch_size 32 --patience 3 --learning_rate 0.0001 --des 'Exp' --loss 'MSE' --lradj 'type1' --devices '0,1,2,3' --p_hidden_layers 2\n",
        "print(f'\\nRunning Model with pred_len 720...')\n",
        "!python run.py --task_name 'long_term_forecast' --is_training 1 --model_id 'Exchange_96_720' --model 'Autoformer' --data 'custom' --root_path './dataset/exchange_rate/' --data_path 'exchange_rate.csv' --features 'M' --target 'OT' --freq 'h' --checkpoints './checkpoints/' --seq_len 96 --label_len 48 --pred_len 720 --seasonal_patterns 'Monthly' --mask_rate 0.25 --anomaly_ratio 0.25 --top_k 5 --num_kernels 6 --enc_in 8 --dec_in 8 --c_out 8 --d_model 512 --n_heads 8 --e_layers 2 --d_layers 1 --d_ff 2048 --moving_avg 25 --factor 3 --dropout 0.1 --embed 'timeF' --activation 'gelu' --num_workers 10 --itr 1 --train_epochs 10 --batch_size 32 --patience 3 --learning_rate 0.0001 --des 'Exp' --loss 'MSE' --lradj 'type1' --devices '0,1,2,3' --p_hidden_layers 2\n"
      ],
      "metadata": {
        "id": "hOuC9cSc_ssJ"
      },
      "execution_count": null,
      "outputs": []
    },
    {
      "cell_type": "code",
      "source": [
        "# Autoformer - Exchange + VARMA Residuals\n",
        "print(f'\\nRunning Model with pred_len 96...')\n",
        "!python run.py --task_name 'long_term_forecast' --is_training 1 --model_id 'Exchange_96_96' --model 'Autoformer' --data 'custom' --root_path './dataset/exchange_rate/' --data_path 'exchange_rate_VARMA_Residuals.csv' --features 'M' --target 'OT' --freq 'h' --checkpoints './checkpoints/' --seq_len 96 --label_len 48 --pred_len 96 --seasonal_patterns 'Monthly' --mask_rate 0.25 --anomaly_ratio 0.25 --top_k 5 --num_kernels 6 --enc_in 9 --dec_in 9 --c_out 9 --d_model 512 --n_heads 8 --e_layers 2 --d_layers 1 --d_ff 2048 --moving_avg 25 --factor 3 --dropout 0.1 --embed 'timeF' --activation 'gelu' --num_workers 10 --itr 1 --train_epochs 10 --batch_size 32 --patience 3 --learning_rate 0.0001 --des 'Exp' --loss 'MSE' --lradj 'type1' --devices '0,1,2,3' --p_hidden_layers 2\n",
        "print(f'\\nRunning Model with pred_len 192...')\n",
        "!python run.py --task_name 'long_term_forecast' --is_training 1 --model_id 'Exchange_96_192' --model 'Autoformer' --data 'custom' --root_path './dataset/exchange_rate/' --data_path 'exchange_rate_VARMA_Residuals.csv' --features 'M' --target 'OT' --freq 'h' --checkpoints './checkpoints/' --seq_len 96 --label_len 48 --pred_len 192 --seasonal_patterns  'Monthly' --mask_rate 0.25 --anomaly_ratio 0.25 --top_k 5 --num_kernels 6 --enc_in 9 --dec_in 9 --c_out 9 --d_model 512 --n_heads 8 --e_layers 2 --d_layers 1 --d_ff 2048 --moving_avg 25 --factor 3 --dropout 0.1 --embed 'timeF' --activation 'gelu' --num_workers 10 --itr 1 --train_epochs 10 --batch_size 32 --patience 3 --learning_rate 0.0001 --des 'Exp' --loss 'MSE' --lradj 'type1' --devices '0,1,2,3' --p_hidden_layers 2\n",
        "print(f'\\nRunning Model with pred_len 336...')\n",
        "!python run.py --task_name 'long_term_forecast' --is_training 1 --model_id 'Exchange_96_336' --model 'Autoformer' --data 'custom' --root_path './dataset/exchange_rate/' --data_path 'exchange_rate_VARMA_Residuals.csv' --features 'M' --target 'OT' --freq 'h' --checkpoints './checkpoints/' --seq_len 96 --label_len 48 --pred_len 336 --seasonal_patterns 'Monthly' --mask_rate 0.25 --anomaly_ratio 0.25 --top_k 5 --num_kernels 6 --enc_in 9 --dec_in 9 --c_out 9 --d_model 512 --n_heads 8 --e_layers 2 --d_layers 1 --d_ff 2048 --moving_avg 25 --factor 3 --dropout 0.1 --embed 'timeF' --activation 'gelu' --num_workers 10 --itr 1 --train_epochs 10 --batch_size 32 --patience 3 --learning_rate 0.0001 --des 'Exp' --loss 'MSE' --lradj 'type1' --devices '0,1,2,3' --p_hidden_layers 2\n",
        "print(f'\\nRunning Model with pred_len 720...')\n",
        "!python run.py --task_name 'long_term_forecast' --is_training 1 --model_id 'Exchange_96_720' --model 'Autoformer' --data 'custom' --root_path './dataset/exchange_rate/' --data_path 'exchange_rate_VARMA_Residuals.csv' --features 'M' --target 'OT' --freq 'h' --checkpoints './checkpoints/' --seq_len 96 --label_len 48 --pred_len 720 --seasonal_patterns 'Monthly' --mask_rate 0.25 --anomaly_ratio 0.25 --top_k 5 --num_kernels 6 --enc_in 9 --dec_in 9 --c_out 9 --d_model 512 --n_heads 8 --e_layers 2 --d_layers 1 --d_ff 2048 --moving_avg 25 --factor 3 --dropout 0.1 --embed 'timeF' --activation 'gelu' --num_workers 10 --itr 1 --train_epochs 10 --batch_size 32 --patience 3 --learning_rate 0.0001 --des 'Exp' --loss 'MSE' --lradj 'type1' --devices '0,1,2,3' --p_hidden_layers 2\n"
      ],
      "metadata": {
        "id": "RE0DujuYxqQx"
      },
      "execution_count": null,
      "outputs": []
    },
    {
      "cell_type": "code",
      "source": [
        "# FEDformer - Exchange\n",
        "print(f'\\nRunning Model with pred_len 96...')\n",
        "!python run.py --task_name 'long_term_forecast' --is_training 1 --model_id 'Exchange_96_96' --model 'FEDformer' --data 'custom' --root_path './dataset/exchange_rate/' --data_path 'exchange_rate.csv' --features 'M' --target 'OT' --freq 'h' --checkpoints './checkpoints/' --seq_len 96 --label_len 48 --pred_len 96 --seasonal_patterns 'Monthly' --mask_rate 0.25 --anomaly_ratio 0.25 --top_k 5 --num_kernels 6 --enc_in 8 --dec_in 8 --c_out 8 --d_model 512 --n_heads 8 --e_layers 2 --d_layers 1 --d_ff 2048 --moving_avg 25 --factor 3 --dropout 0.1 --embed 'timeF' --activation 'gelu' --num_workers 10 --itr 1 --train_epochs 10 --batch_size 32 --patience 3 --learning_rate 0.0001 --des 'Exp' --loss 'MSE' --lradj 'type1' --devices '0,1,2,3' --p_hidden_layers 2\n",
        "print(f'\\nRunning Model with pred_len 192...')\n",
        "!python run.py --task_name 'long_term_forecast' --is_training 1 --model_id 'Exchange_96_192' --model 'FEDformer' --data 'custom' --root_path './dataset/exchange_rate/' --data_path 'exchange_rate.csv' --features 'M' --target 'OT' --freq 'h' --checkpoints './checkpoints/' --seq_len 96 --label_len 48 --pred_len 192 --seasonal_patterns  'Monthly' --mask_rate 0.25 --anomaly_ratio 0.25 --top_k 5 --num_kernels 6 --enc_in 8 --dec_in 8 --c_out 8 --d_model 512 --n_heads 8 --e_layers 2 --d_layers 1 --d_ff 2048 --moving_avg 25 --factor 3 --dropout 0.1 --embed 'timeF' --activation 'gelu' --num_workers 10 --itr 1 --train_epochs 10 --batch_size 32 --patience 3 --learning_rate 0.0001 --des 'Exp' --loss 'MSE' --lradj 'type1' --devices '0,1,2,3' --p_hidden_layers 2\n",
        "print(f'\\nRunning Model with pred_len 336...')\n",
        "!python run.py --task_name 'long_term_forecast' --is_training 1 --model_id 'Exchange_96_336' --model 'FEDformer' --data 'custom' --root_path './dataset/exchange_rate/' --data_path 'exchange_rate.csv' --features 'M' --target 'OT' --freq 'h' --checkpoints './checkpoints/' --seq_len 96 --label_len 48 --pred_len 336 --seasonal_patterns 'Monthly' --mask_rate 0.25 --anomaly_ratio 0.25 --top_k 5 --num_kernels 6 --enc_in 8 --dec_in 8 --c_out 8 --d_model 512 --n_heads 8 --e_layers 2 --d_layers 1 --d_ff 2048 --moving_avg 25 --factor 3 --dropout 0.1 --embed 'timeF' --activation 'gelu' --num_workers 10 --itr 1 --train_epochs 10 --batch_size 32 --patience 3 --learning_rate 0.0001 --des 'Exp' --loss 'MSE' --lradj 'type1' --devices '0,1,2,3' --p_hidden_layers 2\n",
        "print(f'\\nRunning Model with pred_len 720...')\n",
        "!python run.py --task_name 'long_term_forecast' --is_training 1 --model_id 'Exchange_96_720' --model 'FEDformer' --data 'custom' --root_path './dataset/exchange_rate/' --data_path 'exchange_rate.csv' --features 'M' --target 'OT' --freq 'h' --checkpoints './checkpoints/' --seq_len 96 --label_len 48 --pred_len 720 --seasonal_patterns 'Monthly' --mask_rate 0.25 --anomaly_ratio 0.25 --top_k 5 --num_kernels 6 --enc_in 8 --dec_in 8 --c_out 8 --d_model 512 --n_heads 8 --e_layers 2 --d_layers 1 --d_ff 2048 --moving_avg 25 --factor 3 --dropout 0.1 --embed 'timeF' --activation 'gelu' --num_workers 10 --itr 1 --train_epochs 10 --batch_size 32 --patience 3 --learning_rate 0.0001 --des 'Exp' --loss 'MSE' --lradj 'type1' --devices '0,1,2,3' --p_hidden_layers 2\n"
      ],
      "metadata": {
        "id": "iuk75UC9xs5m"
      },
      "execution_count": null,
      "outputs": []
    },
    {
      "cell_type": "code",
      "source": [
        "# FEDformer - Exchange + VARMA Residuals\n",
        "print(f'\\nRunning Model with pred_len 96...')\n",
        "!python run.py --task_name 'long_term_forecast' --is_training 1 --model_id 'Exchange_96_96' --model 'FEDformer' --data 'custom' --root_path './dataset/exchange_rate/' --data_path 'exchange_rate_VARMA_Residuals.csv' --features 'M' --target 'OT' --freq 'h' --checkpoints './checkpoints/' --seq_len 96 --label_len 48 --pred_len 96 --seasonal_patterns 'Monthly' --mask_rate 0.25 --anomaly_ratio 0.25 --top_k 5 --num_kernels 6 --enc_in 9 --dec_in 9 --c_out 9 --d_model 512 --n_heads 8 --e_layers 2 --d_layers 1 --d_ff 2048 --moving_avg 25 --factor 3 --dropout 0.1 --embed 'timeF' --activation 'gelu' --num_workers 10 --itr 1 --train_epochs 10 --batch_size 32 --patience 3 --learning_rate 0.0001 --des 'Exp' --loss 'MSE' --lradj 'type1' --devices '0,1,2,3' --p_hidden_layers 2\n",
        "print(f'\\nRunning Model with pred_len 192...')\n",
        "!python run.py --task_name 'long_term_forecast' --is_training 1 --model_id 'Exchange_96_192' --model 'FEDformer' --data 'custom' --root_path './dataset/exchange_rate/' --data_path 'exchange_rate_VARMA_Residuals.csv' --features 'M' --target 'OT' --freq 'h' --checkpoints './checkpoints/' --seq_len 96 --label_len 48 --pred_len 192 --seasonal_patterns  'Monthly' --mask_rate 0.25 --anomaly_ratio 0.25 --top_k 5 --num_kernels 6 --enc_in 9 --dec_in 9 --c_out 9 --d_model 512 --n_heads 8 --e_layers 2 --d_layers 1 --d_ff 2048 --moving_avg 25 --factor 3 --dropout 0.1 --embed 'timeF' --activation 'gelu' --num_workers 10 --itr 1 --train_epochs 10 --batch_size 32 --patience 3 --learning_rate 0.0001 --des 'Exp' --loss 'MSE' --lradj 'type1' --devices '0,1,2,3' --p_hidden_layers 2\n",
        "print(f'\\nRunning Model with pred_len 336...')\n",
        "!python run.py --task_name 'long_term_forecast' --is_training 1 --model_id 'Exchange_96_336' --model 'FEDformer' --data 'custom' --root_path './dataset/exchange_rate/' --data_path 'exchange_rate_VARMA_Residuals.csv' --features 'M' --target 'OT' --freq 'h' --checkpoints './checkpoints/' --seq_len 96 --label_len 48 --pred_len 336 --seasonal_patterns 'Monthly' --mask_rate 0.25 --anomaly_ratio 0.25 --top_k 5 --num_kernels 6 --enc_in 9 --dec_in 9 --c_out 9 --d_model 512 --n_heads 8 --e_layers 2 --d_layers 1 --d_ff 2048 --moving_avg 25 --factor 3 --dropout 0.1 --embed 'timeF' --activation 'gelu' --num_workers 10 --itr 1 --train_epochs 10 --batch_size 32 --patience 3 --learning_rate 0.0001 --des 'Exp' --loss 'MSE' --lradj 'type1' --devices '0,1,2,3' --p_hidden_layers 2\n",
        "print(f'\\nRunning Model with pred_len 720...')\n",
        "!python run.py --task_name 'long_term_forecast' --is_training 1 --model_id 'Exchange_96_720' --model 'FEDformer' --data 'custom' --root_path './dataset/exchange_rate/' --data_path 'exchange_rate_VARMA_Residuals.csv' --features 'M' --target 'OT' --freq 'h' --checkpoints './checkpoints/' --seq_len 96 --label_len 48 --pred_len 720 --seasonal_patterns 'Monthly' --mask_rate 0.25 --anomaly_ratio 0.25 --top_k 5 --num_kernels 6 --enc_in 9 --dec_in 9 --c_out 9 --d_model 512 --n_heads 8 --e_layers 2 --d_layers 1 --d_ff 2048 --moving_avg 25 --factor 3 --dropout 0.1 --embed 'timeF' --activation 'gelu' --num_workers 10 --itr 1 --train_epochs 10 --batch_size 32 --patience 3 --learning_rate 0.0001 --des 'Exp' --loss 'MSE' --lradj 'type1' --devices '0,1,2,3' --p_hidden_layers 2\n"
      ],
      "metadata": {
        "id": "0y6oL4vOxyE9"
      },
      "execution_count": null,
      "outputs": []
    },
    {
      "cell_type": "code",
      "source": [
        "# Pyraformer - Exchange\n",
        "print(f'\\nRunning Model with pred_len 96...')\n",
        "!python run.py --task_name 'long_term_forecast' --is_training 1 --model_id 'Exchange_96_96' --model 'Pyraformer' --data 'custom' --root_path './dataset/exchange_rate/' --data_path 'exchange_rate.csv' --features 'M' --target 'OT' --freq 'h' --checkpoints './checkpoints/' --seq_len 96 --label_len 48 --pred_len 96 --seasonal_patterns 'Monthly' --mask_rate 0.25 --anomaly_ratio 0.25 --top_k 5 --num_kernels 6 --enc_in 8 --dec_in 8 --c_out 8 --d_model 512 --n_heads 8 --e_layers 2 --d_layers 1 --d_ff 2048 --moving_avg 25 --factor 3 --dropout 0.1 --embed 'timeF' --activation 'gelu' --num_workers 10 --itr 1 --train_epochs 10 --batch_size 32 --patience 3 --learning_rate 0.0001 --des 'Exp' --loss 'MSE' --lradj 'type1' --devices '0,1,2,3' --p_hidden_layers 2\n",
        "print(f'\\nRunning Model with pred_len 192...')\n",
        "!python run.py --task_name 'long_term_forecast' --is_training 1 --model_id 'Exchange_96_192' --model 'Pyraformer' --data 'custom' --root_path './dataset/exchange_rate/' --data_path 'exchange_rate.csv' --features 'M' --target 'OT' --freq 'h' --checkpoints './checkpoints/' --seq_len 96 --label_len 48 --pred_len 192 --seasonal_patterns  'Monthly' --mask_rate 0.25 --anomaly_ratio 0.25 --top_k 5 --num_kernels 6 --enc_in 8 --dec_in 8 --c_out 8 --d_model 512 --n_heads 8 --e_layers 2 --d_layers 1 --d_ff 2048 --moving_avg 25 --factor 3 --dropout 0.1 --embed 'timeF' --activation 'gelu' --num_workers 10 --itr 1 --train_epochs 10 --batch_size 32 --patience 3 --learning_rate 0.0001 --des 'Exp' --loss 'MSE' --lradj 'type1' --devices '0,1,2,3' --p_hidden_layers 2\n",
        "print(f'\\nRunning Model with pred_len 336...')\n",
        "!python run.py --task_name 'long_term_forecast' --is_training 1 --model_id 'Exchange_96_336' --model 'Pyraformer' --data 'custom' --root_path './dataset/exchange_rate/' --data_path 'exchange_rate.csv' --features 'M' --target 'OT' --freq 'h' --checkpoints './checkpoints/' --seq_len 96 --label_len 48 --pred_len 336 --seasonal_patterns 'Monthly' --mask_rate 0.25 --anomaly_ratio 0.25 --top_k 5 --num_kernels 6 --enc_in 8 --dec_in 8 --c_out 8 --d_model 512 --n_heads 8 --e_layers 2 --d_layers 1 --d_ff 2048 --moving_avg 25 --factor 3 --dropout 0.1 --embed 'timeF' --activation 'gelu' --num_workers 10 --itr 1 --train_epochs 10 --batch_size 32 --patience 3 --learning_rate 0.0001 --des 'Exp' --loss 'MSE' --lradj 'type1' --devices '0,1,2,3' --p_hidden_layers 2\n",
        "print(f'\\nRunning Model with pred_len 720...')\n",
        "!python run.py --task_name 'long_term_forecast' --is_training 1 --model_id 'Exchange_96_720' --model 'Pyraformer' --data 'custom' --root_path './dataset/exchange_rate/' --data_path 'exchange_rate.csv' --features 'M' --target 'OT' --freq 'h' --checkpoints './checkpoints/' --seq_len 96 --label_len 48 --pred_len 720 --seasonal_patterns 'Monthly' --mask_rate 0.25 --anomaly_ratio 0.25 --top_k 5 --num_kernels 6 --enc_in 8 --dec_in 8 --c_out 8 --d_model 512 --n_heads 8 --e_layers 2 --d_layers 1 --d_ff 2048 --moving_avg 25 --factor 3 --dropout 0.1 --embed 'timeF' --activation 'gelu' --num_workers 10 --itr 1 --train_epochs 10 --batch_size 32 --patience 3 --learning_rate 0.0001 --des 'Exp' --loss 'MSE' --lradj 'type1' --devices '0,1,2,3' --p_hidden_layers 2\n"
      ],
      "metadata": {
        "id": "k_W4K55dx01r"
      },
      "execution_count": null,
      "outputs": []
    },
    {
      "cell_type": "code",
      "source": [
        "# Pyraformer - Exchange + VARMA Residuals\n",
        "print(f'\\nRunning Model with pred_len 96...')\n",
        "!python run.py --task_name 'long_term_forecast' --is_training 1 --model_id 'Exchange_96_96' --model 'Pyraformer' --data 'custom' --root_path './dataset/exchange_rate/' --data_path 'exchange_rate_VARMA_Residuals.csv' --features 'M' --target 'OT' --freq 'h' --checkpoints './checkpoints/' --seq_len 96 --label_len 48 --pred_len 96 --seasonal_patterns 'Monthly' --mask_rate 0.25 --anomaly_ratio 0.25 --top_k 5 --num_kernels 6 --enc_in 9 --dec_in 9 --c_out 9 --d_model 512 --n_heads 8 --e_layers 2 --d_layers 1 --d_ff 2048 --moving_avg 25 --factor 3 --dropout 0.1 --embed 'timeF' --activation 'gelu' --num_workers 10 --itr 1 --train_epochs 10 --batch_size 32 --patience 3 --learning_rate 0.0001 --des 'Exp' --loss 'MSE' --lradj 'type1' --devices '0,1,2,3' --p_hidden_layers 2\n",
        "print(f'\\nRunning Model with pred_len 192...')\n",
        "!python run.py --task_name 'long_term_forecast' --is_training 1 --model_id 'Exchange_96_192' --model 'Pyraformer' --data 'custom' --root_path './dataset/exchange_rate/' --data_path 'exchange_rate_VARMA_Residuals.csv' --features 'M' --target 'OT' --freq 'h' --checkpoints './checkpoints/' --seq_len 96 --label_len 48 --pred_len 192 --seasonal_patterns  'Monthly' --mask_rate 0.25 --anomaly_ratio 0.25 --top_k 5 --num_kernels 6 --enc_in 9 --dec_in 9 --c_out 9 --d_model 512 --n_heads 8 --e_layers 2 --d_layers 1 --d_ff 2048 --moving_avg 25 --factor 3 --dropout 0.1 --embed 'timeF' --activation 'gelu' --num_workers 10 --itr 1 --train_epochs 10 --batch_size 32 --patience 3 --learning_rate 0.0001 --des 'Exp' --loss 'MSE' --lradj 'type1' --devices '0,1,2,3' --p_hidden_layers 2\n",
        "print(f'\\nRunning Model with pred_len 336...')\n",
        "!python run.py --task_name 'long_term_forecast' --is_training 1 --model_id 'Exchange_96_336' --model 'Pyraformer' --data 'custom' --root_path './dataset/exchange_rate/' --data_path 'exchange_rate_VARMA_Residuals.csv' --features 'M' --target 'OT' --freq 'h' --checkpoints './checkpoints/' --seq_len 96 --label_len 48 --pred_len 336 --seasonal_patterns 'Monthly' --mask_rate 0.25 --anomaly_ratio 0.25 --top_k 5 --num_kernels 6 --enc_in 9 --dec_in 9 --c_out 9 --d_model 512 --n_heads 8 --e_layers 2 --d_layers 1 --d_ff 2048 --moving_avg 25 --factor 3 --dropout 0.1 --embed 'timeF' --activation 'gelu' --num_workers 10 --itr 1 --train_epochs 10 --batch_size 32 --patience 3 --learning_rate 0.0001 --des 'Exp' --loss 'MSE' --lradj 'type1' --devices '0,1,2,3' --p_hidden_layers 2\n",
        "print(f'\\nRunning Model with pred_len 720...')\n",
        "!python run.py --task_name 'long_term_forecast' --is_training 1 --model_id 'Exchange_96_720' --model 'Pyraformer' --data 'custom' --root_path './dataset/exchange_rate/' --data_path 'exchange_rate_VARMA_Residuals.csv' --features 'M' --target 'OT' --freq 'h' --checkpoints './checkpoints/' --seq_len 96 --label_len 48 --pred_len 720 --seasonal_patterns 'Monthly' --mask_rate 0.25 --anomaly_ratio 0.25 --top_k 5 --num_kernels 6 --enc_in 9 --dec_in 9 --c_out 9 --d_model 512 --n_heads 8 --e_layers 2 --d_layers 1 --d_ff 2048 --moving_avg 25 --factor 3 --dropout 0.1 --embed 'timeF' --activation 'gelu' --num_workers 10 --itr 1 --train_epochs 10 --batch_size 32 --patience 3 --learning_rate 0.0001 --des 'Exp' --loss 'MSE' --lradj 'type1' --devices '0,1,2,3' --p_hidden_layers 2\n"
      ],
      "metadata": {
        "id": "8RykQaG0x2TB"
      },
      "execution_count": null,
      "outputs": []
    },
    {
      "cell_type": "code",
      "source": [
        "# Crossformer - Exchange\n",
        "print(f'\\nRunning Model with pred_len 96...')\n",
        "!python run.py --task_name 'long_term_forecast' --is_training 1 --model_id 'Exchange_96_96' --model 'Crossformer' --data 'custom' --root_path './dataset/exchange_rate/' --data_path 'exchange_rate.csv' --features 'M' --target 'OT' --freq 'h' --checkpoints './checkpoints/' --seq_len 96 --label_len 48 --pred_len 96 --seasonal_patterns 'Monthly' --mask_rate 0.25 --anomaly_ratio 0.25 --top_k 5 --num_kernels 6 --enc_in 8 --dec_in 8 --c_out 8 --d_model 512 --n_heads 8 --e_layers 2 --d_layers 1 --d_ff 2048 --moving_avg 25 --factor 3 --dropout 0.1 --embed 'timeF' --activation 'gelu' --num_workers 10 --itr 1 --train_epochs 10 --batch_size 32 --patience 3 --learning_rate 0.0001 --des 'Exp' --loss 'MSE' --lradj 'type1' --devices '0,1,2,3' --p_hidden_layers 2\n",
        "print(f'\\nRunning Model with pred_len 192...')\n",
        "!python run.py --task_name 'long_term_forecast' --is_training 1 --model_id 'Exchange_96_192' --model 'Crossformer' --data 'custom' --root_path './dataset/exchange_rate/' --data_path 'exchange_rate.csv' --features 'M' --target 'OT' --freq 'h' --checkpoints './checkpoints/' --seq_len 96 --label_len 48 --pred_len 192 --seasonal_patterns  'Monthly' --mask_rate 0.25 --anomaly_ratio 0.25 --top_k 5 --num_kernels 6 --enc_in 8 --dec_in 8 --c_out 8 --d_model 512 --n_heads 8 --e_layers 2 --d_layers 1 --d_ff 2048 --moving_avg 25 --factor 3 --dropout 0.1 --embed 'timeF' --activation 'gelu' --num_workers 10 --itr 1 --train_epochs 10 --batch_size 32 --patience 3 --learning_rate 0.0001 --des 'Exp' --loss 'MSE' --lradj 'type1' --devices '0,1,2,3' --p_hidden_layers 2\n",
        "print(f'\\nRunning Model with pred_len 336...')\n",
        "!python run.py --task_name 'long_term_forecast' --is_training 1 --model_id 'Exchange_96_336' --model 'Crossformer' --data 'custom' --root_path './dataset/exchange_rate/' --data_path 'exchange_rate.csv' --features 'M' --target 'OT' --freq 'h' --checkpoints './checkpoints/' --seq_len 96 --label_len 48 --pred_len 336 --seasonal_patterns 'Monthly' --mask_rate 0.25 --anomaly_ratio 0.25 --top_k 5 --num_kernels 6 --enc_in 8 --dec_in 8 --c_out 8 --d_model 512 --n_heads 8 --e_layers 2 --d_layers 1 --d_ff 2048 --moving_avg 25 --factor 3 --dropout 0.1 --embed 'timeF' --activation 'gelu' --num_workers 10 --itr 1 --train_epochs 10 --batch_size 32 --patience 3 --learning_rate 0.0001 --des 'Exp' --loss 'MSE' --lradj 'type1' --devices '0,1,2,3' --p_hidden_layers 2\n",
        "print(f'\\nRunning Model with pred_len 720...')\n",
        "!python run.py --task_name 'long_term_forecast' --is_training 1 --model_id 'Exchange_96_720' --model 'Crossformer' --data 'custom' --root_path './dataset/exchange_rate/' --data_path 'exchange_rate.csv' --features 'M' --target 'OT' --freq 'h' --checkpoints './checkpoints/' --seq_len 96 --label_len 48 --pred_len 720 --seasonal_patterns 'Monthly' --mask_rate 0.25 --anomaly_ratio 0.25 --top_k 5 --num_kernels 6 --enc_in 8 --dec_in 8 --c_out 8 --d_model 512 --n_heads 8 --e_layers 2 --d_layers 1 --d_ff 2048 --moving_avg 25 --factor 3 --dropout 0.1 --embed 'timeF' --activation 'gelu' --num_workers 10 --itr 1 --train_epochs 10 --batch_size 32 --patience 3 --learning_rate 0.0001 --des 'Exp' --loss 'MSE' --lradj 'type1' --devices '0,1,2,3' --p_hidden_layers 2\n"
      ],
      "metadata": {
        "id": "6sJ1Kk3bx3wQ"
      },
      "execution_count": null,
      "outputs": []
    },
    {
      "cell_type": "code",
      "source": [
        "# Crossformer - Exchange + VARMA Residuals\n",
        "print(f'\\nRunning Model with pred_len 96...')\n",
        "!python run.py --task_name 'long_term_forecast' --is_training 1 --model_id 'Exchange_96_96' --model 'Crossformer' --data 'custom' --root_path './dataset/exchange_rate/' --data_path 'exchange_rate_VARMA_Residuals.csv' --features 'M' --target 'OT' --freq 'h' --checkpoints './checkpoints/' --seq_len 96 --label_len 48 --pred_len 96 --seasonal_patterns 'Monthly' --mask_rate 0.25 --anomaly_ratio 0.25 --top_k 5 --num_kernels 6 --enc_in 9 --dec_in 9 --c_out 9 --d_model 512 --n_heads 8 --e_layers 2 --d_layers 1 --d_ff 2048 --moving_avg 25 --factor 3 --dropout 0.1 --embed 'timeF' --activation 'gelu' --num_workers 10 --itr 1 --train_epochs 10 --batch_size 32 --patience 3 --learning_rate 0.0001 --des 'Exp' --loss 'MSE' --lradj 'type1' --devices '0,1,2,3' --p_hidden_layers 2\n",
        "print(f'\\nRunning Model with pred_len 192...')\n",
        "!python run.py --task_name 'long_term_forecast' --is_training 1 --model_id 'Exchange_96_192' --model 'Crossformer' --data 'custom' --root_path './dataset/exchange_rate/' --data_path 'exchange_rate_VARMA_Residuals.csv' --features 'M' --target 'OT' --freq 'h' --checkpoints './checkpoints/' --seq_len 96 --label_len 48 --pred_len 192 --seasonal_patterns  'Monthly' --mask_rate 0.25 --anomaly_ratio 0.25 --top_k 5 --num_kernels 6 --enc_in 9 --dec_in 9 --c_out 9 --d_model 512 --n_heads 8 --e_layers 2 --d_layers 1 --d_ff 2048 --moving_avg 25 --factor 3 --dropout 0.1 --embed 'timeF' --activation 'gelu' --num_workers 10 --itr 1 --train_epochs 10 --batch_size 32 --patience 3 --learning_rate 0.0001 --des 'Exp' --loss 'MSE' --lradj 'type1' --devices '0,1,2,3' --p_hidden_layers 2\n",
        "print(f'\\nRunning Model with pred_len 336...')\n",
        "!python run.py --task_name 'long_term_forecast' --is_training 1 --model_id 'Exchange_96_336' --model 'Crossformer' --data 'custom' --root_path './dataset/exchange_rate/' --data_path 'exchange_rate_VARMA_Residuals.csv' --features 'M' --target 'OT' --freq 'h' --checkpoints './checkpoints/' --seq_len 96 --label_len 48 --pred_len 336 --seasonal_patterns 'Monthly' --mask_rate 0.25 --anomaly_ratio 0.25 --top_k 5 --num_kernels 6 --enc_in 9 --dec_in 9 --c_out 9 --d_model 512 --n_heads 8 --e_layers 2 --d_layers 1 --d_ff 2048 --moving_avg 25 --factor 3 --dropout 0.1 --embed 'timeF' --activation 'gelu' --num_workers 10 --itr 1 --train_epochs 10 --batch_size 32 --patience 3 --learning_rate 0.0001 --des 'Exp' --loss 'MSE' --lradj 'type1' --devices '0,1,2,3' --p_hidden_layers 2\n",
        "print(f'\\nRunning Model with pred_len 720...')\n",
        "!python run.py --task_name 'long_term_forecast' --is_training 1 --model_id 'Exchange_96_720' --model 'Crossformer' --data 'custom' --root_path './dataset/exchange_rate/' --data_path 'exchange_rate_VARMA_Residuals.csv' --features 'M' --target 'OT' --freq 'h' --checkpoints './checkpoints/' --seq_len 96 --label_len 48 --pred_len 720 --seasonal_patterns 'Monthly' --mask_rate 0.25 --anomaly_ratio 0.25 --top_k 5 --num_kernels 6 --enc_in 9 --dec_in 9 --c_out 9 --d_model 512 --n_heads 8 --e_layers 2 --d_layers 1 --d_ff 2048 --moving_avg 25 --factor 3 --dropout 0.1 --embed 'timeF' --activation 'gelu' --num_workers 10 --itr 1 --train_epochs 10 --batch_size 32 --patience 3 --learning_rate 0.0001 --des 'Exp' --loss 'MSE' --lradj 'type1' --devices '0,1,2,3' --p_hidden_layers 2\n"
      ],
      "metadata": {
        "id": "cVkMrM0ox6SF"
      },
      "execution_count": null,
      "outputs": []
    },
    {
      "cell_type": "code",
      "source": [
        "%cd /content/PatchTST/PatchTST_supervised"
      ],
      "metadata": {
        "id": "sMK4b4kVyIF-"
      },
      "execution_count": null,
      "outputs": []
    },
    {
      "cell_type": "code",
      "source": [
        "# PatchTST - Exchange\n",
        "!sh /content/PatchTST/PatchTST_supervised/scripts/PatchTST/exchange.sh"
      ],
      "metadata": {
        "id": "ae_XLcuYx9wP"
      },
      "execution_count": null,
      "outputs": []
    },
    {
      "cell_type": "code",
      "source": [
        "# PatchTST - Exchange + VARMA Residuals\n",
        "!sh /content/PatchTST/PatchTST_supervised/scripts/PatchTST/exchange_residuals.sh"
      ],
      "metadata": {
        "id": "s4xk06AJx_Jm"
      },
      "execution_count": null,
      "outputs": []
    }
  ]
}