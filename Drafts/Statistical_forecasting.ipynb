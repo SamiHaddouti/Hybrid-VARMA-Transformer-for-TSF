{
  "cells": [
    {
      "cell_type": "code",
      "execution_count": null,
      "metadata": {
        "id": "5uS1YPQYXDa2"
      },
      "outputs": [],
      "source": [
        "import pandas as pd\n",
        "import numpy as np\n",
        "from sklearn.model_selection import train_test_split\n",
        "import matplotlib.pyplot as plt\n",
        "import pmdarima as pm\n",
        "from sklearn.metrics import mean_absolute_error, mean_absolute_percentage_error, mean_squared_error\n",
        "from statsmodels.tsa.stattools import adfuller\n",
        "from statsmodels.tsa.statespace.varmax import VARMAX\n",
        "from statsmodels.tsa.api import VAR\n",
        "from sklearn.model_selection import ParameterGrid\n",
        "from pmdarima import auto_arima"
      ]
    },
    {
      "cell_type": "code",
      "source": [
        "!pip install pmdarima"
      ],
      "metadata": {
        "colab": {
          "base_uri": "https://localhost:8080/"
        },
        "id": "I7fXpIjOhITD",
        "outputId": "71194b8d-81cf-47c1-9bfa-513bfee65aee"
      },
      "execution_count": null,
      "outputs": [
        {
          "output_type": "stream",
          "name": "stdout",
          "text": [
            "Looking in indexes: https://pypi.org/simple, https://us-python.pkg.dev/colab-wheels/public/simple/\n",
            "Collecting pmdarima\n",
            "  Downloading pmdarima-2.0.3-cp39-cp39-manylinux_2_17_x86_64.manylinux2014_x86_64.manylinux_2_28_x86_64.whl (1.9 MB)\n",
            "\u001b[2K     \u001b[90m━━━━━━━━━━━━━━━━━━━━━━━━━━━━━━━━━━━━━━━━\u001b[0m \u001b[32m1.9/1.9 MB\u001b[0m \u001b[31m19.2 MB/s\u001b[0m eta \u001b[36m0:00:00\u001b[0m\n",
            "\u001b[?25hRequirement already satisfied: numpy>=1.21.2 in /usr/local/lib/python3.9/dist-packages (from pmdarima) (1.22.4)\n",
            "Requirement already satisfied: scikit-learn>=0.22 in /usr/local/lib/python3.9/dist-packages (from pmdarima) (1.2.2)\n",
            "Requirement already satisfied: joblib>=0.11 in /usr/local/lib/python3.9/dist-packages (from pmdarima) (1.2.0)\n",
            "Requirement already satisfied: scipy>=1.3.2 in /usr/local/lib/python3.9/dist-packages (from pmdarima) (1.10.1)\n",
            "Requirement already satisfied: setuptools!=50.0.0,>=38.6.0 in /usr/local/lib/python3.9/dist-packages (from pmdarima) (67.6.1)\n",
            "Requirement already satisfied: urllib3 in /usr/local/lib/python3.9/dist-packages (from pmdarima) (1.26.15)\n",
            "Requirement already satisfied: statsmodels>=0.13.2 in /usr/local/lib/python3.9/dist-packages (from pmdarima) (0.13.5)\n",
            "Requirement already satisfied: Cython!=0.29.18,!=0.29.31,>=0.29 in /usr/local/lib/python3.9/dist-packages (from pmdarima) (0.29.34)\n",
            "Requirement already satisfied: pandas>=0.19 in /usr/local/lib/python3.9/dist-packages (from pmdarima) (1.5.3)\n",
            "Requirement already satisfied: python-dateutil>=2.8.1 in /usr/local/lib/python3.9/dist-packages (from pandas>=0.19->pmdarima) (2.8.2)\n",
            "Requirement already satisfied: pytz>=2020.1 in /usr/local/lib/python3.9/dist-packages (from pandas>=0.19->pmdarima) (2022.7.1)\n",
            "Requirement already satisfied: threadpoolctl>=2.0.0 in /usr/local/lib/python3.9/dist-packages (from scikit-learn>=0.22->pmdarima) (3.1.0)\n",
            "Requirement already satisfied: packaging>=21.3 in /usr/local/lib/python3.9/dist-packages (from statsmodels>=0.13.2->pmdarima) (23.0)\n",
            "Requirement already satisfied: patsy>=0.5.2 in /usr/local/lib/python3.9/dist-packages (from statsmodels>=0.13.2->pmdarima) (0.5.3)\n",
            "Requirement already satisfied: six in /usr/local/lib/python3.9/dist-packages (from patsy>=0.5.2->statsmodels>=0.13.2->pmdarima) (1.16.0)\n",
            "Installing collected packages: pmdarima\n",
            "Successfully installed pmdarima-2.0.3\n"
          ]
        }
      ]
    },
    {
      "cell_type": "code",
      "execution_count": null,
      "metadata": {
        "id": "ZXxdaX28XyVp"
      },
      "outputs": [],
      "source": [
        "#df = pd.read_csv(\"/content/exchange_rate.csv\")\n",
        "#df['date'] = pd.to_datetime(df['date'], utc=True)\n",
        "\n",
        "#\"national_illness\"\n",
        "\n",
        "data_name = \"exchange_rate\"\n",
        "\n",
        "df = pd.read_csv(f\"/content/{data_name}.csv\")\n",
        "df['date'] = pd.to_datetime(df['date'], utc=True)"
      ]
    },
    {
      "cell_type": "code",
      "execution_count": null,
      "metadata": {
        "colab": {
          "base_uri": "https://localhost:8080/"
        },
        "id": "G0QDeBKNZ5IM",
        "outputId": "91f6ff60-2119-4fc9-e914-2c24dc96f474"
      },
      "outputs": [
        {
          "name": "stdout",
          "output_type": "stream",
          "text": [
            "<class 'pandas.core.series.Series'>\n",
            "RangeIndex: 966 entries, 0 to 965\n",
            "Series name: OT\n",
            "Non-Null Count  Dtype\n",
            "--------------  -----\n",
            "966 non-null    int64\n",
            "dtypes: int64(1)\n",
            "memory usage: 7.7 KB\n"
          ]
        }
      ],
      "source": [
        "series = df['OT']\n",
        "series.info()"
      ]
    },
    {
      "cell_type": "code",
      "execution_count": null,
      "metadata": {
        "id": "P9JasIIsnobP"
      },
      "outputs": [],
      "source": [
        "train, test = train_test_split(series, test_size=0.2, random_state=123)"
      ]
    },
    {
      "cell_type": "markdown",
      "metadata": {
        "id": "HjWH5uKVozwO"
      },
      "source": [
        "## Test for stationarity"
      ]
    },
    {
      "cell_type": "code",
      "execution_count": null,
      "metadata": {
        "id": "nCHpHoZCoRFC"
      },
      "outputs": [],
      "source": [
        "from statsmodels.graphics.tsaplots import plot_acf, plot_pacf\n",
        "\n",
        "plot_acf(train)"
      ]
    },
    {
      "cell_type": "code",
      "execution_count": null,
      "metadata": {
        "id": "h9Ycq_A40LtV"
      },
      "outputs": [],
      "source": [
        "plot_pacf(train)"
      ]
    },
    {
      "cell_type": "code",
      "execution_count": null,
      "metadata": {
        "id": "f2c7S3lmiUzO"
      },
      "outputs": [],
      "source": [
        "plt.plot(series, color='blue')\n",
        "plt.xlabel('Date')\n",
        "plt.ylabel('Exchange rate')"
      ]
    },
    {
      "cell_type": "code",
      "execution_count": null,
      "metadata": {
        "colab": {
          "base_uri": "https://localhost:8080/"
        },
        "id": "nQK6YaiZo3Jq",
        "outputId": "2c6ea7e1-e248-4a12-d5b8-feb5defff37e"
      },
      "outputs": [
        {
          "name": "stdout",
          "output_type": "stream",
          "text": [
            "p-values: -13.346244339212594\n"
          ]
        }
      ],
      "source": [
        "from statsmodels.tsa.stattools import adfuller\n",
        "\n",
        "adf_test = adfuller(train)\n",
        "print(f\"p-values: {adf_test[0]}\")"
      ]
    },
    {
      "cell_type": "markdown",
      "metadata": {
        "id": "ThcDStJOXLUl"
      },
      "source": [
        "# Helper functions"
      ]
    },
    {
      "cell_type": "code",
      "execution_count": null,
      "metadata": {
        "id": "qOafFt95XNWV"
      },
      "outputs": [],
      "source": [
        "def Augmented_Dickey_Fuller_Test_func(series , column_name):\n",
        "    print (f'Results of Dickey-Fuller Test for column: {column_name}')\n",
        "    dftest = adfuller(series, autolag='AIC')\n",
        "    dfoutput = pd.Series(dftest[0:4], index=['Test Statistic','p-value','No Lags Used','Number of Observations Used'])\n",
        "    for key,value in dftest[4].items():\n",
        "       dfoutput['Critical Value (%s)'%key] = value\n",
        "    print (dfoutput)\n",
        "    if dftest[1] <= 0.05:\n",
        "        print(\"Conclusion:====>\")\n",
        "        print(\"Reject the null hypothesis\")\n",
        "        print(\"Data is stationary\")\n",
        "    else:\n",
        "        print(\"Conclusion:====>\")\n",
        "        print(\"Fail to reject the null hypothesis\")\n",
        "        print(\"Data is non-stationary\")"
      ]
    },
    {
      "cell_type": "markdown",
      "metadata": {
        "id": "kwChdFOZpvMX"
      },
      "source": [
        "## Fit model"
      ]
    },
    {
      "cell_type": "code",
      "execution_count": null,
      "metadata": {
        "id": "I7gwjp60i7Eh"
      },
      "outputs": [],
      "source": [
        "from statsmodels.tsa.arima.model import ARIMA\n",
        "\n",
        "model = ARIMA(train.values, order=(2,1,0))\n",
        "model_fit = model.fit()\n",
        "print(model_fit.summary())"
      ]
    },
    {
      "cell_type": "code",
      "execution_count": null,
      "metadata": {
        "id": "Hoev4mYhqGVf"
      },
      "outputs": [],
      "source": [
        "residuals = model_fit.resid\n",
        "res = pd.DataFrame(model_fit.resid)\n",
        "print(res.describe())\n",
        "plt.plot(residuals)"
      ]
    },
    {
      "cell_type": "code",
      "execution_count": null,
      "metadata": {
        "id": "FqJeAcnQjqzY"
      },
      "outputs": [],
      "source": [
        "forecast_test = model_fit.forecast(len(test))\n",
        "\n",
        "df['forecast'] = [None]*len(train) + list(forecast_test)\n",
        "\n",
        "forecast_df = df[['forecast', 'OT']]\n",
        "\n",
        "forecast_df.plot()\n"
      ]
    },
    {
      "cell_type": "code",
      "execution_count": null,
      "metadata": {
        "colab": {
          "base_uri": "https://localhost:8080/"
        },
        "id": "PsGVlSZ3tK4r",
        "outputId": "fb3e19b2-c718-4b21-e098-0bec6fd6a265"
      },
      "outputs": [
        {
          "data": {
            "text/plain": [
              "array([0.69129034, 0.69453622, 0.6792037 , ..., 0.68633803, 0.68633803,\n",
              "       0.68633803])"
            ]
          },
          "execution_count": 72,
          "metadata": {},
          "output_type": "execute_result"
        }
      ],
      "source": [
        "forecast_test"
      ]
    },
    {
      "cell_type": "markdown",
      "metadata": {
        "id": "jEd3-qU70-3u"
      },
      "source": [
        "## Auto Arima"
      ]
    },
    {
      "cell_type": "code",
      "execution_count": null,
      "metadata": {
        "id": "JwB1a1AWwM4X"
      },
      "outputs": [],
      "source": [
        "auto_arima = pm.auto_arima(train, stepwise=True, seasonal=True)\n",
        "auto_arima"
      ]
    },
    {
      "cell_type": "code",
      "execution_count": null,
      "metadata": {
        "id": "k7T-0Y7m1a5k"
      },
      "outputs": [],
      "source": [
        "forecast_test_auto = auto_arima.predict(n_periods=len(test))\n",
        "df['forecast_auto'] = [None]*len(train) + list(forecast_test_auto)\n",
        "\n",
        "forecast_df = df[['forecast_auto', 'OT']]\n",
        "\n",
        "forecast_df.plot()"
      ]
    },
    {
      "cell_type": "code",
      "execution_count": null,
      "metadata": {
        "id": "1RgSHpnG1uU9"
      },
      "outputs": [],
      "source": [
        "mae = mean_absolute_error(test, forecast_test)\n",
        "mape = mean_absolute_percentage_error(test, forecast_test)\n",
        "rmse = np.sqrt(mean_squared_error(test, forecast_test))\n",
        "\n",
        "print(f'mae - manual: {mae}')\n",
        "print(f'mape - manual: {mape}')\n",
        "print(f'rmse - manual: {rmse}')"
      ]
    },
    {
      "cell_type": "code",
      "execution_count": null,
      "metadata": {
        "id": "Co68bRcD2tqC"
      },
      "outputs": [],
      "source": [
        "mae = mean_absolute_error(test, forecast_test_auto)\n",
        "mape = mean_absolute_percentage_error(test, forecast_test_auto)\n",
        "rmse = np.sqrt(mean_squared_error(test, forecast_test_auto))\n",
        "\n",
        "print(f'mae - auto: {mae}')\n",
        "print(f'mape - auto: {mape}')\n",
        "print(f'rmse - auto: {rmse}')"
      ]
    },
    {
      "cell_type": "markdown",
      "metadata": {
        "id": "jnwMDJvyBwER"
      },
      "source": [
        "# Multivariate forecasting"
      ]
    },
    {
      "cell_type": "markdown",
      "metadata": {
        "id": "iys-JRtuB5Ep"
      },
      "source": [
        "## Pre-processing"
      ]
    },
    {
      "cell_type": "code",
      "execution_count": null,
      "metadata": {
        "id": "S_IanMLi862z"
      },
      "outputs": [],
      "source": [
        "Xy = df.set_index(\"date\")"
      ]
    },
    {
      "cell_type": "markdown",
      "metadata": {
        "id": "kyxXMezbCGbx"
      },
      "source": [
        "### Normalize"
      ]
    },
    {
      "cell_type": "code",
      "execution_count": null,
      "metadata": {
        "id": "YrnT_hLOB4I4"
      },
      "outputs": [],
      "source": [
        "avgs = Xy.mean()\n",
        "devs = Xy.std()"
      ]
    },
    {
      "cell_type": "code",
      "execution_count": null,
      "metadata": {
        "id": "dlpkmo3OCP-h"
      },
      "outputs": [],
      "source": [
        "for col in Xy.columns:\n",
        "    Xy[col] = (Xy[col] - avgs.loc[col]) / devs.loc[col]"
      ]
    },
    {
      "cell_type": "markdown",
      "metadata": {
        "id": "nB8WhMCTCcHE"
      },
      "source": [
        "### Remove Trend"
      ]
    },
    {
      "cell_type": "code",
      "execution_count": null,
      "metadata": {
        "id": "HrJPoL5cCgE8"
      },
      "outputs": [],
      "source": [
        "Xy = Xy.diff().dropna()"
      ]
    },
    {
      "cell_type": "code",
      "execution_count": null,
      "metadata": {
        "id": "daXy_7CYCqVn"
      },
      "outputs": [],
      "source": [
        "annual_volatility = Xy.groupby(Xy.index.year).std()"
      ]
    },
    {
      "cell_type": "code",
      "execution_count": null,
      "metadata": {
        "id": "N3HybcieDOO0"
      },
      "outputs": [],
      "source": [
        "Xy['0_annual_vol'] = Xy.index.map(lambda d: annual_volatility.loc[d.year, '0'])\n",
        "Xy['1_annual_vol'] = Xy.index.map(lambda d: annual_volatility.loc[d.year, '1'])\n",
        "Xy['2_annual_vol'] = Xy.index.map(lambda d: annual_volatility.loc[d.year, '2'])\n",
        "Xy['3_annual_vol'] = Xy.index.map(lambda d: annual_volatility.loc[d.year, '3'])\n",
        "Xy['4_annual_vol'] = Xy.index.map(lambda d: annual_volatility.loc[d.year, '4'])\n",
        "Xy['5_annual_vol'] = Xy.index.map(lambda d: annual_volatility.loc[d.year, '5'])\n",
        "Xy['6_annual_vol'] = Xy.index.map(lambda d: annual_volatility.loc[d.year, '6'])\n",
        "Xy['OT_annual_vol'] = Xy.index.map(lambda d: annual_volatility.loc[d.year, 'OT'])"
      ]
    },
    {
      "cell_type": "code",
      "execution_count": null,
      "metadata": {
        "id": "87HgvvIpDqfz"
      },
      "outputs": [],
      "source": [
        "Xy['0'] = Xy['0'] / Xy['0_annual_vol']\n",
        "Xy['1'] = Xy['1'] / Xy['1_annual_vol']\n",
        "Xy['2'] = Xy['2'] / Xy['2_annual_vol']\n",
        "Xy['3'] = Xy['3'] / Xy['3_annual_vol']\n",
        "Xy['4'] = Xy['4'] / Xy['4_annual_vol']\n",
        "Xy['5'] = Xy['5'] / Xy['5_annual_vol']\n",
        "Xy['6'] = Xy['6'] / Xy['6_annual_vol']\n",
        "Xy['OT'] = Xy['OT'] / Xy['OT_annual_vol']"
      ]
    },
    {
      "cell_type": "code",
      "execution_count": null,
      "metadata": {
        "id": "HtzXkiJfEElP"
      },
      "outputs": [],
      "source": [
        "month_avgs = Xy.groupby(Xy.index.month).mean()"
      ]
    },
    {
      "cell_type": "code",
      "execution_count": null,
      "metadata": {
        "id": "n8nehECUEKYN"
      },
      "outputs": [],
      "source": [
        "Xy['0_month_avg'] = Xy.index.map(lambda d: month_avgs.loc[d.month, '0'])\n",
        "Xy['1_month_avg'] = Xy.index.map(lambda d: month_avgs.loc[d.month, '1'])\n",
        "Xy['2_month_avg'] = Xy.index.map(lambda d: month_avgs.loc[d.month, '2'])\n",
        "Xy['3_month_avg'] = Xy.index.map(lambda d: month_avgs.loc[d.month, '3'])\n",
        "Xy['4_month_avg'] = Xy.index.map(lambda d: month_avgs.loc[d.month, '4'])\n",
        "Xy['5_month_avg'] = Xy.index.map(lambda d: month_avgs.loc[d.month, '5'])\n",
        "Xy['6_month_avg'] = Xy.index.map(lambda d: month_avgs.loc[d.month, '6'])\n",
        "Xy['OT_month_avg'] = Xy.index.map(lambda d: month_avgs.loc[d.month, 'OT'])"
      ]
    },
    {
      "cell_type": "code",
      "execution_count": null,
      "metadata": {
        "id": "px8xKL7-EMAv"
      },
      "outputs": [],
      "source": [
        "Xy['0'] = Xy['0'] - Xy['0_month_avg']\n",
        "Xy['1'] = Xy['1'] - Xy['1_month_avg']\n",
        "Xy['2'] = Xy['2'] - Xy['2_month_avg']\n",
        "Xy['3'] = Xy['3'] - Xy['3_month_avg']\n",
        "Xy['4'] = Xy['4'] - Xy['4_month_avg']\n",
        "Xy['5'] = Xy['5'] - Xy['5_month_avg']\n",
        "Xy['6'] = Xy['6'] - Xy['6_month_avg']\n",
        "Xy['OT'] = Xy['OT'] - Xy['OT_month_avg']"
      ]
    },
    {
      "cell_type": "code",
      "execution_count": null,
      "metadata": {
        "id": "Kwt4puiKEwDE"
      },
      "outputs": [],
      "source": [
        "Xy = Xy[['0', '1', '2', '3', '4', '5', '6', 'OT']]"
      ]
    },
    {
      "cell_type": "code",
      "execution_count": null,
      "metadata": {
        "id": "P251-96LFESe"
      },
      "outputs": [],
      "source": [
        "X, y = train_test_split(Xy, test_size=0.05, random_state=123)"
      ]
    },
    {
      "cell_type": "markdown",
      "metadata": {
        "id": "jRHs3dn9MH_f"
      },
      "source": [
        "# VARMA"
      ]
    },
    {
      "cell_type": "code",
      "execution_count": null,
      "metadata": {
        "id": "XEKKjpDvMGsf"
      },
      "outputs": [],
      "source": [
        "Xy = df.set_index(\"date\")"
      ]
    },
    {
      "cell_type": "markdown",
      "metadata": {
        "id": "0LWJ0h45Ua_E"
      },
      "source": [
        "## ADF test for stationarity"
      ]
    },
    {
      "cell_type": "code",
      "execution_count": null,
      "metadata": {
        "id": "NEssjttrUaUp"
      },
      "outputs": [],
      "source": [
        "for column in Xy.columns:\n",
        "  result = adfuller(Xy[column], autolag='AIC')\n",
        "\n",
        "  print('ADF Statistic: %f' % result[0])\n",
        "  print('p-value: %f' % result[1])\n",
        "  print('Critical Values:')\n",
        "\n",
        "  for key, value in result[4].items():\n",
        "      print('\\t%s: %.3f' % (key, value))\n",
        "  if result[0] < result[4][\"5%\"]:\n",
        "      print (\"Reject Ho - Time Series is Stationary\")\n",
        "  else:\n",
        "      print (\"Failed to Reject Ho - Time Series is Non-Stationary\")"
      ]
    },
    {
      "cell_type": "code",
      "execution_count": null,
      "metadata": {
        "id": "9h3y9oxGWOLd"
      },
      "outputs": [],
      "source": [
        "# Then test if making one or all series stationary impacts model performance, e.g a linear model."
      ]
    },
    {
      "cell_type": "markdown",
      "metadata": {
        "id": "mHKWL37SbqpV"
      },
      "source": [
        "### Non-stationary columns"
      ]
    },
    {
      "cell_type": "code",
      "execution_count": null,
      "metadata": {
        "id": "bXun3pbaWlee"
      },
      "outputs": [],
      "source": [
        "plt.plot(Xy['NUM. OF PROVIDERS'], color='blue')\n",
        "plt.xlabel('Date')\n",
        "plt.ylabel('NUM. OF PROVIDERS')"
      ]
    },
    {
      "cell_type": "code",
      "execution_count": null,
      "metadata": {
        "id": "oLjAYboDYd_O"
      },
      "outputs": [],
      "source": [
        "plt.plot(Xy['OT'], color='blue')\n",
        "plt.xlabel('Date')\n",
        "plt.ylabel('OT')"
      ]
    },
    {
      "cell_type": "code",
      "execution_count": null,
      "metadata": {
        "id": "FGCe5zxNZ_CF"
      },
      "outputs": [],
      "source": [
        "# Difference to make it stationary\n",
        "Xy_diff = Xy.diff()\n",
        "Xy_diff.iloc[0] = Xy.iloc[0]"
      ]
    },
    {
      "cell_type": "code",
      "execution_count": null,
      "metadata": {
        "id": "pgCWVJgxZ_GD"
      },
      "outputs": [],
      "source": [
        "for column in Xy_diff.columns:\n",
        "  result = adfuller(Xy_diff[column], autolag='AIC')\n",
        "\n",
        "  print('ADF Statistic: %f' % result[0])\n",
        "  print('p-value: %f' % result[1])\n",
        "  print('Critical Values:')\n",
        "\n",
        "  for key, value in result[4].items():\n",
        "      print('\\t%s: %.3f' % (key, value))\n",
        "  if result[0] < result[4][\"5%\"]:\n",
        "      print (\"Reject Ho - Time Series is Stationary\")\n",
        "  else:\n",
        "      print (\"Failed to Reject Ho - Time Series is Non-Stationary\")"
      ]
    },
    {
      "cell_type": "markdown",
      "metadata": {
        "id": "hDdMicjdaHvI"
      },
      "source": [
        "## Train model"
      ]
    },
    {
      "cell_type": "code",
      "execution_count": null,
      "metadata": {
        "id": "IKZthXbJIwot"
      },
      "outputs": [],
      "source": [
        "pred_len = 24\n",
        "\n",
        "pred_lens = [96, 192, 336, 720]\n",
        "#[24 , 36, 48, 60]\n",
        "#[96 192 336 720]"
      ]
    },
    {
      "cell_type": "code",
      "execution_count": null,
      "metadata": {
        "id": "dTC8kzjdAkRv"
      },
      "outputs": [],
      "source": [
        "#X, y = Xy[0:-pred_len], Xy[-pred_len:]\n",
        "#X, y = Xy_diff[0:-pred_len], Xy_diff[-pred_len:]"
      ]
    },
    {
      "cell_type": "markdown",
      "metadata": {
        "id": "hNIZor06FAsQ"
      },
      "source": [
        "## Hyperparameter tuning"
      ]
    },
    {
      "cell_type": "code",
      "execution_count": null,
      "metadata": {
        "id": "_23GBpJtCy2I"
      },
      "outputs": [],
      "source": [
        "param_grid = {'p': [1,2,3], 'q':[1,2,3]}\n",
        "pg = list(ParameterGrid(param_grid))"
      ]
    },
    {
      "cell_type": "code",
      "execution_count": null,
      "metadata": {
        "id": "fm3r_7zKC_uc"
      },
      "outputs": [],
      "source": [
        "def find_opt_params(train, test):\n",
        "  df_results = pd.DataFrame(columns=['p', 'q','mae','mse'])\n",
        "  print('Starting grid search...')\n",
        "  for a,b in enumerate(pg):\n",
        "      p = b.get('p')\n",
        "      q = b.get('q')\n",
        "      model_fit = VARMAX(train, order=(p,q)).fit()\n",
        "      forecast_test = model_fit.forecast(len(test))\n",
        "\n",
        "      mae = mean_absolute_error(test, forecast_test)\n",
        "      mse = mean_squared_error(test, forecast_test)\n",
        "      df_results = df_results.append({'p': p, 'q': q, 'mae': mae, 'mse': mse}, ignore_index=True)\n",
        "  return list(df_results.sort_values('mae', ascending=True)[['p', 'q']].iloc[0])"
      ]
    },
    {
      "cell_type": "code",
      "execution_count": null,
      "metadata": {
        "id": "FeaDWrtghjR8"
      },
      "outputs": [],
      "source": [
        "r = Xy.copy()\n",
        "\n",
        "X, y = Xy[0:-24], Xy[-24:]\n",
        "\n",
        "print(f\"Fitting model (pred_len={24})...\")\n",
        "# Find optimal parameters and fit model\n",
        "var_model = VARMAX(X, order=(3, 2))\n",
        "model_fit = var_model.fit()\n",
        "\n",
        "print(f\"Testing model (pred_len={24})...\")\n",
        "# Forecast model\n",
        "forecast_test = model_fit.forecast(len(y))\n",
        "r['forecast_' + str(pred_len)] = [None]*len(X) + list(forecast_test['OT'])\n",
        "r['residuals_' + str(pred_len)] = pd.concat([model_fit.resid['OT'], y['OT'] - forecast_test['OT']], axis = 0)\n",
        "\n",
        "# Calculate metrics\n",
        "mae = mean_absolute_error(y, forecast_test)\n",
        "mse = mean_squared_error(y, forecast_test)\n",
        "\n",
        "print(f'VARMA:\\n data={data_name} \\n pred_len={24} \\n order={36, 24} \\n mae={mae} \\n mse={mse}')"
      ]
    },
    {
      "cell_type": "code",
      "execution_count": null,
      "metadata": {
        "id": "QqQ84iH2PVDR"
      },
      "outputs": [],
      "source": [
        "def inverse_diff_func(actual_df, pred_df):\n",
        "    '''\n",
        "    Transforms the differentiated values back\n",
        "    \n",
        "    Args:\n",
        "        actual dataframe (float64): Values of the columns, numpy array of floats \n",
        "        predicted dataframe (float64): Values of the columns, numpy array of floats \n",
        "    \n",
        "    Returns:\n",
        "        Dataframe with the predicted values\n",
        "    '''\n",
        "    df_temp = pred_df.copy()\n",
        "    columns = actual_df.columns\n",
        "    for col in columns: \n",
        "        df_temp[str(col)+'_inv_diff'] = actual_df[col].iloc[-1] + df_temp[str(col)].cumsum()\n",
        "    return df_temp"
      ]
    },
    {
      "cell_type": "markdown",
      "metadata": {
        "id": "i2FQodxtB4bA"
      },
      "source": [
        "## Fit models"
      ]
    },
    {
      "cell_type": "code",
      "execution_count": null,
      "metadata": {
        "id": "CSfMikgtGbmW"
      },
      "outputs": [],
      "source": [
        "def find_opt_params(train, test):\n",
        "  df_results = pd.DataFrame(columns=['p', 'q','mae','mse'])\n",
        "  print('Starting grid search...')\n",
        "  for a,b in enumerate(pg):\n",
        "      p = b.get('p')\n",
        "      q = b.get('q')\n",
        "      model_fit = VARMAX(train, order=(p,q)).fit()\n",
        "      forecast_test = model_fit.forecast(len(test))\n",
        "\n",
        "      mae = mean_absolute_error(test, forecast_test)\n",
        "      mse = mean_squared_error(test, forecast_test)\n",
        "      df_results = df_results.append({'p': p, 'q': q, 'mae': mae, 'mse': mse}, ignore_index=True)\n",
        "  return list(df_results.sort_values('mae', ascending=True)[['p', 'q']].iloc[0])\n",
        "\n",
        "def find_order_auto_arima(X):\n",
        "  print(f'Searching order of p and q for : OT')\n",
        "  stepwise_model = auto_arima(X['OT'],start_p=1, start_q=1,max_p=7, max_q=7, seasonal=False,\n",
        "      trace=True,error_action='ignore',suppress_warnings=True, stepwise=True,maxiter=1000)\n",
        "  parameter = stepwise_model.get_params().get('order')\n",
        "  print(f'optimal order for: OT is: {parameter} \\n\\n')\n",
        "  return stepwise_model.get_params().get('order')\n",
        "\n",
        "def train_test_varma():\n",
        "  print(f\"Starting training...\")\n",
        "  summary_df = pd.DataFrame(columns=['Run','MAE', 'MSE'])\n",
        "\n",
        "  for pred_len in pred_lens:\n",
        "\n",
        "    # Split into Train and Test data based on pred len\n",
        "    X, y = Xy[0:-pred_len], Xy[-pred_len:]\n",
        "\n",
        "    print(f\"Fitting model (pred_len={pred_len})...\")\n",
        "    # Find optimal parameters and fit model\n",
        "    optimal_order = find_order_auto_arima(X)\n",
        "    print(f\"Found optimal params={optimal_order})...\")\n",
        "    var_model = VARMAX(X, order=(optimal_order[0], optimal_order[2]))\n",
        "    model_fit = var_model.fit()\n",
        "\n",
        "    print(f\"Testing model (pred_len={pred_len})...\")\n",
        "    # Forecast model\n",
        "    forecast_test = model_fit.forecast(len(y))\n",
        "    results_df['forecast_' + str(pred_len)] = [None]*len(X) + list(forecast_test['OT'])\n",
        "    results_df['residuals_' + str(pred_len)] = pd.concat([model_fit.resid['OT'], y['OT'] - forecast_test['OT']], axis = 0)\n",
        "\n",
        "    # Calculate metrics\n",
        "    mae = mean_absolute_error(y['OT'], forecast_test['OT'])\n",
        "    mse = mean_squared_error(y['OT'], forecast_test['OT'])\n",
        "    summary_df = summary_df.append({'Run': f'VARMA_raw_{data_name}_{pred_len}', 'MAE': mae, \"MSE\": mse}, ignore_index=True)\n",
        "\n",
        "    summary = f'VARMA:\\n data={data_name} \\n pred_len={pred_len} \\n order={optimal_order} \\n mae={mae} \\n mse={mse}'\n",
        "\n",
        "    with open(f\"summary_VARMA_raw_{data_name}_{pred_len}.txt\", \"w\") as text_file:\n",
        "      text_file.write(summary)\n",
        "\n",
        "    print(summary)\n",
        "\n",
        "  results_df.to_csv(f\"results_VARMA_raw_{data_name}.csv\", index=False)\n",
        "\n",
        "  print(\"Training done...\")\n",
        "\n",
        "  return summary_df\n",
        "\n",
        "def train_test_varma_dif():\n",
        "  print(f\"Starting training...\")\n",
        "  summary_df = pd.DataFrame(columns=['Run','MAE', 'MSE'])\n",
        "\n",
        "  for pred_len in pred_lens:\n",
        "\n",
        "    # Split into Train and Test data based on pred len\n",
        "    X, y = Xy[0:-pred_len], Xy[-pred_len:]\n",
        "\n",
        "    # Difference data\n",
        "    X_dif = X.diff()\n",
        "    X_dif.iloc[0] = X.iloc[0]\n",
        "\n",
        "    print(f\"Fitting model (pred_len={pred_len})...\")\n",
        "    # Find optimal parameters and fit model\n",
        "    optimal_order = find_order_auto_arima(X_dif)\n",
        "    print(f\"Found optimal params={optimal_order})...\")\n",
        "    var_model = VARMAX(X_dif, order=(optimal_order[0], optimal_order[2]))\n",
        "    model_fit = var_model.fit()\n",
        "\n",
        "    print(f\"Testing model (pred_len={pred_len})...\")\n",
        "    # Forecast model\n",
        "    result = model_fit.forecast(len(y))\n",
        "    \n",
        "    df_pred = pd.DataFrame(result, columns=X_dif.columns)\n",
        "    df_pred[\"new_index\"] = range(len(X), len(Xy))\n",
        "    df_pred = df_pred.set_index(\"new_index\")\n",
        "\n",
        "    res = inverse_diff_func(X, df_pred)\n",
        "\n",
        "    results_df['forecast_' + str(pred_len)] = [None]*len(X_dif) + list(res['OT_inv_diff'])\n",
        "    results_df['residuals_' + str(pred_len)] = pd.concat([model_fit.resid['OT'], y['OT'] - res['OT_inv_diff']], axis = 0)\n",
        "\n",
        "    # Calculate metrics\n",
        "    mae = mean_absolute_error(y['OT'], res['OT_inv_diff'])\n",
        "    mse = mean_squared_error(y['OT'], res['OT_inv_diff'])\n",
        "    summary_df = summary_df.append({'Run': f'VARMA_diff_{data_name}_{pred_len}', 'MAE': mae, \"MSE\": mse}, ignore_index=True)\n",
        "\n",
        "    summary = f'VARMA:\\n data={data_name} \\n pred_len={pred_len} \\n order={optimal_order} \\n mae={mae} \\n mse={mse}'\n",
        "\n",
        "    with open(f\"summary_VARMA_diff_{data_name}_{pred_len}.txt\", \"w\") as text_file:\n",
        "      text_file.write(summary)\n",
        "\n",
        "    print(summary)\n",
        "\n",
        "  results_df.to_csv(f\"results_VARMA_diff_{data_name}.csv\", index=False)\n",
        "\n",
        "  print(\"Training done...\")\n",
        "\n",
        "  return summary_df"
      ]
    },
    {
      "cell_type": "code",
      "source": [],
      "metadata": {
        "id": "NPsnITw84Pmu"
      },
      "execution_count": null,
      "outputs": []
    },
    {
      "cell_type": "code",
      "execution_count": null,
      "metadata": {
        "colab": {
          "base_uri": "https://localhost:8080/",
          "height": 1000
        },
        "id": "xdBsMsXjWUJ6",
        "outputId": "31d6e5db-84aa-4826-9750-c013ecfe7a05"
      },
      "outputs": [
        {
          "output_type": "stream",
          "name": "stdout",
          "text": [
            "Starting training...\n",
            "Fitting model (pred_len=96)...\n",
            "Searching order of p and q for : OT\n",
            "Performing stepwise search to minimize aic\n",
            " ARIMA(1,1,1)(0,0,0)[0] intercept   : AIC=-58516.959, Time=3.94 sec\n",
            " ARIMA(0,1,0)(0,0,0)[0] intercept   : AIC=-58502.135, Time=0.65 sec\n",
            " ARIMA(1,1,0)(0,0,0)[0] intercept   : AIC=-58518.958, Time=0.93 sec\n",
            " ARIMA(0,1,1)(0,0,0)[0] intercept   : AIC=-58518.947, Time=2.21 sec\n",
            " ARIMA(0,1,0)(0,0,0)[0]             : AIC=-58504.032, Time=0.64 sec\n",
            " ARIMA(2,1,0)(0,0,0)[0] intercept   : AIC=-58516.958, Time=3.77 sec\n",
            " ARIMA(2,1,1)(0,0,0)[0] intercept   : AIC=-58496.118, Time=3.89 sec\n",
            " ARIMA(1,1,0)(0,0,0)[0]             : AIC=-58520.845, Time=0.39 sec\n",
            " ARIMA(2,1,0)(0,0,0)[0]             : AIC=-58518.845, Time=0.59 sec\n",
            " ARIMA(1,1,1)(0,0,0)[0]             : AIC=-58518.846, Time=1.50 sec\n",
            " ARIMA(0,1,1)(0,0,0)[0]             : AIC=-58520.833, Time=0.87 sec\n",
            " ARIMA(2,1,1)(0,0,0)[0]             : AIC=-58498.028, Time=1.06 sec\n",
            "\n",
            "Best model:  ARIMA(1,1,0)(0,0,0)[0]          \n",
            "Total fit time: 20.475 seconds\n",
            "optimal order for: OT is: (1, 1, 0) \n",
            "\n",
            "\n",
            "Found optimal params=(1, 1, 0))...\n"
          ]
        },
        {
          "output_type": "stream",
          "name": "stderr",
          "text": [
            "/usr/local/lib/python3.9/dist-packages/statsmodels/tsa/base/tsa_model.py:471: ValueWarning: No frequency information was provided, so inferred frequency D will be used.\n",
            "  self._init_dates(dates, freq)\n",
            "/usr/local/lib/python3.9/dist-packages/statsmodels/base/model.py:604: ConvergenceWarning: Maximum Likelihood optimization failed to converge. Check mle_retvals\n",
            "  warnings.warn(\"Maximum Likelihood optimization failed to \"\n"
          ]
        },
        {
          "output_type": "stream",
          "name": "stdout",
          "text": [
            "Testing model (pred_len=96)...\n",
            "VARMA:\n",
            " data=exchange_rate \n",
            " pred_len=96 \n",
            " order=(1, 1, 0) \n",
            " mae=0.021634093183790632 \n",
            " mse=0.0006542305160555546\n",
            "Fitting model (pred_len=192)...\n",
            "Searching order of p and q for : OT\n",
            "Performing stepwise search to minimize aic\n"
          ]
        },
        {
          "output_type": "stream",
          "name": "stderr",
          "text": [
            "<ipython-input-19-72631c321438>:48: FutureWarning: The frame.append method is deprecated and will be removed from pandas in a future version. Use pandas.concat instead.\n",
            "  summary_df = summary_df.append({'Run': f'VARMA_raw_{data_name}_{pred_len}', 'MAE': mae, \"MSE\": mse}, ignore_index=True)\n"
          ]
        },
        {
          "output_type": "stream",
          "name": "stdout",
          "text": [
            " ARIMA(1,1,1)(0,0,0)[0] intercept   : AIC=-57759.795, Time=8.40 sec\n",
            " ARIMA(0,1,0)(0,0,0)[0] intercept   : AIC=-57745.301, Time=1.04 sec\n",
            " ARIMA(1,1,0)(0,0,0)[0] intercept   : AIC=-57761.765, Time=0.79 sec\n",
            " ARIMA(0,1,1)(0,0,0)[0] intercept   : AIC=-57761.722, Time=3.08 sec\n",
            " ARIMA(0,1,0)(0,0,0)[0]             : AIC=-57747.215, Time=0.33 sec\n",
            " ARIMA(2,1,0)(0,0,0)[0] intercept   : AIC=-57759.775, Time=1.43 sec\n",
            " ARIMA(2,1,1)(0,0,0)[0] intercept   : AIC=-57739.285, Time=5.55 sec\n",
            " ARIMA(1,1,0)(0,0,0)[0]             : AIC=-57763.670, Time=0.33 sec\n",
            " ARIMA(2,1,0)(0,0,0)[0]             : AIC=-57761.681, Time=0.49 sec\n",
            " ARIMA(1,1,1)(0,0,0)[0]             : AIC=-57761.702, Time=0.91 sec\n",
            " ARIMA(0,1,1)(0,0,0)[0]             : AIC=-57763.627, Time=0.81 sec\n",
            " ARIMA(2,1,1)(0,0,0)[0]             : AIC=-57741.211, Time=1.14 sec\n",
            "\n",
            "Best model:  ARIMA(1,1,0)(0,0,0)[0]          \n",
            "Total fit time: 24.338 seconds\n",
            "optimal order for: OT is: (1, 1, 0) \n",
            "\n",
            "\n",
            "Found optimal params=(1, 1, 0))...\n"
          ]
        },
        {
          "output_type": "stream",
          "name": "stderr",
          "text": [
            "/usr/local/lib/python3.9/dist-packages/statsmodels/tsa/base/tsa_model.py:471: ValueWarning: No frequency information was provided, so inferred frequency D will be used.\n",
            "  self._init_dates(dates, freq)\n",
            "/usr/local/lib/python3.9/dist-packages/statsmodels/base/model.py:604: ConvergenceWarning: Maximum Likelihood optimization failed to converge. Check mle_retvals\n",
            "  warnings.warn(\"Maximum Likelihood optimization failed to \"\n"
          ]
        },
        {
          "output_type": "stream",
          "name": "stdout",
          "text": [
            "Testing model (pred_len=192)...\n",
            "VARMA:\n",
            " data=exchange_rate \n",
            " pred_len=192 \n",
            " order=(1, 1, 0) \n",
            " mae=0.010310872551107565 \n",
            " mse=0.00016027431404994565\n",
            "Fitting model (pred_len=336)...\n",
            "Searching order of p and q for : OT\n",
            "Performing stepwise search to minimize aic\n"
          ]
        },
        {
          "output_type": "stream",
          "name": "stderr",
          "text": [
            "<ipython-input-19-72631c321438>:48: FutureWarning: The frame.append method is deprecated and will be removed from pandas in a future version. Use pandas.concat instead.\n",
            "  summary_df = summary_df.append({'Run': f'VARMA_raw_{data_name}_{pred_len}', 'MAE': mae, \"MSE\": mse}, ignore_index=True)\n"
          ]
        },
        {
          "output_type": "stream",
          "name": "stdout",
          "text": [
            " ARIMA(1,1,1)(0,0,0)[0] intercept   : AIC=-56655.982, Time=3.60 sec\n",
            " ARIMA(0,1,0)(0,0,0)[0] intercept   : AIC=-56642.095, Time=0.64 sec\n",
            " ARIMA(1,1,0)(0,0,0)[0] intercept   : AIC=-56657.866, Time=0.88 sec\n",
            " ARIMA(0,1,1)(0,0,0)[0] intercept   : AIC=-56657.784, Time=1.97 sec\n",
            " ARIMA(0,1,0)(0,0,0)[0]             : AIC=-56644.077, Time=0.33 sec\n",
            " ARIMA(2,1,0)(0,0,0)[0] intercept   : AIC=-56655.905, Time=1.93 sec\n",
            " ARIMA(2,1,1)(0,0,0)[0] intercept   : AIC=-56636.079, Time=3.36 sec\n",
            " ARIMA(1,1,0)(0,0,0)[0]             : AIC=-56659.846, Time=0.28 sec\n",
            " ARIMA(2,1,0)(0,0,0)[0]             : AIC=-56657.886, Time=0.48 sec\n",
            " ARIMA(1,1,1)(0,0,0)[0]             : AIC=-56657.964, Time=0.95 sec\n",
            " ARIMA(0,1,1)(0,0,0)[0]             : AIC=-56659.764, Time=0.79 sec\n",
            " ARIMA(2,1,1)(0,0,0)[0]             : AIC=-56638.072, Time=1.71 sec\n",
            "\n",
            "Best model:  ARIMA(1,1,0)(0,0,0)[0]          \n",
            "Total fit time: 16.925 seconds\n",
            "optimal order for: OT is: (1, 1, 0) \n",
            "\n",
            "\n",
            "Found optimal params=(1, 1, 0))...\n"
          ]
        },
        {
          "output_type": "stream",
          "name": "stderr",
          "text": [
            "/usr/local/lib/python3.9/dist-packages/statsmodels/tsa/base/tsa_model.py:471: ValueWarning: No frequency information was provided, so inferred frequency D will be used.\n",
            "  self._init_dates(dates, freq)\n",
            "/usr/local/lib/python3.9/dist-packages/statsmodels/base/model.py:604: ConvergenceWarning: Maximum Likelihood optimization failed to converge. Check mle_retvals\n",
            "  warnings.warn(\"Maximum Likelihood optimization failed to \"\n"
          ]
        },
        {
          "output_type": "stream",
          "name": "stdout",
          "text": [
            "Testing model (pred_len=336)...\n",
            "VARMA:\n",
            " data=exchange_rate \n",
            " pred_len=336 \n",
            " order=(1, 1, 0) \n",
            " mae=0.05164815512522882 \n",
            " mse=0.003189733703354014\n",
            "Fitting model (pred_len=720)...\n",
            "Searching order of p and q for : OT\n",
            "Performing stepwise search to minimize aic\n"
          ]
        },
        {
          "output_type": "stream",
          "name": "stderr",
          "text": [
            "<ipython-input-19-72631c321438>:48: FutureWarning: The frame.append method is deprecated and will be removed from pandas in a future version. Use pandas.concat instead.\n",
            "  summary_df = summary_df.append({'Run': f'VARMA_raw_{data_name}_{pred_len}', 'MAE': mae, \"MSE\": mse}, ignore_index=True)\n"
          ]
        },
        {
          "output_type": "stream",
          "name": "stdout",
          "text": [
            " ARIMA(1,1,1)(0,0,0)[0] intercept   : AIC=-53692.360, Time=3.97 sec\n",
            " ARIMA(0,1,0)(0,0,0)[0] intercept   : AIC=-53679.467, Time=0.96 sec\n",
            " ARIMA(1,1,0)(0,0,0)[0] intercept   : AIC=-53694.196, Time=0.75 sec\n",
            " ARIMA(0,1,1)(0,0,0)[0] intercept   : AIC=-53694.091, Time=1.79 sec\n",
            " ARIMA(0,1,0)(0,0,0)[0]             : AIC=-53681.243, Time=0.34 sec\n",
            " ARIMA(2,1,0)(0,0,0)[0] intercept   : AIC=-53692.260, Time=1.35 sec\n",
            " ARIMA(2,1,1)(0,0,0)[0] intercept   : AIC=-53673.451, Time=4.30 sec\n",
            " ARIMA(1,1,0)(0,0,0)[0]             : AIC=-53695.949, Time=0.29 sec\n",
            " ARIMA(2,1,0)(0,0,0)[0]             : AIC=-53694.015, Time=0.53 sec\n",
            " ARIMA(1,1,1)(0,0,0)[0]             : AIC=-53694.118, Time=1.41 sec\n",
            " ARIMA(0,1,1)(0,0,0)[0]             : AIC=-53695.843, Time=0.77 sec\n",
            " ARIMA(2,1,1)(0,0,0)[0]             : AIC=-53675.237, Time=1.35 sec\n",
            "\n",
            "Best model:  ARIMA(1,1,0)(0,0,0)[0]          \n",
            "Total fit time: 17.820 seconds\n",
            "optimal order for: OT is: (1, 1, 0) \n",
            "\n",
            "\n",
            "Found optimal params=(1, 1, 0))...\n"
          ]
        },
        {
          "output_type": "stream",
          "name": "stderr",
          "text": [
            "/usr/local/lib/python3.9/dist-packages/statsmodels/tsa/base/tsa_model.py:471: ValueWarning: No frequency information was provided, so inferred frequency D will be used.\n",
            "  self._init_dates(dates, freq)\n",
            "/usr/local/lib/python3.9/dist-packages/statsmodels/base/model.py:604: ConvergenceWarning: Maximum Likelihood optimization failed to converge. Check mle_retvals\n",
            "  warnings.warn(\"Maximum Likelihood optimization failed to \"\n"
          ]
        },
        {
          "output_type": "stream",
          "name": "stdout",
          "text": [
            "Testing model (pred_len=720)...\n",
            "VARMA:\n",
            " data=exchange_rate \n",
            " pred_len=720 \n",
            " order=(1, 1, 0) \n",
            " mae=0.0492347735899613 \n",
            " mse=0.003769635193261184\n",
            "Training done...\n"
          ]
        },
        {
          "output_type": "stream",
          "name": "stderr",
          "text": [
            "<ipython-input-19-72631c321438>:48: FutureWarning: The frame.append method is deprecated and will be removed from pandas in a future version. Use pandas.concat instead.\n",
            "  summary_df = summary_df.append({'Run': f'VARMA_raw_{data_name}_{pred_len}', 'MAE': mae, \"MSE\": mse}, ignore_index=True)\n"
          ]
        },
        {
          "output_type": "execute_result",
          "data": {
            "text/plain": [
              "                           Run       MAE       MSE\n",
              "0   VARMA_raw_exchange_rate_96  0.021634  0.000654\n",
              "1  VARMA_raw_exchange_rate_192  0.010311  0.000160\n",
              "2  VARMA_raw_exchange_rate_336  0.051648  0.003190\n",
              "3  VARMA_raw_exchange_rate_720  0.049235  0.003770"
            ],
            "text/html": [
              "\n",
              "  <div id=\"df-50998ea6-6fb5-4e1b-9cd2-19ee95e596f4\">\n",
              "    <div class=\"colab-df-container\">\n",
              "      <div>\n",
              "<style scoped>\n",
              "    .dataframe tbody tr th:only-of-type {\n",
              "        vertical-align: middle;\n",
              "    }\n",
              "\n",
              "    .dataframe tbody tr th {\n",
              "        vertical-align: top;\n",
              "    }\n",
              "\n",
              "    .dataframe thead th {\n",
              "        text-align: right;\n",
              "    }\n",
              "</style>\n",
              "<table border=\"1\" class=\"dataframe\">\n",
              "  <thead>\n",
              "    <tr style=\"text-align: right;\">\n",
              "      <th></th>\n",
              "      <th>Run</th>\n",
              "      <th>MAE</th>\n",
              "      <th>MSE</th>\n",
              "    </tr>\n",
              "  </thead>\n",
              "  <tbody>\n",
              "    <tr>\n",
              "      <th>0</th>\n",
              "      <td>VARMA_raw_exchange_rate_96</td>\n",
              "      <td>0.021634</td>\n",
              "      <td>0.000654</td>\n",
              "    </tr>\n",
              "    <tr>\n",
              "      <th>1</th>\n",
              "      <td>VARMA_raw_exchange_rate_192</td>\n",
              "      <td>0.010311</td>\n",
              "      <td>0.000160</td>\n",
              "    </tr>\n",
              "    <tr>\n",
              "      <th>2</th>\n",
              "      <td>VARMA_raw_exchange_rate_336</td>\n",
              "      <td>0.051648</td>\n",
              "      <td>0.003190</td>\n",
              "    </tr>\n",
              "    <tr>\n",
              "      <th>3</th>\n",
              "      <td>VARMA_raw_exchange_rate_720</td>\n",
              "      <td>0.049235</td>\n",
              "      <td>0.003770</td>\n",
              "    </tr>\n",
              "  </tbody>\n",
              "</table>\n",
              "</div>\n",
              "      <button class=\"colab-df-convert\" onclick=\"convertToInteractive('df-50998ea6-6fb5-4e1b-9cd2-19ee95e596f4')\"\n",
              "              title=\"Convert this dataframe to an interactive table.\"\n",
              "              style=\"display:none;\">\n",
              "        \n",
              "  <svg xmlns=\"http://www.w3.org/2000/svg\" height=\"24px\"viewBox=\"0 0 24 24\"\n",
              "       width=\"24px\">\n",
              "    <path d=\"M0 0h24v24H0V0z\" fill=\"none\"/>\n",
              "    <path d=\"M18.56 5.44l.94 2.06.94-2.06 2.06-.94-2.06-.94-.94-2.06-.94 2.06-2.06.94zm-11 1L8.5 8.5l.94-2.06 2.06-.94-2.06-.94L8.5 2.5l-.94 2.06-2.06.94zm10 10l.94 2.06.94-2.06 2.06-.94-2.06-.94-.94-2.06-.94 2.06-2.06.94z\"/><path d=\"M17.41 7.96l-1.37-1.37c-.4-.4-.92-.59-1.43-.59-.52 0-1.04.2-1.43.59L10.3 9.45l-7.72 7.72c-.78.78-.78 2.05 0 2.83L4 21.41c.39.39.9.59 1.41.59.51 0 1.02-.2 1.41-.59l7.78-7.78 2.81-2.81c.8-.78.8-2.07 0-2.86zM5.41 20L4 18.59l7.72-7.72 1.47 1.35L5.41 20z\"/>\n",
              "  </svg>\n",
              "      </button>\n",
              "      \n",
              "  <style>\n",
              "    .colab-df-container {\n",
              "      display:flex;\n",
              "      flex-wrap:wrap;\n",
              "      gap: 12px;\n",
              "    }\n",
              "\n",
              "    .colab-df-convert {\n",
              "      background-color: #E8F0FE;\n",
              "      border: none;\n",
              "      border-radius: 50%;\n",
              "      cursor: pointer;\n",
              "      display: none;\n",
              "      fill: #1967D2;\n",
              "      height: 32px;\n",
              "      padding: 0 0 0 0;\n",
              "      width: 32px;\n",
              "    }\n",
              "\n",
              "    .colab-df-convert:hover {\n",
              "      background-color: #E2EBFA;\n",
              "      box-shadow: 0px 1px 2px rgba(60, 64, 67, 0.3), 0px 1px 3px 1px rgba(60, 64, 67, 0.15);\n",
              "      fill: #174EA6;\n",
              "    }\n",
              "\n",
              "    [theme=dark] .colab-df-convert {\n",
              "      background-color: #3B4455;\n",
              "      fill: #D2E3FC;\n",
              "    }\n",
              "\n",
              "    [theme=dark] .colab-df-convert:hover {\n",
              "      background-color: #434B5C;\n",
              "      box-shadow: 0px 1px 3px 1px rgba(0, 0, 0, 0.15);\n",
              "      filter: drop-shadow(0px 1px 2px rgba(0, 0, 0, 0.3));\n",
              "      fill: #FFFFFF;\n",
              "    }\n",
              "  </style>\n",
              "\n",
              "      <script>\n",
              "        const buttonEl =\n",
              "          document.querySelector('#df-50998ea6-6fb5-4e1b-9cd2-19ee95e596f4 button.colab-df-convert');\n",
              "        buttonEl.style.display =\n",
              "          google.colab.kernel.accessAllowed ? 'block' : 'none';\n",
              "\n",
              "        async function convertToInteractive(key) {\n",
              "          const element = document.querySelector('#df-50998ea6-6fb5-4e1b-9cd2-19ee95e596f4');\n",
              "          const dataTable =\n",
              "            await google.colab.kernel.invokeFunction('convertToInteractive',\n",
              "                                                     [key], {});\n",
              "          if (!dataTable) return;\n",
              "\n",
              "          const docLinkHtml = 'Like what you see? Visit the ' +\n",
              "            '<a target=\"_blank\" href=https://colab.research.google.com/notebooks/data_table.ipynb>data table notebook</a>'\n",
              "            + ' to learn more about interactive tables.';\n",
              "          element.innerHTML = '';\n",
              "          dataTable['output_type'] = 'display_data';\n",
              "          await google.colab.output.renderOutput(dataTable, element);\n",
              "          const docLink = document.createElement('div');\n",
              "          docLink.innerHTML = docLinkHtml;\n",
              "          element.appendChild(docLink);\n",
              "        }\n",
              "      </script>\n",
              "    </div>\n",
              "  </div>\n",
              "  "
            ]
          },
          "metadata": {},
          "execution_count": 20
        }
      ],
      "source": [
        "results_df = Xy.copy()\n",
        "summary_df = train_test_varma()\n",
        "summary_df"
      ]
    },
    {
      "cell_type": "code",
      "source": [
        "results_df = Xy.copy()\n",
        "summary_df_dif = train_test_varma_dif()\n",
        "summary_df_dif"
      ],
      "metadata": {
        "colab": {
          "base_uri": "https://localhost:8080/",
          "height": 1000
        },
        "id": "QVrfXx3Q7IHx",
        "outputId": "55a83e29-0381-4777-cb23-93554526b792"
      },
      "execution_count": null,
      "outputs": [
        {
          "output_type": "stream",
          "name": "stdout",
          "text": [
            "Starting training...\n",
            "Fitting model (pred_len=96)...\n",
            "Searching order of p and q for : OT\n",
            "Performing stepwise search to minimize aic\n",
            " ARIMA(1,0,1)(0,0,0)[0]             : AIC=-50341.823, Time=1.59 sec\n",
            " ARIMA(0,0,0)(0,0,0)[0]             : AIC=-50340.228, Time=0.36 sec\n",
            " ARIMA(1,0,0)(0,0,0)[0]             : AIC=-50341.303, Time=0.99 sec\n",
            " ARIMA(0,0,1)(0,0,0)[0]             : AIC=-50343.560, Time=1.32 sec\n",
            " ARIMA(0,0,2)(0,0,0)[0]             : AIC=-50341.637, Time=2.96 sec\n",
            " ARIMA(1,0,2)(0,0,0)[0]             : AIC=-50339.576, Time=5.33 sec\n",
            " ARIMA(0,0,1)(0,0,0)[0] intercept   : AIC=-50342.578, Time=3.53 sec\n",
            "\n",
            "Best model:  ARIMA(0,0,1)(0,0,0)[0]          \n",
            "Total fit time: 16.090 seconds\n",
            "optimal order for: OT is: (0, 0, 1) \n",
            "\n",
            "\n",
            "Found optimal params=(0, 0, 1))...\n"
          ]
        },
        {
          "output_type": "stream",
          "name": "stderr",
          "text": [
            "/usr/local/lib/python3.9/dist-packages/statsmodels/tsa/base/tsa_model.py:471: ValueWarning: No frequency information was provided, so inferred frequency D will be used.\n",
            "  self._init_dates(dates, freq)\n",
            "/usr/local/lib/python3.9/dist-packages/statsmodels/base/model.py:604: ConvergenceWarning: Maximum Likelihood optimization failed to converge. Check mle_retvals\n",
            "  warnings.warn(\"Maximum Likelihood optimization failed to \"\n"
          ]
        },
        {
          "output_type": "stream",
          "name": "stdout",
          "text": [
            "Testing model (pred_len=96)...\n"
          ]
        },
        {
          "output_type": "stream",
          "name": "stderr",
          "text": [
            "<ipython-input-22-30a320713d08>:99: FutureWarning: The frame.append method is deprecated and will be removed from pandas in a future version. Use pandas.concat instead.\n",
            "  summary_df = summary_df.append({'Run': f'VARMA_diff_{data_name}_{pred_len}', 'MAE': mae, \"MSE\": mse}, ignore_index=True)\n"
          ]
        },
        {
          "output_type": "stream",
          "name": "stdout",
          "text": [
            "VARMA:\n",
            " data=exchange_rate \n",
            " pred_len=96 \n",
            " order=(0, 0, 1) \n",
            " mae=0.02166416666769894 \n",
            " mse=0.0006559787007074254\n",
            "Fitting model (pred_len=192)...\n",
            "Searching order of p and q for : OT\n",
            "Performing stepwise search to minimize aic\n",
            " ARIMA(1,0,1)(0,0,0)[0]             : AIC=-49630.854, Time=1.06 sec\n",
            " ARIMA(0,0,0)(0,0,0)[0]             : AIC=-49629.341, Time=0.36 sec\n",
            " ARIMA(1,0,0)(0,0,0)[0]             : AIC=-49630.309, Time=0.60 sec\n",
            " ARIMA(0,0,1)(0,0,0)[0]             : AIC=-49632.506, Time=0.87 sec\n",
            " ARIMA(0,0,2)(0,0,0)[0]             : AIC=-49630.637, Time=1.28 sec\n",
            " ARIMA(1,0,2)(0,0,0)[0]             : AIC=-49628.573, Time=1.49 sec\n",
            " ARIMA(0,0,1)(0,0,0)[0] intercept   : AIC=-49631.493, Time=3.73 sec\n",
            "\n",
            "Best model:  ARIMA(0,0,1)(0,0,0)[0]          \n",
            "Total fit time: 9.398 seconds\n",
            "optimal order for: OT is: (0, 0, 1) \n",
            "\n",
            "\n",
            "Found optimal params=(0, 0, 1))...\n"
          ]
        },
        {
          "output_type": "stream",
          "name": "stderr",
          "text": [
            "/usr/local/lib/python3.9/dist-packages/statsmodels/tsa/base/tsa_model.py:471: ValueWarning: No frequency information was provided, so inferred frequency D will be used.\n",
            "  self._init_dates(dates, freq)\n",
            "/usr/local/lib/python3.9/dist-packages/statsmodels/base/model.py:604: ConvergenceWarning: Maximum Likelihood optimization failed to converge. Check mle_retvals\n",
            "  warnings.warn(\"Maximum Likelihood optimization failed to \"\n"
          ]
        },
        {
          "output_type": "stream",
          "name": "stdout",
          "text": [
            "Testing model (pred_len=192)...\n",
            "VARMA:\n",
            " data=exchange_rate \n",
            " pred_len=192 \n",
            " order=(0, 0, 1) \n",
            " mae=0.013017021991380056 \n",
            " mse=0.000304262868882799\n",
            "Fitting model (pred_len=336)...\n",
            "Searching order of p and q for : OT\n",
            "Performing stepwise search to minimize aic\n"
          ]
        },
        {
          "output_type": "stream",
          "name": "stderr",
          "text": [
            "<ipython-input-22-30a320713d08>:99: FutureWarning: The frame.append method is deprecated and will be removed from pandas in a future version. Use pandas.concat instead.\n",
            "  summary_df = summary_df.append({'Run': f'VARMA_diff_{data_name}_{pred_len}', 'MAE': mae, \"MSE\": mse}, ignore_index=True)\n"
          ]
        },
        {
          "output_type": "stream",
          "name": "stdout",
          "text": [
            " ARIMA(1,0,1)(0,0,0)[0]             : AIC=-48575.991, Time=3.07 sec\n",
            " ARIMA(0,0,0)(0,0,0)[0]             : AIC=-48574.677, Time=0.59 sec\n",
            " ARIMA(1,0,0)(0,0,0)[0]             : AIC=-48577.715, Time=0.81 sec\n",
            " ARIMA(0,0,1)(0,0,0)[0]             : AIC=-48577.535, Time=1.20 sec\n",
            " ARIMA(2,0,0)(0,0,0)[0]             : AIC=-48575.942, Time=1.47 sec\n",
            " ARIMA(2,0,1)(0,0,0)[0]             : AIC=-48568.678, Time=1.93 sec\n",
            " ARIMA(1,0,0)(0,0,0)[0] intercept   : AIC=-48576.524, Time=2.07 sec\n",
            "\n",
            "Best model:  ARIMA(1,0,0)(0,0,0)[0]          \n",
            "Total fit time: 11.147 seconds\n",
            "optimal order for: OT is: (1, 0, 0) \n",
            "\n",
            "\n",
            "Found optimal params=(1, 0, 0))...\n"
          ]
        },
        {
          "output_type": "stream",
          "name": "stderr",
          "text": [
            "/usr/local/lib/python3.9/dist-packages/statsmodels/tsa/base/tsa_model.py:471: ValueWarning: No frequency information was provided, so inferred frequency D will be used.\n",
            "  self._init_dates(dates, freq)\n",
            "/usr/local/lib/python3.9/dist-packages/statsmodels/base/model.py:604: ConvergenceWarning: Maximum Likelihood optimization failed to converge. Check mle_retvals\n",
            "  warnings.warn(\"Maximum Likelihood optimization failed to \"\n"
          ]
        },
        {
          "output_type": "stream",
          "name": "stdout",
          "text": [
            "Testing model (pred_len=336)...\n",
            "VARMA:\n",
            " data=exchange_rate \n",
            " pred_len=336 \n",
            " order=(1, 0, 0) \n",
            " mae=0.037133478177473936 \n",
            " mse=0.001669571999381145\n",
            "Fitting model (pred_len=720)...\n",
            "Searching order of p and q for : OT\n",
            "Performing stepwise search to minimize aic\n"
          ]
        },
        {
          "output_type": "stream",
          "name": "stderr",
          "text": [
            "<ipython-input-22-30a320713d08>:99: FutureWarning: The frame.append method is deprecated and will be removed from pandas in a future version. Use pandas.concat instead.\n",
            "  summary_df = summary_df.append({'Run': f'VARMA_diff_{data_name}_{pred_len}', 'MAE': mae, \"MSE\": mse}, ignore_index=True)\n"
          ]
        },
        {
          "output_type": "stream",
          "name": "stdout",
          "text": [
            " ARIMA(1,0,1)(0,0,0)[0]             : AIC=-45761.803, Time=1.69 sec\n",
            " ARIMA(0,0,0)(0,0,0)[0]             : AIC=-45760.994, Time=0.37 sec\n",
            " ARIMA(1,0,0)(0,0,0)[0]             : AIC=-45761.385, Time=0.88 sec\n",
            " ARIMA(0,0,1)(0,0,0)[0]             : AIC=-45763.313, Time=1.12 sec\n",
            " ARIMA(0,0,2)(0,0,0)[0]             : AIC=-45761.564, Time=1.44 sec\n",
            " ARIMA(1,0,2)(0,0,0)[0]             : AIC=-45759.504, Time=1.76 sec\n",
            " ARIMA(0,0,1)(0,0,0)[0] intercept   : AIC=-45762.536, Time=4.73 sec\n",
            "\n",
            "Best model:  ARIMA(0,0,1)(0,0,0)[0]          \n",
            "Total fit time: 12.004 seconds\n",
            "optimal order for: OT is: (0, 0, 1) \n",
            "\n",
            "\n",
            "Found optimal params=(0, 0, 1))...\n"
          ]
        },
        {
          "output_type": "stream",
          "name": "stderr",
          "text": [
            "/usr/local/lib/python3.9/dist-packages/statsmodels/tsa/base/tsa_model.py:471: ValueWarning: No frequency information was provided, so inferred frequency D will be used.\n",
            "  self._init_dates(dates, freq)\n",
            "/usr/local/lib/python3.9/dist-packages/statsmodels/base/model.py:604: ConvergenceWarning: Maximum Likelihood optimization failed to converge. Check mle_retvals\n",
            "  warnings.warn(\"Maximum Likelihood optimization failed to \"\n"
          ]
        },
        {
          "output_type": "stream",
          "name": "stdout",
          "text": [
            "Testing model (pred_len=720)...\n",
            "VARMA:\n",
            " data=exchange_rate \n",
            " pred_len=720 \n",
            " order=(0, 0, 1) \n",
            " mae=0.12662891853034913 \n",
            " mse=0.018101126264191466\n",
            "Training done...\n"
          ]
        },
        {
          "output_type": "stream",
          "name": "stderr",
          "text": [
            "<ipython-input-22-30a320713d08>:99: FutureWarning: The frame.append method is deprecated and will be removed from pandas in a future version. Use pandas.concat instead.\n",
            "  summary_df = summary_df.append({'Run': f'VARMA_diff_{data_name}_{pred_len}', 'MAE': mae, \"MSE\": mse}, ignore_index=True)\n"
          ]
        },
        {
          "output_type": "execute_result",
          "data": {
            "text/plain": [
              "                            Run       MAE       MSE\n",
              "0   VARMA_diff_exchange_rate_96  0.021664  0.000656\n",
              "1  VARMA_diff_exchange_rate_192  0.013017  0.000304\n",
              "2  VARMA_diff_exchange_rate_336  0.037133  0.001670\n",
              "3  VARMA_diff_exchange_rate_720  0.126629  0.018101"
            ],
            "text/html": [
              "\n",
              "  <div id=\"df-9df0d38a-82d8-4477-ad29-fc037c71fb12\">\n",
              "    <div class=\"colab-df-container\">\n",
              "      <div>\n",
              "<style scoped>\n",
              "    .dataframe tbody tr th:only-of-type {\n",
              "        vertical-align: middle;\n",
              "    }\n",
              "\n",
              "    .dataframe tbody tr th {\n",
              "        vertical-align: top;\n",
              "    }\n",
              "\n",
              "    .dataframe thead th {\n",
              "        text-align: right;\n",
              "    }\n",
              "</style>\n",
              "<table border=\"1\" class=\"dataframe\">\n",
              "  <thead>\n",
              "    <tr style=\"text-align: right;\">\n",
              "      <th></th>\n",
              "      <th>Run</th>\n",
              "      <th>MAE</th>\n",
              "      <th>MSE</th>\n",
              "    </tr>\n",
              "  </thead>\n",
              "  <tbody>\n",
              "    <tr>\n",
              "      <th>0</th>\n",
              "      <td>VARMA_diff_exchange_rate_96</td>\n",
              "      <td>0.021664</td>\n",
              "      <td>0.000656</td>\n",
              "    </tr>\n",
              "    <tr>\n",
              "      <th>1</th>\n",
              "      <td>VARMA_diff_exchange_rate_192</td>\n",
              "      <td>0.013017</td>\n",
              "      <td>0.000304</td>\n",
              "    </tr>\n",
              "    <tr>\n",
              "      <th>2</th>\n",
              "      <td>VARMA_diff_exchange_rate_336</td>\n",
              "      <td>0.037133</td>\n",
              "      <td>0.001670</td>\n",
              "    </tr>\n",
              "    <tr>\n",
              "      <th>3</th>\n",
              "      <td>VARMA_diff_exchange_rate_720</td>\n",
              "      <td>0.126629</td>\n",
              "      <td>0.018101</td>\n",
              "    </tr>\n",
              "  </tbody>\n",
              "</table>\n",
              "</div>\n",
              "      <button class=\"colab-df-convert\" onclick=\"convertToInteractive('df-9df0d38a-82d8-4477-ad29-fc037c71fb12')\"\n",
              "              title=\"Convert this dataframe to an interactive table.\"\n",
              "              style=\"display:none;\">\n",
              "        \n",
              "  <svg xmlns=\"http://www.w3.org/2000/svg\" height=\"24px\"viewBox=\"0 0 24 24\"\n",
              "       width=\"24px\">\n",
              "    <path d=\"M0 0h24v24H0V0z\" fill=\"none\"/>\n",
              "    <path d=\"M18.56 5.44l.94 2.06.94-2.06 2.06-.94-2.06-.94-.94-2.06-.94 2.06-2.06.94zm-11 1L8.5 8.5l.94-2.06 2.06-.94-2.06-.94L8.5 2.5l-.94 2.06-2.06.94zm10 10l.94 2.06.94-2.06 2.06-.94-2.06-.94-.94-2.06-.94 2.06-2.06.94z\"/><path d=\"M17.41 7.96l-1.37-1.37c-.4-.4-.92-.59-1.43-.59-.52 0-1.04.2-1.43.59L10.3 9.45l-7.72 7.72c-.78.78-.78 2.05 0 2.83L4 21.41c.39.39.9.59 1.41.59.51 0 1.02-.2 1.41-.59l7.78-7.78 2.81-2.81c.8-.78.8-2.07 0-2.86zM5.41 20L4 18.59l7.72-7.72 1.47 1.35L5.41 20z\"/>\n",
              "  </svg>\n",
              "      </button>\n",
              "      \n",
              "  <style>\n",
              "    .colab-df-container {\n",
              "      display:flex;\n",
              "      flex-wrap:wrap;\n",
              "      gap: 12px;\n",
              "    }\n",
              "\n",
              "    .colab-df-convert {\n",
              "      background-color: #E8F0FE;\n",
              "      border: none;\n",
              "      border-radius: 50%;\n",
              "      cursor: pointer;\n",
              "      display: none;\n",
              "      fill: #1967D2;\n",
              "      height: 32px;\n",
              "      padding: 0 0 0 0;\n",
              "      width: 32px;\n",
              "    }\n",
              "\n",
              "    .colab-df-convert:hover {\n",
              "      background-color: #E2EBFA;\n",
              "      box-shadow: 0px 1px 2px rgba(60, 64, 67, 0.3), 0px 1px 3px 1px rgba(60, 64, 67, 0.15);\n",
              "      fill: #174EA6;\n",
              "    }\n",
              "\n",
              "    [theme=dark] .colab-df-convert {\n",
              "      background-color: #3B4455;\n",
              "      fill: #D2E3FC;\n",
              "    }\n",
              "\n",
              "    [theme=dark] .colab-df-convert:hover {\n",
              "      background-color: #434B5C;\n",
              "      box-shadow: 0px 1px 3px 1px rgba(0, 0, 0, 0.15);\n",
              "      filter: drop-shadow(0px 1px 2px rgba(0, 0, 0, 0.3));\n",
              "      fill: #FFFFFF;\n",
              "    }\n",
              "  </style>\n",
              "\n",
              "      <script>\n",
              "        const buttonEl =\n",
              "          document.querySelector('#df-9df0d38a-82d8-4477-ad29-fc037c71fb12 button.colab-df-convert');\n",
              "        buttonEl.style.display =\n",
              "          google.colab.kernel.accessAllowed ? 'block' : 'none';\n",
              "\n",
              "        async function convertToInteractive(key) {\n",
              "          const element = document.querySelector('#df-9df0d38a-82d8-4477-ad29-fc037c71fb12');\n",
              "          const dataTable =\n",
              "            await google.colab.kernel.invokeFunction('convertToInteractive',\n",
              "                                                     [key], {});\n",
              "          if (!dataTable) return;\n",
              "\n",
              "          const docLinkHtml = 'Like what you see? Visit the ' +\n",
              "            '<a target=\"_blank\" href=https://colab.research.google.com/notebooks/data_table.ipynb>data table notebook</a>'\n",
              "            + ' to learn more about interactive tables.';\n",
              "          element.innerHTML = '';\n",
              "          dataTable['output_type'] = 'display_data';\n",
              "          await google.colab.output.renderOutput(dataTable, element);\n",
              "          const docLink = document.createElement('div');\n",
              "          docLink.innerHTML = docLinkHtml;\n",
              "          element.appendChild(docLink);\n",
              "        }\n",
              "      </script>\n",
              "    </div>\n",
              "  </div>\n",
              "  "
            ]
          },
          "metadata": {},
          "execution_count": 23
        }
      ]
    },
    {
      "cell_type": "code",
      "source": [
        "new_summary_df = summary_df"
      ],
      "metadata": {
        "id": "-tt3kT9sLlSe"
      },
      "execution_count": null,
      "outputs": []
    },
    {
      "cell_type": "code",
      "source": [
        "new_summary_df"
      ],
      "metadata": {
        "colab": {
          "base_uri": "https://localhost:8080/",
          "height": 174
        },
        "id": "s1WXiGIKOB59",
        "outputId": "6d0e7fed-75ce-4076-dc9c-a6709b230c44"
      },
      "execution_count": null,
      "outputs": [
        {
          "output_type": "execute_result",
          "data": {
            "text/plain": [
              "                           Run       MAE       MSE\n",
              "0   VARMA_raw_exchange_rate_96  0.021634  0.000654\n",
              "1  VARMA_raw_exchange_rate_192  0.010311  0.000160\n",
              "2  VARMA_raw_exchange_rate_336  0.051648  0.003190\n",
              "3  VARMA_raw_exchange_rate_720  0.049235  0.003770"
            ],
            "text/html": [
              "\n",
              "  <div id=\"df-6552ccc8-b3ba-466d-b0e3-1e4c92ae44b9\">\n",
              "    <div class=\"colab-df-container\">\n",
              "      <div>\n",
              "<style scoped>\n",
              "    .dataframe tbody tr th:only-of-type {\n",
              "        vertical-align: middle;\n",
              "    }\n",
              "\n",
              "    .dataframe tbody tr th {\n",
              "        vertical-align: top;\n",
              "    }\n",
              "\n",
              "    .dataframe thead th {\n",
              "        text-align: right;\n",
              "    }\n",
              "</style>\n",
              "<table border=\"1\" class=\"dataframe\">\n",
              "  <thead>\n",
              "    <tr style=\"text-align: right;\">\n",
              "      <th></th>\n",
              "      <th>Run</th>\n",
              "      <th>MAE</th>\n",
              "      <th>MSE</th>\n",
              "    </tr>\n",
              "  </thead>\n",
              "  <tbody>\n",
              "    <tr>\n",
              "      <th>0</th>\n",
              "      <td>VARMA_raw_exchange_rate_96</td>\n",
              "      <td>0.021634</td>\n",
              "      <td>0.000654</td>\n",
              "    </tr>\n",
              "    <tr>\n",
              "      <th>1</th>\n",
              "      <td>VARMA_raw_exchange_rate_192</td>\n",
              "      <td>0.010311</td>\n",
              "      <td>0.000160</td>\n",
              "    </tr>\n",
              "    <tr>\n",
              "      <th>2</th>\n",
              "      <td>VARMA_raw_exchange_rate_336</td>\n",
              "      <td>0.051648</td>\n",
              "      <td>0.003190</td>\n",
              "    </tr>\n",
              "    <tr>\n",
              "      <th>3</th>\n",
              "      <td>VARMA_raw_exchange_rate_720</td>\n",
              "      <td>0.049235</td>\n",
              "      <td>0.003770</td>\n",
              "    </tr>\n",
              "  </tbody>\n",
              "</table>\n",
              "</div>\n",
              "      <button class=\"colab-df-convert\" onclick=\"convertToInteractive('df-6552ccc8-b3ba-466d-b0e3-1e4c92ae44b9')\"\n",
              "              title=\"Convert this dataframe to an interactive table.\"\n",
              "              style=\"display:none;\">\n",
              "        \n",
              "  <svg xmlns=\"http://www.w3.org/2000/svg\" height=\"24px\"viewBox=\"0 0 24 24\"\n",
              "       width=\"24px\">\n",
              "    <path d=\"M0 0h24v24H0V0z\" fill=\"none\"/>\n",
              "    <path d=\"M18.56 5.44l.94 2.06.94-2.06 2.06-.94-2.06-.94-.94-2.06-.94 2.06-2.06.94zm-11 1L8.5 8.5l.94-2.06 2.06-.94-2.06-.94L8.5 2.5l-.94 2.06-2.06.94zm10 10l.94 2.06.94-2.06 2.06-.94-2.06-.94-.94-2.06-.94 2.06-2.06.94z\"/><path d=\"M17.41 7.96l-1.37-1.37c-.4-.4-.92-.59-1.43-.59-.52 0-1.04.2-1.43.59L10.3 9.45l-7.72 7.72c-.78.78-.78 2.05 0 2.83L4 21.41c.39.39.9.59 1.41.59.51 0 1.02-.2 1.41-.59l7.78-7.78 2.81-2.81c.8-.78.8-2.07 0-2.86zM5.41 20L4 18.59l7.72-7.72 1.47 1.35L5.41 20z\"/>\n",
              "  </svg>\n",
              "      </button>\n",
              "      \n",
              "  <style>\n",
              "    .colab-df-container {\n",
              "      display:flex;\n",
              "      flex-wrap:wrap;\n",
              "      gap: 12px;\n",
              "    }\n",
              "\n",
              "    .colab-df-convert {\n",
              "      background-color: #E8F0FE;\n",
              "      border: none;\n",
              "      border-radius: 50%;\n",
              "      cursor: pointer;\n",
              "      display: none;\n",
              "      fill: #1967D2;\n",
              "      height: 32px;\n",
              "      padding: 0 0 0 0;\n",
              "      width: 32px;\n",
              "    }\n",
              "\n",
              "    .colab-df-convert:hover {\n",
              "      background-color: #E2EBFA;\n",
              "      box-shadow: 0px 1px 2px rgba(60, 64, 67, 0.3), 0px 1px 3px 1px rgba(60, 64, 67, 0.15);\n",
              "      fill: #174EA6;\n",
              "    }\n",
              "\n",
              "    [theme=dark] .colab-df-convert {\n",
              "      background-color: #3B4455;\n",
              "      fill: #D2E3FC;\n",
              "    }\n",
              "\n",
              "    [theme=dark] .colab-df-convert:hover {\n",
              "      background-color: #434B5C;\n",
              "      box-shadow: 0px 1px 3px 1px rgba(0, 0, 0, 0.15);\n",
              "      filter: drop-shadow(0px 1px 2px rgba(0, 0, 0, 0.3));\n",
              "      fill: #FFFFFF;\n",
              "    }\n",
              "  </style>\n",
              "\n",
              "      <script>\n",
              "        const buttonEl =\n",
              "          document.querySelector('#df-6552ccc8-b3ba-466d-b0e3-1e4c92ae44b9 button.colab-df-convert');\n",
              "        buttonEl.style.display =\n",
              "          google.colab.kernel.accessAllowed ? 'block' : 'none';\n",
              "\n",
              "        async function convertToInteractive(key) {\n",
              "          const element = document.querySelector('#df-6552ccc8-b3ba-466d-b0e3-1e4c92ae44b9');\n",
              "          const dataTable =\n",
              "            await google.colab.kernel.invokeFunction('convertToInteractive',\n",
              "                                                     [key], {});\n",
              "          if (!dataTable) return;\n",
              "\n",
              "          const docLinkHtml = 'Like what you see? Visit the ' +\n",
              "            '<a target=\"_blank\" href=https://colab.research.google.com/notebooks/data_table.ipynb>data table notebook</a>'\n",
              "            + ' to learn more about interactive tables.';\n",
              "          element.innerHTML = '';\n",
              "          dataTable['output_type'] = 'display_data';\n",
              "          await google.colab.output.renderOutput(dataTable, element);\n",
              "          const docLink = document.createElement('div');\n",
              "          docLink.innerHTML = docLinkHtml;\n",
              "          element.appendChild(docLink);\n",
              "        }\n",
              "      </script>\n",
              "    </div>\n",
              "  </div>\n",
              "  "
            ]
          },
          "metadata": {},
          "execution_count": 29
        }
      ]
    },
    {
      "cell_type": "code",
      "source": [
        "x = new_summary_df\n",
        "y = pd.read_csv(\"/content/summary.csv\")\n",
        "summary_df = pd.concat([x, y], axis=0)"
      ],
      "metadata": {
        "id": "XVixL0qjtZO3"
      },
      "execution_count": null,
      "outputs": []
    },
    {
      "cell_type": "code",
      "source": [
        "summary_df"
      ],
      "metadata": {
        "colab": {
          "base_uri": "https://localhost:8080/",
          "height": 425
        },
        "id": "sl2Hnpz_RusM",
        "outputId": "dcf11bdc-f590-4c23-b463-c5629f5cb848"
      },
      "execution_count": null,
      "outputs": [
        {
          "output_type": "execute_result",
          "data": {
            "text/plain": [
              "                             Run            MAE           MSE\n",
              "0     VARMA_raw_exchange_rate_96       0.021634  6.542305e-04\n",
              "1    VARMA_raw_exchange_rate_192       0.010311  1.602743e-04\n",
              "2    VARMA_raw_exchange_rate_336       0.051648  3.189734e-03\n",
              "3    VARMA_raw_exchange_rate_720       0.049235  3.769635e-03\n",
              "0     VARMA_raw_exchange_rate_96       0.027133  1.628837e-03\n",
              "1    VARMA_raw_exchange_rate_192       0.031108  4.453050e-03\n",
              "2    VARMA_raw_exchange_rate_336       0.050289  5.633712e-03\n",
              "3    VARMA_raw_exchange_rate_720       0.059494  1.099332e-02\n",
              "4  VARMA_raw_national_illness_24   13137.869788  1.405852e+09\n",
              "5  VARMA_raw_national_illness_36   17249.291924  2.094432e+09\n",
              "6  VARMA_raw_national_illness_48  132232.644745  1.243406e+11\n",
              "7  VARMA_raw_national_illness_60   43213.904199  1.457195e+10"
            ],
            "text/html": [
              "\n",
              "  <div id=\"df-fb648406-eadd-44b7-81d0-5d8232278ac5\">\n",
              "    <div class=\"colab-df-container\">\n",
              "      <div>\n",
              "<style scoped>\n",
              "    .dataframe tbody tr th:only-of-type {\n",
              "        vertical-align: middle;\n",
              "    }\n",
              "\n",
              "    .dataframe tbody tr th {\n",
              "        vertical-align: top;\n",
              "    }\n",
              "\n",
              "    .dataframe thead th {\n",
              "        text-align: right;\n",
              "    }\n",
              "</style>\n",
              "<table border=\"1\" class=\"dataframe\">\n",
              "  <thead>\n",
              "    <tr style=\"text-align: right;\">\n",
              "      <th></th>\n",
              "      <th>Run</th>\n",
              "      <th>MAE</th>\n",
              "      <th>MSE</th>\n",
              "    </tr>\n",
              "  </thead>\n",
              "  <tbody>\n",
              "    <tr>\n",
              "      <th>0</th>\n",
              "      <td>VARMA_raw_exchange_rate_96</td>\n",
              "      <td>0.021634</td>\n",
              "      <td>6.542305e-04</td>\n",
              "    </tr>\n",
              "    <tr>\n",
              "      <th>1</th>\n",
              "      <td>VARMA_raw_exchange_rate_192</td>\n",
              "      <td>0.010311</td>\n",
              "      <td>1.602743e-04</td>\n",
              "    </tr>\n",
              "    <tr>\n",
              "      <th>2</th>\n",
              "      <td>VARMA_raw_exchange_rate_336</td>\n",
              "      <td>0.051648</td>\n",
              "      <td>3.189734e-03</td>\n",
              "    </tr>\n",
              "    <tr>\n",
              "      <th>3</th>\n",
              "      <td>VARMA_raw_exchange_rate_720</td>\n",
              "      <td>0.049235</td>\n",
              "      <td>3.769635e-03</td>\n",
              "    </tr>\n",
              "    <tr>\n",
              "      <th>0</th>\n",
              "      <td>VARMA_raw_exchange_rate_96</td>\n",
              "      <td>0.027133</td>\n",
              "      <td>1.628837e-03</td>\n",
              "    </tr>\n",
              "    <tr>\n",
              "      <th>1</th>\n",
              "      <td>VARMA_raw_exchange_rate_192</td>\n",
              "      <td>0.031108</td>\n",
              "      <td>4.453050e-03</td>\n",
              "    </tr>\n",
              "    <tr>\n",
              "      <th>2</th>\n",
              "      <td>VARMA_raw_exchange_rate_336</td>\n",
              "      <td>0.050289</td>\n",
              "      <td>5.633712e-03</td>\n",
              "    </tr>\n",
              "    <tr>\n",
              "      <th>3</th>\n",
              "      <td>VARMA_raw_exchange_rate_720</td>\n",
              "      <td>0.059494</td>\n",
              "      <td>1.099332e-02</td>\n",
              "    </tr>\n",
              "    <tr>\n",
              "      <th>4</th>\n",
              "      <td>VARMA_raw_national_illness_24</td>\n",
              "      <td>13137.869788</td>\n",
              "      <td>1.405852e+09</td>\n",
              "    </tr>\n",
              "    <tr>\n",
              "      <th>5</th>\n",
              "      <td>VARMA_raw_national_illness_36</td>\n",
              "      <td>17249.291924</td>\n",
              "      <td>2.094432e+09</td>\n",
              "    </tr>\n",
              "    <tr>\n",
              "      <th>6</th>\n",
              "      <td>VARMA_raw_national_illness_48</td>\n",
              "      <td>132232.644745</td>\n",
              "      <td>1.243406e+11</td>\n",
              "    </tr>\n",
              "    <tr>\n",
              "      <th>7</th>\n",
              "      <td>VARMA_raw_national_illness_60</td>\n",
              "      <td>43213.904199</td>\n",
              "      <td>1.457195e+10</td>\n",
              "    </tr>\n",
              "  </tbody>\n",
              "</table>\n",
              "</div>\n",
              "      <button class=\"colab-df-convert\" onclick=\"convertToInteractive('df-fb648406-eadd-44b7-81d0-5d8232278ac5')\"\n",
              "              title=\"Convert this dataframe to an interactive table.\"\n",
              "              style=\"display:none;\">\n",
              "        \n",
              "  <svg xmlns=\"http://www.w3.org/2000/svg\" height=\"24px\"viewBox=\"0 0 24 24\"\n",
              "       width=\"24px\">\n",
              "    <path d=\"M0 0h24v24H0V0z\" fill=\"none\"/>\n",
              "    <path d=\"M18.56 5.44l.94 2.06.94-2.06 2.06-.94-2.06-.94-.94-2.06-.94 2.06-2.06.94zm-11 1L8.5 8.5l.94-2.06 2.06-.94-2.06-.94L8.5 2.5l-.94 2.06-2.06.94zm10 10l.94 2.06.94-2.06 2.06-.94-2.06-.94-.94-2.06-.94 2.06-2.06.94z\"/><path d=\"M17.41 7.96l-1.37-1.37c-.4-.4-.92-.59-1.43-.59-.52 0-1.04.2-1.43.59L10.3 9.45l-7.72 7.72c-.78.78-.78 2.05 0 2.83L4 21.41c.39.39.9.59 1.41.59.51 0 1.02-.2 1.41-.59l7.78-7.78 2.81-2.81c.8-.78.8-2.07 0-2.86zM5.41 20L4 18.59l7.72-7.72 1.47 1.35L5.41 20z\"/>\n",
              "  </svg>\n",
              "      </button>\n",
              "      \n",
              "  <style>\n",
              "    .colab-df-container {\n",
              "      display:flex;\n",
              "      flex-wrap:wrap;\n",
              "      gap: 12px;\n",
              "    }\n",
              "\n",
              "    .colab-df-convert {\n",
              "      background-color: #E8F0FE;\n",
              "      border: none;\n",
              "      border-radius: 50%;\n",
              "      cursor: pointer;\n",
              "      display: none;\n",
              "      fill: #1967D2;\n",
              "      height: 32px;\n",
              "      padding: 0 0 0 0;\n",
              "      width: 32px;\n",
              "    }\n",
              "\n",
              "    .colab-df-convert:hover {\n",
              "      background-color: #E2EBFA;\n",
              "      box-shadow: 0px 1px 2px rgba(60, 64, 67, 0.3), 0px 1px 3px 1px rgba(60, 64, 67, 0.15);\n",
              "      fill: #174EA6;\n",
              "    }\n",
              "\n",
              "    [theme=dark] .colab-df-convert {\n",
              "      background-color: #3B4455;\n",
              "      fill: #D2E3FC;\n",
              "    }\n",
              "\n",
              "    [theme=dark] .colab-df-convert:hover {\n",
              "      background-color: #434B5C;\n",
              "      box-shadow: 0px 1px 3px 1px rgba(0, 0, 0, 0.15);\n",
              "      filter: drop-shadow(0px 1px 2px rgba(0, 0, 0, 0.3));\n",
              "      fill: #FFFFFF;\n",
              "    }\n",
              "  </style>\n",
              "\n",
              "      <script>\n",
              "        const buttonEl =\n",
              "          document.querySelector('#df-fb648406-eadd-44b7-81d0-5d8232278ac5 button.colab-df-convert');\n",
              "        buttonEl.style.display =\n",
              "          google.colab.kernel.accessAllowed ? 'block' : 'none';\n",
              "\n",
              "        async function convertToInteractive(key) {\n",
              "          const element = document.querySelector('#df-fb648406-eadd-44b7-81d0-5d8232278ac5');\n",
              "          const dataTable =\n",
              "            await google.colab.kernel.invokeFunction('convertToInteractive',\n",
              "                                                     [key], {});\n",
              "          if (!dataTable) return;\n",
              "\n",
              "          const docLinkHtml = 'Like what you see? Visit the ' +\n",
              "            '<a target=\"_blank\" href=https://colab.research.google.com/notebooks/data_table.ipynb>data table notebook</a>'\n",
              "            + ' to learn more about interactive tables.';\n",
              "          element.innerHTML = '';\n",
              "          dataTable['output_type'] = 'display_data';\n",
              "          await google.colab.output.renderOutput(dataTable, element);\n",
              "          const docLink = document.createElement('div');\n",
              "          docLink.innerHTML = docLinkHtml;\n",
              "          element.appendChild(docLink);\n",
              "        }\n",
              "      </script>\n",
              "    </div>\n",
              "  </div>\n",
              "  "
            ]
          },
          "metadata": {},
          "execution_count": 31
        }
      ]
    },
    {
      "cell_type": "code",
      "source": [
        "x = summary_df_dif\n",
        "y = summary_df\n",
        "summary_df = pd.concat([x, y], axis=0)"
      ],
      "metadata": {
        "id": "7aFoxOFvBgv6"
      },
      "execution_count": null,
      "outputs": []
    },
    {
      "cell_type": "code",
      "source": [
        "summary_df"
      ],
      "metadata": {
        "id": "qa7iT60FSP1z",
        "outputId": "3fb41fe9-9763-4489-ad7b-36975981d6dc",
        "colab": {
          "base_uri": "https://localhost:8080/",
          "height": 551
        }
      },
      "execution_count": null,
      "outputs": [
        {
          "output_type": "execute_result",
          "data": {
            "text/plain": [
              "                             Run            MAE           MSE\n",
              "0    VARMA_diff_exchange_rate_96       0.021664  6.559787e-04\n",
              "1   VARMA_diff_exchange_rate_192       0.013017  3.042629e-04\n",
              "2   VARMA_diff_exchange_rate_336       0.037133  1.669572e-03\n",
              "3   VARMA_diff_exchange_rate_720       0.126629  1.810113e-02\n",
              "0     VARMA_raw_exchange_rate_96       0.021634  6.542305e-04\n",
              "1    VARMA_raw_exchange_rate_192       0.010311  1.602743e-04\n",
              "2    VARMA_raw_exchange_rate_336       0.051648  3.189734e-03\n",
              "3    VARMA_raw_exchange_rate_720       0.049235  3.769635e-03\n",
              "0     VARMA_raw_exchange_rate_96       0.027133  1.628837e-03\n",
              "1    VARMA_raw_exchange_rate_192       0.031108  4.453050e-03\n",
              "2    VARMA_raw_exchange_rate_336       0.050289  5.633712e-03\n",
              "3    VARMA_raw_exchange_rate_720       0.059494  1.099332e-02\n",
              "4  VARMA_raw_national_illness_24   13137.869788  1.405852e+09\n",
              "5  VARMA_raw_national_illness_36   17249.291924  2.094432e+09\n",
              "6  VARMA_raw_national_illness_48  132232.644745  1.243406e+11\n",
              "7  VARMA_raw_national_illness_60   43213.904199  1.457195e+10"
            ],
            "text/html": [
              "\n",
              "  <div id=\"df-37169ed7-84ee-4e0e-b451-49c05597f86d\">\n",
              "    <div class=\"colab-df-container\">\n",
              "      <div>\n",
              "<style scoped>\n",
              "    .dataframe tbody tr th:only-of-type {\n",
              "        vertical-align: middle;\n",
              "    }\n",
              "\n",
              "    .dataframe tbody tr th {\n",
              "        vertical-align: top;\n",
              "    }\n",
              "\n",
              "    .dataframe thead th {\n",
              "        text-align: right;\n",
              "    }\n",
              "</style>\n",
              "<table border=\"1\" class=\"dataframe\">\n",
              "  <thead>\n",
              "    <tr style=\"text-align: right;\">\n",
              "      <th></th>\n",
              "      <th>Run</th>\n",
              "      <th>MAE</th>\n",
              "      <th>MSE</th>\n",
              "    </tr>\n",
              "  </thead>\n",
              "  <tbody>\n",
              "    <tr>\n",
              "      <th>0</th>\n",
              "      <td>VARMA_diff_exchange_rate_96</td>\n",
              "      <td>0.021664</td>\n",
              "      <td>6.559787e-04</td>\n",
              "    </tr>\n",
              "    <tr>\n",
              "      <th>1</th>\n",
              "      <td>VARMA_diff_exchange_rate_192</td>\n",
              "      <td>0.013017</td>\n",
              "      <td>3.042629e-04</td>\n",
              "    </tr>\n",
              "    <tr>\n",
              "      <th>2</th>\n",
              "      <td>VARMA_diff_exchange_rate_336</td>\n",
              "      <td>0.037133</td>\n",
              "      <td>1.669572e-03</td>\n",
              "    </tr>\n",
              "    <tr>\n",
              "      <th>3</th>\n",
              "      <td>VARMA_diff_exchange_rate_720</td>\n",
              "      <td>0.126629</td>\n",
              "      <td>1.810113e-02</td>\n",
              "    </tr>\n",
              "    <tr>\n",
              "      <th>0</th>\n",
              "      <td>VARMA_raw_exchange_rate_96</td>\n",
              "      <td>0.021634</td>\n",
              "      <td>6.542305e-04</td>\n",
              "    </tr>\n",
              "    <tr>\n",
              "      <th>1</th>\n",
              "      <td>VARMA_raw_exchange_rate_192</td>\n",
              "      <td>0.010311</td>\n",
              "      <td>1.602743e-04</td>\n",
              "    </tr>\n",
              "    <tr>\n",
              "      <th>2</th>\n",
              "      <td>VARMA_raw_exchange_rate_336</td>\n",
              "      <td>0.051648</td>\n",
              "      <td>3.189734e-03</td>\n",
              "    </tr>\n",
              "    <tr>\n",
              "      <th>3</th>\n",
              "      <td>VARMA_raw_exchange_rate_720</td>\n",
              "      <td>0.049235</td>\n",
              "      <td>3.769635e-03</td>\n",
              "    </tr>\n",
              "    <tr>\n",
              "      <th>0</th>\n",
              "      <td>VARMA_raw_exchange_rate_96</td>\n",
              "      <td>0.027133</td>\n",
              "      <td>1.628837e-03</td>\n",
              "    </tr>\n",
              "    <tr>\n",
              "      <th>1</th>\n",
              "      <td>VARMA_raw_exchange_rate_192</td>\n",
              "      <td>0.031108</td>\n",
              "      <td>4.453050e-03</td>\n",
              "    </tr>\n",
              "    <tr>\n",
              "      <th>2</th>\n",
              "      <td>VARMA_raw_exchange_rate_336</td>\n",
              "      <td>0.050289</td>\n",
              "      <td>5.633712e-03</td>\n",
              "    </tr>\n",
              "    <tr>\n",
              "      <th>3</th>\n",
              "      <td>VARMA_raw_exchange_rate_720</td>\n",
              "      <td>0.059494</td>\n",
              "      <td>1.099332e-02</td>\n",
              "    </tr>\n",
              "    <tr>\n",
              "      <th>4</th>\n",
              "      <td>VARMA_raw_national_illness_24</td>\n",
              "      <td>13137.869788</td>\n",
              "      <td>1.405852e+09</td>\n",
              "    </tr>\n",
              "    <tr>\n",
              "      <th>5</th>\n",
              "      <td>VARMA_raw_national_illness_36</td>\n",
              "      <td>17249.291924</td>\n",
              "      <td>2.094432e+09</td>\n",
              "    </tr>\n",
              "    <tr>\n",
              "      <th>6</th>\n",
              "      <td>VARMA_raw_national_illness_48</td>\n",
              "      <td>132232.644745</td>\n",
              "      <td>1.243406e+11</td>\n",
              "    </tr>\n",
              "    <tr>\n",
              "      <th>7</th>\n",
              "      <td>VARMA_raw_national_illness_60</td>\n",
              "      <td>43213.904199</td>\n",
              "      <td>1.457195e+10</td>\n",
              "    </tr>\n",
              "  </tbody>\n",
              "</table>\n",
              "</div>\n",
              "      <button class=\"colab-df-convert\" onclick=\"convertToInteractive('df-37169ed7-84ee-4e0e-b451-49c05597f86d')\"\n",
              "              title=\"Convert this dataframe to an interactive table.\"\n",
              "              style=\"display:none;\">\n",
              "        \n",
              "  <svg xmlns=\"http://www.w3.org/2000/svg\" height=\"24px\"viewBox=\"0 0 24 24\"\n",
              "       width=\"24px\">\n",
              "    <path d=\"M0 0h24v24H0V0z\" fill=\"none\"/>\n",
              "    <path d=\"M18.56 5.44l.94 2.06.94-2.06 2.06-.94-2.06-.94-.94-2.06-.94 2.06-2.06.94zm-11 1L8.5 8.5l.94-2.06 2.06-.94-2.06-.94L8.5 2.5l-.94 2.06-2.06.94zm10 10l.94 2.06.94-2.06 2.06-.94-2.06-.94-.94-2.06-.94 2.06-2.06.94z\"/><path d=\"M17.41 7.96l-1.37-1.37c-.4-.4-.92-.59-1.43-.59-.52 0-1.04.2-1.43.59L10.3 9.45l-7.72 7.72c-.78.78-.78 2.05 0 2.83L4 21.41c.39.39.9.59 1.41.59.51 0 1.02-.2 1.41-.59l7.78-7.78 2.81-2.81c.8-.78.8-2.07 0-2.86zM5.41 20L4 18.59l7.72-7.72 1.47 1.35L5.41 20z\"/>\n",
              "  </svg>\n",
              "      </button>\n",
              "      \n",
              "  <style>\n",
              "    .colab-df-container {\n",
              "      display:flex;\n",
              "      flex-wrap:wrap;\n",
              "      gap: 12px;\n",
              "    }\n",
              "\n",
              "    .colab-df-convert {\n",
              "      background-color: #E8F0FE;\n",
              "      border: none;\n",
              "      border-radius: 50%;\n",
              "      cursor: pointer;\n",
              "      display: none;\n",
              "      fill: #1967D2;\n",
              "      height: 32px;\n",
              "      padding: 0 0 0 0;\n",
              "      width: 32px;\n",
              "    }\n",
              "\n",
              "    .colab-df-convert:hover {\n",
              "      background-color: #E2EBFA;\n",
              "      box-shadow: 0px 1px 2px rgba(60, 64, 67, 0.3), 0px 1px 3px 1px rgba(60, 64, 67, 0.15);\n",
              "      fill: #174EA6;\n",
              "    }\n",
              "\n",
              "    [theme=dark] .colab-df-convert {\n",
              "      background-color: #3B4455;\n",
              "      fill: #D2E3FC;\n",
              "    }\n",
              "\n",
              "    [theme=dark] .colab-df-convert:hover {\n",
              "      background-color: #434B5C;\n",
              "      box-shadow: 0px 1px 3px 1px rgba(0, 0, 0, 0.15);\n",
              "      filter: drop-shadow(0px 1px 2px rgba(0, 0, 0, 0.3));\n",
              "      fill: #FFFFFF;\n",
              "    }\n",
              "  </style>\n",
              "\n",
              "      <script>\n",
              "        const buttonEl =\n",
              "          document.querySelector('#df-37169ed7-84ee-4e0e-b451-49c05597f86d button.colab-df-convert');\n",
              "        buttonEl.style.display =\n",
              "          google.colab.kernel.accessAllowed ? 'block' : 'none';\n",
              "\n",
              "        async function convertToInteractive(key) {\n",
              "          const element = document.querySelector('#df-37169ed7-84ee-4e0e-b451-49c05597f86d');\n",
              "          const dataTable =\n",
              "            await google.colab.kernel.invokeFunction('convertToInteractive',\n",
              "                                                     [key], {});\n",
              "          if (!dataTable) return;\n",
              "\n",
              "          const docLinkHtml = 'Like what you see? Visit the ' +\n",
              "            '<a target=\"_blank\" href=https://colab.research.google.com/notebooks/data_table.ipynb>data table notebook</a>'\n",
              "            + ' to learn more about interactive tables.';\n",
              "          element.innerHTML = '';\n",
              "          dataTable['output_type'] = 'display_data';\n",
              "          await google.colab.output.renderOutput(dataTable, element);\n",
              "          const docLink = document.createElement('div');\n",
              "          docLink.innerHTML = docLinkHtml;\n",
              "          element.appendChild(docLink);\n",
              "        }\n",
              "      </script>\n",
              "    </div>\n",
              "  </div>\n",
              "  "
            ]
          },
          "metadata": {},
          "execution_count": 33
        }
      ]
    },
    {
      "cell_type": "code",
      "execution_count": null,
      "metadata": {
        "id": "vcCMnne--Vdd"
      },
      "outputs": [],
      "source": [
        "summary_df.to_csv(f\"summary.csv\", index=False)"
      ]
    },
    {
      "cell_type": "code",
      "execution_count": null,
      "metadata": {
        "colab": {
          "base_uri": "https://localhost:8080/",
          "height": 300
        },
        "id": "ZH3TGicD-HzB",
        "outputId": "5fa1df89-3461-474e-fe71-df6ec098cd70"
      },
      "outputs": [
        {
          "output_type": "execute_result",
          "data": {
            "text/plain": [
              "                             Run            MAE           MSE\n",
              "0     VARMA_raw_exchange_rate_96       0.027133  1.628837e-03\n",
              "1    VARMA_raw_exchange_rate_192       0.031108  4.453050e-03\n",
              "2    VARMA_raw_exchange_rate_336       0.050289  5.633712e-03\n",
              "3    VARMA_raw_exchange_rate_720       0.059494  1.099332e-02\n",
              "0  VARMA_raw_national_illness_24   13137.869788  1.405852e+09\n",
              "1  VARMA_raw_national_illness_36   17249.291924  2.094432e+09\n",
              "2  VARMA_raw_national_illness_48  132232.644745  1.243406e+11\n",
              "3  VARMA_raw_national_illness_60   43213.904199  1.457195e+10"
            ],
            "text/html": [
              "\n",
              "  <div id=\"df-8921c382-d761-464c-ae8c-dfe1e4e10539\">\n",
              "    <div class=\"colab-df-container\">\n",
              "      <div>\n",
              "<style scoped>\n",
              "    .dataframe tbody tr th:only-of-type {\n",
              "        vertical-align: middle;\n",
              "    }\n",
              "\n",
              "    .dataframe tbody tr th {\n",
              "        vertical-align: top;\n",
              "    }\n",
              "\n",
              "    .dataframe thead th {\n",
              "        text-align: right;\n",
              "    }\n",
              "</style>\n",
              "<table border=\"1\" class=\"dataframe\">\n",
              "  <thead>\n",
              "    <tr style=\"text-align: right;\">\n",
              "      <th></th>\n",
              "      <th>Run</th>\n",
              "      <th>MAE</th>\n",
              "      <th>MSE</th>\n",
              "    </tr>\n",
              "  </thead>\n",
              "  <tbody>\n",
              "    <tr>\n",
              "      <th>0</th>\n",
              "      <td>VARMA_raw_exchange_rate_96</td>\n",
              "      <td>0.027133</td>\n",
              "      <td>1.628837e-03</td>\n",
              "    </tr>\n",
              "    <tr>\n",
              "      <th>1</th>\n",
              "      <td>VARMA_raw_exchange_rate_192</td>\n",
              "      <td>0.031108</td>\n",
              "      <td>4.453050e-03</td>\n",
              "    </tr>\n",
              "    <tr>\n",
              "      <th>2</th>\n",
              "      <td>VARMA_raw_exchange_rate_336</td>\n",
              "      <td>0.050289</td>\n",
              "      <td>5.633712e-03</td>\n",
              "    </tr>\n",
              "    <tr>\n",
              "      <th>3</th>\n",
              "      <td>VARMA_raw_exchange_rate_720</td>\n",
              "      <td>0.059494</td>\n",
              "      <td>1.099332e-02</td>\n",
              "    </tr>\n",
              "    <tr>\n",
              "      <th>0</th>\n",
              "      <td>VARMA_raw_national_illness_24</td>\n",
              "      <td>13137.869788</td>\n",
              "      <td>1.405852e+09</td>\n",
              "    </tr>\n",
              "    <tr>\n",
              "      <th>1</th>\n",
              "      <td>VARMA_raw_national_illness_36</td>\n",
              "      <td>17249.291924</td>\n",
              "      <td>2.094432e+09</td>\n",
              "    </tr>\n",
              "    <tr>\n",
              "      <th>2</th>\n",
              "      <td>VARMA_raw_national_illness_48</td>\n",
              "      <td>132232.644745</td>\n",
              "      <td>1.243406e+11</td>\n",
              "    </tr>\n",
              "    <tr>\n",
              "      <th>3</th>\n",
              "      <td>VARMA_raw_national_illness_60</td>\n",
              "      <td>43213.904199</td>\n",
              "      <td>1.457195e+10</td>\n",
              "    </tr>\n",
              "  </tbody>\n",
              "</table>\n",
              "</div>\n",
              "      <button class=\"colab-df-convert\" onclick=\"convertToInteractive('df-8921c382-d761-464c-ae8c-dfe1e4e10539')\"\n",
              "              title=\"Convert this dataframe to an interactive table.\"\n",
              "              style=\"display:none;\">\n",
              "        \n",
              "  <svg xmlns=\"http://www.w3.org/2000/svg\" height=\"24px\"viewBox=\"0 0 24 24\"\n",
              "       width=\"24px\">\n",
              "    <path d=\"M0 0h24v24H0V0z\" fill=\"none\"/>\n",
              "    <path d=\"M18.56 5.44l.94 2.06.94-2.06 2.06-.94-2.06-.94-.94-2.06-.94 2.06-2.06.94zm-11 1L8.5 8.5l.94-2.06 2.06-.94-2.06-.94L8.5 2.5l-.94 2.06-2.06.94zm10 10l.94 2.06.94-2.06 2.06-.94-2.06-.94-.94-2.06-.94 2.06-2.06.94z\"/><path d=\"M17.41 7.96l-1.37-1.37c-.4-.4-.92-.59-1.43-.59-.52 0-1.04.2-1.43.59L10.3 9.45l-7.72 7.72c-.78.78-.78 2.05 0 2.83L4 21.41c.39.39.9.59 1.41.59.51 0 1.02-.2 1.41-.59l7.78-7.78 2.81-2.81c.8-.78.8-2.07 0-2.86zM5.41 20L4 18.59l7.72-7.72 1.47 1.35L5.41 20z\"/>\n",
              "  </svg>\n",
              "      </button>\n",
              "      \n",
              "  <style>\n",
              "    .colab-df-container {\n",
              "      display:flex;\n",
              "      flex-wrap:wrap;\n",
              "      gap: 12px;\n",
              "    }\n",
              "\n",
              "    .colab-df-convert {\n",
              "      background-color: #E8F0FE;\n",
              "      border: none;\n",
              "      border-radius: 50%;\n",
              "      cursor: pointer;\n",
              "      display: none;\n",
              "      fill: #1967D2;\n",
              "      height: 32px;\n",
              "      padding: 0 0 0 0;\n",
              "      width: 32px;\n",
              "    }\n",
              "\n",
              "    .colab-df-convert:hover {\n",
              "      background-color: #E2EBFA;\n",
              "      box-shadow: 0px 1px 2px rgba(60, 64, 67, 0.3), 0px 1px 3px 1px rgba(60, 64, 67, 0.15);\n",
              "      fill: #174EA6;\n",
              "    }\n",
              "\n",
              "    [theme=dark] .colab-df-convert {\n",
              "      background-color: #3B4455;\n",
              "      fill: #D2E3FC;\n",
              "    }\n",
              "\n",
              "    [theme=dark] .colab-df-convert:hover {\n",
              "      background-color: #434B5C;\n",
              "      box-shadow: 0px 1px 3px 1px rgba(0, 0, 0, 0.15);\n",
              "      filter: drop-shadow(0px 1px 2px rgba(0, 0, 0, 0.3));\n",
              "      fill: #FFFFFF;\n",
              "    }\n",
              "  </style>\n",
              "\n",
              "      <script>\n",
              "        const buttonEl =\n",
              "          document.querySelector('#df-8921c382-d761-464c-ae8c-dfe1e4e10539 button.colab-df-convert');\n",
              "        buttonEl.style.display =\n",
              "          google.colab.kernel.accessAllowed ? 'block' : 'none';\n",
              "\n",
              "        async function convertToInteractive(key) {\n",
              "          const element = document.querySelector('#df-8921c382-d761-464c-ae8c-dfe1e4e10539');\n",
              "          const dataTable =\n",
              "            await google.colab.kernel.invokeFunction('convertToInteractive',\n",
              "                                                     [key], {});\n",
              "          if (!dataTable) return;\n",
              "\n",
              "          const docLinkHtml = 'Like what you see? Visit the ' +\n",
              "            '<a target=\"_blank\" href=https://colab.research.google.com/notebooks/data_table.ipynb>data table notebook</a>'\n",
              "            + ' to learn more about interactive tables.';\n",
              "          element.innerHTML = '';\n",
              "          dataTable['output_type'] = 'display_data';\n",
              "          await google.colab.output.renderOutput(dataTable, element);\n",
              "          const docLink = document.createElement('div');\n",
              "          docLink.innerHTML = docLinkHtml;\n",
              "          element.appendChild(docLink);\n",
              "        }\n",
              "      </script>\n",
              "    </div>\n",
              "  </div>\n",
              "  "
            ]
          },
          "metadata": {},
          "execution_count": 115
        }
      ],
      "source": [
        "summary_df"
      ]
    },
    {
      "cell_type": "code",
      "execution_count": null,
      "metadata": {
        "id": "49KBokjtJ6ob"
      },
      "outputs": [],
      "source": [
        "forecast_test = model_fit.forecast(len(y))\n",
        "\n",
        "Xy['forecast'] = [None]*len(X) + list(forecast_test['OT'])\n",
        "\n",
        "forecast_df = Xy[['forecast', 'OT']]\n",
        "\n",
        "forecast_df.plot()"
      ]
    },
    {
      "cell_type": "code",
      "source": [
        "results = pd.read_csv('/content/results_VARMA_raw_national_illness.csv')\n",
        "results[['OT', 'forecast_48']].plot()"
      ],
      "metadata": {
        "colab": {
          "base_uri": "https://localhost:8080/",
          "height": 463
        },
        "id": "JAjIneoY6MaE",
        "outputId": "ee25f260-eb63-4825-8eaf-75ffa8fbb372"
      },
      "execution_count": null,
      "outputs": [
        {
          "output_type": "execute_result",
          "data": {
            "text/plain": [
              "<Axes: >"
            ]
          },
          "metadata": {},
          "execution_count": 13
        },
        {
          "output_type": "display_data",
          "data": {
            "text/plain": [
              "<Figure size 640x480 with 1 Axes>"
            ],
            "image/png": "[encoded data removed]"
          },
          "metadata": {}
        }
      ]
    },
    {
      "cell_type": "code",
      "execution_count": null,
      "metadata": {
        "id": "tWN3zlPb-0np"
      },
      "outputs": [],
      "source": [
        "model_fit.save('file')"
      ]
    },
    {
      "cell_type": "code",
      "execution_count": null,
      "metadata": {
        "colab": {
          "base_uri": "https://localhost:8080/"
        },
        "id": "EarcVlwT_7nm",
        "outputId": "79aa9c38-7ae6-4e0c-dbad-0d52a0e3c3db"
      },
      "outputs": [
        {
          "name": "stdout",
          "output_type": "stream",
          "text": [
            "mae - manual: 54684.13101456211\n",
            "mape - manual: 1.0247263141539051\n",
            "rmse - manual: 151512.9076064852\n"
          ]
        }
      ],
      "source": [
        "mae = mean_absolute_error(y, forecast_test)\n",
        "mape = mean_absolute_percentage_error(y, forecast_test)\n",
        "rmse = np.sqrt(mean_squared_error(y, forecast_test))\n",
        "\n",
        "print(f'mae - manual: {mae}')\n",
        "print(f'mape - manual: {mape}')\n",
        "print(f'rmse - manual: {rmse}')"
      ]
    },
    {
      "cell_type": "code",
      "execution_count": null,
      "metadata": {
        "id": "pcGWv9ypKZNZ"
      },
      "outputs": [],
      "source": []
    }
  ],
  "metadata": {
    "colab": {
      "provenance": []
    },
    "kernelspec": {
      "display_name": "Python 3",
      "name": "python3"
    },
    "language_info": {
      "name": "python"
    }
  },
  "nbformat": 4,
  "nbformat_minor": 0
}