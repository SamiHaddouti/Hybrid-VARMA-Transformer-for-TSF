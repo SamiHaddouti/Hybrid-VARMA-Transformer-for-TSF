{
  "cells": [
    {
      "cell_type": "markdown",
      "metadata": {
        "id": "bh7pQwi99Uy0"
      },
      "source": [
        "# Clone model repos"
      ]
    },
    {
      "cell_type": "code",
      "execution_count": 1,
      "metadata": {
        "colab": {
          "base_uri": "https://localhost:8080/"
        },
        "id": "zzvuL0u6855Y",
        "outputId": "4992f563-8b82-4622-d237-0c22fb2112ef"
      },
      "outputs": [
        {
          "output_type": "stream",
          "name": "stdout",
          "text": [
            "Cloning into 'PatchTST'...\n",
            "remote: Enumerating objects: 335, done.\u001b[K\n",
            "remote: Counting objects: 100% (335/335), done.\u001b[K\n",
            "remote: Compressing objects: 100% (206/206), done.\u001b[K\n",
            "remote: Total 335 (delta 128), reused 303 (delta 109), pack-reused 0\u001b[K\n",
            "Receiving objects: 100% (335/335), 10.96 MiB | 11.70 MiB/s, done.\n",
            "Resolving deltas: 100% (128/128), done.\n"
          ]
        }
      ],
      "source": [
        "!git clone https://github.com/SamiHaddouti/PatchTST.git"
      ]
    },
    {
      "cell_type": "code",
      "execution_count": 2,
      "metadata": {
        "colab": {
          "base_uri": "https://localhost:8080/"
        },
        "id": "gFhAh3uX9UHh",
        "outputId": "76a81b38-3fac-4c21-f64b-5fc8a84f7f0a"
      },
      "outputs": [
        {
          "output_type": "stream",
          "name": "stdout",
          "text": [
            "Cloning into 'Time-Series-Library'...\n",
            "remote: Enumerating objects: 327, done.\u001b[K\n",
            "remote: Counting objects: 100% (327/327), done.\u001b[K\n",
            "remote: Compressing objects: 100% (123/123), done.\u001b[K\n",
            "remote: Total 327 (delta 218), reused 302 (delta 198), pack-reused 0\u001b[K\n",
            "Receiving objects: 100% (327/327), 1.24 MiB | 13.92 MiB/s, done.\n",
            "Resolving deltas: 100% (218/218), done.\n"
          ]
        }
      ],
      "source": [
        "!git clone https://github.com/SamiHaddouti/Time-Series-Library.git"
      ]
    },
    {
      "cell_type": "markdown",
      "metadata": {
        "id": "MNJRKqrk9aqz"
      },
      "source": [
        "## Git commands"
      ]
    },
    {
      "cell_type": "code",
      "execution_count": null,
      "metadata": {
        "id": "XxhLsvQ9Vfaa"
      },
      "outputs": [],
      "source": [
        "!git stash"
      ]
    },
    {
      "cell_type": "code",
      "execution_count": null,
      "metadata": {
        "id": "1lFei4BRN0st"
      },
      "outputs": [],
      "source": [
        "!git pull"
      ]
    },
    {
      "cell_type": "markdown",
      "metadata": {
        "id": "HLw8k4Sc9v8j"
      },
      "source": [
        "# Other Transformer Models (TSLibrary)"
      ]
    },
    {
      "cell_type": "code",
      "execution_count": 3,
      "metadata": {
        "colab": {
          "base_uri": "https://localhost:8080/"
        },
        "id": "IsFJmlfF910k",
        "outputId": "09b59a25-18b0-41f8-b08a-84df52a37831"
      },
      "outputs": [
        {
          "output_type": "stream",
          "name": "stdout",
          "text": [
            "/content/Time-Series-Library\n"
          ]
        }
      ],
      "source": [
        "%cd /content/Time-Series-Library"
      ]
    },
    {
      "cell_type": "code",
      "execution_count": 4,
      "metadata": {
        "id": "XgpbMmDA-RFJ",
        "colab": {
          "base_uri": "https://localhost:8080/",
          "height": 1000
        },
        "outputId": "13d0f78b-926a-43f7-9011-be924bfabcdd"
      },
      "outputs": [
        {
          "output_type": "stream",
          "name": "stdout",
          "text": [
            "Looking in indexes: https://pypi.org/simple, https://us-python.pkg.dev/colab-wheels/public/simple/\n",
            "Collecting einops==0.4.0\n",
            "  Downloading einops-0.4.0-py3-none-any.whl (28 kB)\n",
            "Collecting matplotlib==3.7.0\n",
            "  Downloading matplotlib-3.7.0-cp310-cp310-manylinux_2_17_x86_64.manylinux2014_x86_64.whl (11.6 MB)\n",
            "\u001b[2K     \u001b[90m━━━━━━━━━━━━━━━━━━━━━━━━━━━━━━━━━━━━━━━\u001b[0m \u001b[32m11.6/11.6 MB\u001b[0m \u001b[31m102.9 MB/s\u001b[0m eta \u001b[36m0:00:00\u001b[0m\n",
            "\u001b[?25hCollecting numpy==1.23.5\n",
            "  Downloading numpy-1.23.5-cp310-cp310-manylinux_2_17_x86_64.manylinux2014_x86_64.whl (17.1 MB)\n",
            "\u001b[2K     \u001b[90m━━━━━━━━━━━━━━━━━━━━━━━━━━━━━━━━━━━━━━━━\u001b[0m \u001b[32m17.1/17.1 MB\u001b[0m \u001b[31m91.7 MB/s\u001b[0m eta \u001b[36m0:00:00\u001b[0m\n",
            "\u001b[?25hRequirement already satisfied: pandas==1.5.3 in /usr/local/lib/python3.10/dist-packages (from -r requirements.txt (line 4)) (1.5.3)\n",
            "Collecting patool==1.12\n",
            "  Downloading patool-1.12-py2.py3-none-any.whl (77 kB)\n",
            "\u001b[2K     \u001b[90m━━━━━━━━━━━━━━━━━━━━━━━━━━━━━━━━━━━━━━━━\u001b[0m \u001b[32m77.5/77.5 kB\u001b[0m \u001b[31m9.4 MB/s\u001b[0m eta \u001b[36m0:00:00\u001b[0m\n",
            "\u001b[?25hCollecting reformer-pytorch==1.4.4\n",
            "  Downloading reformer_pytorch-1.4.4-py3-none-any.whl (16 kB)\n",
            "Requirement already satisfied: scikit-learn==1.2.2 in /usr/local/lib/python3.10/dist-packages (from -r requirements.txt (line 7)) (1.2.2)\n",
            "Requirement already satisfied: scipy==1.10.1 in /usr/local/lib/python3.10/dist-packages (from -r requirements.txt (line 8)) (1.10.1)\n",
            "Requirement already satisfied: sympy==1.11.1 in /usr/local/lib/python3.10/dist-packages (from -r requirements.txt (line 9)) (1.11.1)\n",
            "Requirement already satisfied: torch==2.0.0 in /usr/local/lib/python3.10/dist-packages (from -r requirements.txt (line 10)) (2.0.0+cu118)\n",
            "Collecting tqdm==4.64.1\n",
            "  Downloading tqdm-4.64.1-py2.py3-none-any.whl (78 kB)\n",
            "\u001b[2K     \u001b[90m━━━━━━━━━━━━━━━━━━━━━━━━━━━━━━━━━━━━━━━━\u001b[0m \u001b[32m78.5/78.5 kB\u001b[0m \u001b[31m10.6 MB/s\u001b[0m eta \u001b[36m0:00:00\u001b[0m\n",
            "\u001b[?25hCollecting sktime==0.18.0\n",
            "  Downloading sktime-0.18.0-py3-none-any.whl (16.9 MB)\n",
            "\u001b[2K     \u001b[90m━━━━━━━━━━━━━━━━━━━━━━━━━━━━━━━━━━━━━━━━\u001b[0m \u001b[32m16.9/16.9 MB\u001b[0m \u001b[31m73.1 MB/s\u001b[0m eta \u001b[36m0:00:00\u001b[0m\n",
            "\u001b[?25hRequirement already satisfied: cycler>=0.10 in /usr/local/lib/python3.10/dist-packages (from matplotlib==3.7.0->-r requirements.txt (line 2)) (0.11.0)\n",
            "Requirement already satisfied: fonttools>=4.22.0 in /usr/local/lib/python3.10/dist-packages (from matplotlib==3.7.0->-r requirements.txt (line 2)) (4.39.3)\n",
            "Requirement already satisfied: contourpy>=1.0.1 in /usr/local/lib/python3.10/dist-packages (from matplotlib==3.7.0->-r requirements.txt (line 2)) (1.0.7)\n",
            "Requirement already satisfied: pillow>=6.2.0 in /usr/local/lib/python3.10/dist-packages (from matplotlib==3.7.0->-r requirements.txt (line 2)) (8.4.0)\n",
            "Requirement already satisfied: python-dateutil>=2.7 in /usr/local/lib/python3.10/dist-packages (from matplotlib==3.7.0->-r requirements.txt (line 2)) (2.8.2)\n",
            "Requirement already satisfied: kiwisolver>=1.0.1 in /usr/local/lib/python3.10/dist-packages (from matplotlib==3.7.0->-r requirements.txt (line 2)) (1.4.4)\n",
            "Requirement already satisfied: packaging>=20.0 in /usr/local/lib/python3.10/dist-packages (from matplotlib==3.7.0->-r requirements.txt (line 2)) (23.1)\n",
            "Requirement already satisfied: pyparsing>=2.3.1 in /usr/local/lib/python3.10/dist-packages (from matplotlib==3.7.0->-r requirements.txt (line 2)) (3.0.9)\n",
            "Requirement already satisfied: pytz>=2020.1 in /usr/local/lib/python3.10/dist-packages (from pandas==1.5.3->-r requirements.txt (line 4)) (2022.7.1)\n",
            "Collecting local-attention\n",
            "  Downloading local_attention-1.8.6-py3-none-any.whl (8.1 kB)\n",
            "Collecting product-key-memory\n",
            "  Downloading product_key_memory-0.1.10.tar.gz (3.5 kB)\n",
            "  Preparing metadata (setup.py) ... \u001b[?25l\u001b[?25hdone\n",
            "Collecting axial-positional-embedding>=0.1.0\n",
            "  Downloading axial_positional_embedding-0.2.1.tar.gz (2.6 kB)\n",
            "  Preparing metadata (setup.py) ... \u001b[?25l\u001b[?25hdone\n",
            "Requirement already satisfied: threadpoolctl>=2.0.0 in /usr/local/lib/python3.10/dist-packages (from scikit-learn==1.2.2->-r requirements.txt (line 7)) (3.1.0)\n",
            "Requirement already satisfied: joblib>=1.1.1 in /usr/local/lib/python3.10/dist-packages (from scikit-learn==1.2.2->-r requirements.txt (line 7)) (1.2.0)\n",
            "Requirement already satisfied: mpmath>=0.19 in /usr/local/lib/python3.10/dist-packages (from sympy==1.11.1->-r requirements.txt (line 9)) (1.3.0)\n",
            "Requirement already satisfied: filelock in /usr/local/lib/python3.10/dist-packages (from torch==2.0.0->-r requirements.txt (line 10)) (3.12.0)\n",
            "Requirement already satisfied: triton==2.0.0 in /usr/local/lib/python3.10/dist-packages (from torch==2.0.0->-r requirements.txt (line 10)) (2.0.0)\n",
            "Requirement already satisfied: networkx in /usr/local/lib/python3.10/dist-packages (from torch==2.0.0->-r requirements.txt (line 10)) (3.1)\n",
            "Requirement already satisfied: typing-extensions in /usr/local/lib/python3.10/dist-packages (from torch==2.0.0->-r requirements.txt (line 10)) (4.5.0)\n",
            "Requirement already satisfied: jinja2 in /usr/local/lib/python3.10/dist-packages (from torch==2.0.0->-r requirements.txt (line 10)) (3.1.2)\n",
            "Collecting deprecated>=1.2.13\n",
            "  Downloading Deprecated-1.2.13-py2.py3-none-any.whl (9.6 kB)\n",
            "Collecting scikit-base<0.5.0\n",
            "  Downloading scikit_base-0.4.3-py3-none-any.whl (116 kB)\n",
            "\u001b[2K     \u001b[90m━━━━━━━━━━━━━━━━━━━━━━━━━━━━━━━━━━━━━━\u001b[0m \u001b[32m116.6/116.6 kB\u001b[0m \u001b[31m15.0 MB/s\u001b[0m eta \u001b[36m0:00:00\u001b[0m\n",
            "\u001b[?25hRequirement already satisfied: lit in /usr/local/lib/python3.10/dist-packages (from triton==2.0.0->torch==2.0.0->-r requirements.txt (line 10)) (16.0.2)\n",
            "Requirement already satisfied: cmake in /usr/local/lib/python3.10/dist-packages (from triton==2.0.0->torch==2.0.0->-r requirements.txt (line 10)) (3.25.2)\n",
            "Requirement already satisfied: wrapt<2,>=1.10 in /usr/local/lib/python3.10/dist-packages (from deprecated>=1.2.13->sktime==0.18.0->-r requirements.txt (line 12)) (1.14.1)\n",
            "Requirement already satisfied: six>=1.5 in /usr/local/lib/python3.10/dist-packages (from python-dateutil>=2.7->matplotlib==3.7.0->-r requirements.txt (line 2)) (1.16.0)\n",
            "Requirement already satisfied: MarkupSafe>=2.0 in /usr/local/lib/python3.10/dist-packages (from jinja2->torch==2.0.0->-r requirements.txt (line 10)) (2.1.2)\n",
            "Collecting local-attention\n",
            "  Downloading local_attention-1.8.5-py3-none-any.whl (8.1 kB)\n",
            "  Downloading local_attention-1.8.4-py3-none-any.whl (8.0 kB)\n",
            "  Downloading local_attention-1.8.2-py3-none-any.whl (7.9 kB)\n",
            "  Downloading local_attention-1.8.1-py3-none-any.whl (8.0 kB)\n",
            "  Downloading local_attention-1.8.0-py3-none-any.whl (7.9 kB)\n",
            "  Downloading local_attention-1.7.2-py3-none-any.whl (7.5 kB)\n",
            "  Downloading local_attention-1.7.1-py3-none-any.whl (7.4 kB)\n",
            "  Downloading local_attention-1.7.0-py3-none-any.whl (7.4 kB)\n",
            "  Downloading local_attention-1.6.0-py3-none-any.whl (7.0 kB)\n",
            "  Downloading local_attention-1.5.8-py3-none-any.whl (6.9 kB)\n",
            "  Downloading local_attention-1.5.7-py3-none-any.whl (6.9 kB)\n",
            "  Downloading local_attention-1.5.6-py3-none-any.whl (6.9 kB)\n",
            "  Downloading local_attention-1.5.5-py3-none-any.whl (6.8 kB)\n",
            "  Downloading local_attention-1.5.4-py3-none-any.whl (6.8 kB)\n",
            "  Downloading local_attention-1.5.3-py3-none-any.whl (6.8 kB)\n",
            "  Downloading local_attention-1.5.2-py3-none-any.whl (6.8 kB)\n",
            "  Downloading local_attention-1.5.1-py3-none-any.whl (6.8 kB)\n",
            "  Downloading local_attention-1.5.0-py3-none-any.whl (6.7 kB)\n",
            "  Downloading local_attention-1.4.4-py3-none-any.whl (5.0 kB)\n",
            "Building wheels for collected packages: axial-positional-embedding, product-key-memory\n",
            "  Building wheel for axial-positional-embedding (setup.py) ... \u001b[?25l\u001b[?25hdone\n",
            "  Created wheel for axial-positional-embedding: filename=axial_positional_embedding-0.2.1-py3-none-any.whl size=2901 sha256=660e83b65168e74d492d353501ddef3cef7eb7b71f83482aed252954eeabb3d9\n",
            "  Stored in directory: /root/.cache/pip/wheels/b1/cb/39/7ce7ff2d2fd37cfe1fe7b3a3c43cf410632b2ad3b3f3986d73\n",
            "  Building wheel for product-key-memory (setup.py) ... \u001b[?25l\u001b[?25hdone\n",
            "  Created wheel for product-key-memory: filename=product_key_memory-0.1.10-py3-none-any.whl size=3068 sha256=414b5fb86606be9a42b57e0b7a8fd9645459e0d34b3a57c5c8587b55da22c7f9\n",
            "  Stored in directory: /root/.cache/pip/wheels/2c/97/82/f94ef75772952e1eaec19864fc840620ec94d9ac7c9c0b6823\n",
            "Successfully built axial-positional-embedding product-key-memory\n",
            "Installing collected packages: patool, einops, tqdm, scikit-base, numpy, deprecated, matplotlib, sktime, product-key-memory, local-attention, axial-positional-embedding, reformer-pytorch\n",
            "  Attempting uninstall: tqdm\n",
            "    Found existing installation: tqdm 4.65.0\n",
            "    Uninstalling tqdm-4.65.0:\n",
            "      Successfully uninstalled tqdm-4.65.0\n",
            "  Attempting uninstall: numpy\n",
            "    Found existing installation: numpy 1.22.4\n",
            "    Uninstalling numpy-1.22.4:\n",
            "      Successfully uninstalled numpy-1.22.4\n",
            "  Attempting uninstall: matplotlib\n",
            "    Found existing installation: matplotlib 3.7.1\n",
            "    Uninstalling matplotlib-3.7.1:\n",
            "      Successfully uninstalled matplotlib-3.7.1\n",
            "Successfully installed axial-positional-embedding-0.2.1 deprecated-1.2.13 einops-0.4.0 local-attention-1.4.4 matplotlib-3.7.0 numpy-1.23.5 patool-1.12 product-key-memory-0.1.10 reformer-pytorch-1.4.4 scikit-base-0.4.3 sktime-0.18.0 tqdm-4.64.1\n"
          ]
        },
        {
          "output_type": "display_data",
          "data": {
            "application/vnd.colab-display-data+json": {
              "pip_warning": {
                "packages": [
                  "matplotlib",
                  "mpl_toolkits",
                  "numpy"
                ]
              }
            }
          },
          "metadata": {}
        }
      ],
      "source": [
        "!pip install -r requirements.txt"
      ]
    },
    {
      "cell_type": "code",
      "source": [
        "#!pip install reformer_pytorch\n",
        "#!pip install patool\n",
        "#!pip install sktime"
      ],
      "metadata": {
        "id": "TYj_0TcY9RCO"
      },
      "execution_count": null,
      "outputs": []
    },
    {
      "cell_type": "markdown",
      "metadata": {
        "id": "-BN3UjaA_NqU"
      },
      "source": [
        "### Exchange data"
      ]
    },
    {
      "cell_type": "code",
      "execution_count": null,
      "metadata": {
        "id": "FpF7NqAO919D"
      },
      "outputs": [],
      "source": [
        "# Autoformer - Exchange\n",
        "print(f'\\nRunning Model with pred_len 96...')\n",
        "!python run.py --task_name 'long_term_forecast' --is_training 1 --model_id 'Exchange_96_96' --model 'Autoformer' --data 'custom' --root_path './dataset/exchange_rate/' --data_path 'exchange_rate.csv' --features 'M' --target 'OT' --freq 'h' --checkpoints './checkpoints/' --seq_len 96 --label_len 48 --pred_len 96 --seasonal_patterns 'Monthly' --mask_rate 0.25 --anomaly_ratio 0.25 --top_k 5 --num_kernels 6 --enc_in 8 --dec_in 8 --c_out 8 --d_model 512 --n_heads 8 --e_layers 2 --d_layers 1 --d_ff 2048 --moving_avg 25 --factor 3 --dropout 0.1 --embed 'timeF' --activation 'gelu' --num_workers 10 --itr 1 --train_epochs 10 --batch_size 32 --patience 3 --learning_rate 0.0001 --des 'Exp' --loss 'MSE' --lradj 'type1' --devices '0,1,2,3' --p_hidden_layers 2\n",
        "print(f'\\nRunning Model with pred_len 192...')\n",
        "!python run.py --task_name 'long_term_forecast' --is_training 1 --model_id 'Exchange_96_192' --model 'Autoformer' --data 'custom' --root_path './dataset/exchange_rate/' --data_path 'exchange_rate.csv' --features 'M' --target 'OT' --freq 'h' --checkpoints './checkpoints/' --seq_len 96 --label_len 48 --pred_len 192 --seasonal_patterns  'Monthly' --mask_rate 0.25 --anomaly_ratio 0.25 --top_k 5 --num_kernels 6 --enc_in 8 --dec_in 8 --c_out 8 --d_model 512 --n_heads 8 --e_layers 2 --d_layers 1 --d_ff 2048 --moving_avg 25 --factor 3 --dropout 0.1 --embed 'timeF' --activation 'gelu' --num_workers 10 --itr 1 --train_epochs 10 --batch_size 32 --patience 3 --learning_rate 0.0001 --des 'Exp' --loss 'MSE' --lradj 'type1' --devices '0,1,2,3' --p_hidden_layers 2\n",
        "print(f'\\nRunning Model with pred_len 336...')\n",
        "!python run.py --task_name 'long_term_forecast' --is_training 1 --model_id 'Exchange_96_336' --model 'Autoformer' --data 'custom' --root_path './dataset/exchange_rate/' --data_path 'exchange_rate.csv' --features 'M' --target 'OT' --freq 'h' --checkpoints './checkpoints/' --seq_len 96 --label_len 48 --pred_len 336 --seasonal_patterns 'Monthly' --mask_rate 0.25 --anomaly_ratio 0.25 --top_k 5 --num_kernels 6 --enc_in 8 --dec_in 8 --c_out 8 --d_model 512 --n_heads 8 --e_layers 2 --d_layers 1 --d_ff 2048 --moving_avg 25 --factor 3 --dropout 0.1 --embed 'timeF' --activation 'gelu' --num_workers 10 --itr 1 --train_epochs 10 --batch_size 32 --patience 3 --learning_rate 0.0001 --des 'Exp' --loss 'MSE' --lradj 'type1' --devices '0,1,2,3' --p_hidden_layers 2\n",
        "print(f'\\nRunning Model with pred_len 720...')\n",
        "!python run.py --task_name 'long_term_forecast' --is_training 1 --model_id 'Exchange_96_720' --model 'Autoformer' --data 'custom' --root_path './dataset/exchange_rate/' --data_path 'exchange_rate.csv' --features 'M' --target 'OT' --freq 'h' --checkpoints './checkpoints/' --seq_len 96 --label_len 48 --pred_len 720 --seasonal_patterns 'Monthly' --mask_rate 0.25 --anomaly_ratio 0.25 --top_k 5 --num_kernels 6 --enc_in 8 --dec_in 8 --c_out 8 --d_model 512 --n_heads 8 --e_layers 2 --d_layers 1 --d_ff 2048 --moving_avg 25 --factor 3 --dropout 0.1 --embed 'timeF' --activation 'gelu' --num_workers 10 --itr 1 --train_epochs 10 --batch_size 32 --patience 3 --learning_rate 0.0001 --des 'Exp' --loss 'MSE' --lradj 'type1' --devices '0,1,2,3' --p_hidden_layers 2\n"
      ]
    },
    {
      "cell_type": "code",
      "execution_count": null,
      "metadata": {
        "id": "DQw17zYJ-4DA"
      },
      "outputs": [],
      "source": [
        "# Autoformer - Exchange + VARMA Residuals\n",
        "print(f'\\nRunning Model with pred_len 96...')\n",
        "!python run.py --task_name 'long_term_forecast' --is_training 1 --model_id 'Exchange_96_96' --model 'Autoformer' --data 'custom' --root_path './dataset/exchange_rate/' --data_path 'exchange_rate_VARMA_Residuals.csv' --features 'M' --target 'OT' --freq 'h' --checkpoints './checkpoints/' --seq_len 96 --label_len 48 --pred_len 96 --seasonal_patterns 'Monthly' --mask_rate 0.25 --anomaly_ratio 0.25 --top_k 5 --num_kernels 6 --enc_in 9 --dec_in 9 --c_out 9 --d_model 512 --n_heads 8 --e_layers 2 --d_layers 1 --d_ff 2048 --moving_avg 25 --factor 3 --dropout 0.1 --embed 'timeF' --activation 'gelu' --num_workers 10 --itr 1 --train_epochs 10 --batch_size 32 --patience 3 --learning_rate 0.0001 --des 'Exp' --loss 'MSE' --lradj 'type1' --devices '0,1,2,3' --p_hidden_layers 2\n",
        "print(f'\\nRunning Model with pred_len 192...')\n",
        "!python run.py --task_name 'long_term_forecast' --is_training 1 --model_id 'Exchange_96_192' --model 'Autoformer' --data 'custom' --root_path './dataset/exchange_rate/' --data_path 'exchange_rate_VARMA_Residuals.csv' --features 'M' --target 'OT' --freq 'h' --checkpoints './checkpoints/' --seq_len 96 --label_len 48 --pred_len 192 --seasonal_patterns  'Monthly' --mask_rate 0.25 --anomaly_ratio 0.25 --top_k 5 --num_kernels 6 --enc_in 9 --dec_in 9 --c_out 9 --d_model 512 --n_heads 8 --e_layers 2 --d_layers 1 --d_ff 2048 --moving_avg 25 --factor 3 --dropout 0.1 --embed 'timeF' --activation 'gelu' --num_workers 10 --itr 1 --train_epochs 10 --batch_size 32 --patience 3 --learning_rate 0.0001 --des 'Exp' --loss 'MSE' --lradj 'type1' --devices '0,1,2,3' --p_hidden_layers 2\n",
        "print(f'\\nRunning Model with pred_len 336...')\n",
        "!python run.py --task_name 'long_term_forecast' --is_training 1 --model_id 'Exchange_96_336' --model 'Autoformer' --data 'custom' --root_path './dataset/exchange_rate/' --data_path 'exchange_rate_VARMA_Residuals.csv' --features 'M' --target 'OT' --freq 'h' --checkpoints './checkpoints/' --seq_len 96 --label_len 48 --pred_len 336 --seasonal_patterns 'Monthly' --mask_rate 0.25 --anomaly_ratio 0.25 --top_k 5 --num_kernels 6 --enc_in 9 --dec_in 9 --c_out 9 --d_model 512 --n_heads 8 --e_layers 2 --d_layers 1 --d_ff 2048 --moving_avg 25 --factor 3 --dropout 0.1 --embed 'timeF' --activation 'gelu' --num_workers 10 --itr 1 --train_epochs 10 --batch_size 32 --patience 3 --learning_rate 0.0001 --des 'Exp' --loss 'MSE' --lradj 'type1' --devices '0,1,2,3' --p_hidden_layers 2\n",
        "print(f'\\nRunning Model with pred_len 720...')\n",
        "!python run.py --task_name 'long_term_forecast' --is_training 1 --model_id 'Exchange_96_720' --model 'Autoformer' --data 'custom' --root_path './dataset/exchange_rate/' --data_path 'exchange_rate_VARMA_Residuals.csv' --features 'M' --target 'OT' --freq 'h' --checkpoints './checkpoints/' --seq_len 96 --label_len 48 --pred_len 720 --seasonal_patterns 'Monthly' --mask_rate 0.25 --anomaly_ratio 0.25 --top_k 5 --num_kernels 6 --enc_in 9 --dec_in 9 --c_out 9 --d_model 512 --n_heads 8 --e_layers 2 --d_layers 1 --d_ff 2048 --moving_avg 25 --factor 3 --dropout 0.1 --embed 'timeF' --activation 'gelu' --num_workers 10 --itr 1 --train_epochs 10 --batch_size 32 --patience 3 --learning_rate 0.0001 --des 'Exp' --loss 'MSE' --lradj 'type1' --devices '0,1,2,3' --p_hidden_layers 2\n"
      ]
    },
    {
      "cell_type": "code",
      "execution_count": null,
      "metadata": {
        "id": "AC6r5k3m-5FB"
      },
      "outputs": [],
      "source": [
        "# FEDformer - Exchange\n",
        "print(f'\\nRunning Model with pred_len 96...')\n",
        "!python run.py --task_name 'long_term_forecast' --is_training 1 --model_id 'Exchange_96_96' --model 'FEDformer' --data 'custom' --root_path './dataset/exchange_rate/' --data_path 'exchange_rate.csv' --features 'M' --target 'OT' --freq 'h' --checkpoints './checkpoints/' --seq_len 96 --label_len 48 --pred_len 96 --seasonal_patterns 'Monthly' --mask_rate 0.25 --anomaly_ratio 0.25 --top_k 5 --num_kernels 6 --enc_in 8 --dec_in 8 --c_out 8 --d_model 512 --n_heads 8 --e_layers 2 --d_layers 1 --d_ff 2048 --moving_avg 25 --factor 3 --dropout 0.1 --embed 'timeF' --activation 'gelu' --num_workers 10 --itr 1 --train_epochs 10 --batch_size 32 --patience 3 --learning_rate 0.0001 --des 'Exp' --loss 'MSE' --lradj 'type1' --devices '0,1,2,3' --p_hidden_layers 2\n",
        "print(f'\\nRunning Model with pred_len 192...')\n",
        "!python run.py --task_name 'long_term_forecast' --is_training 1 --model_id 'Exchange_96_192' --model 'FEDformer' --data 'custom' --root_path './dataset/exchange_rate/' --data_path 'exchange_rate.csv' --features 'M' --target 'OT' --freq 'h' --checkpoints './checkpoints/' --seq_len 96 --label_len 48 --pred_len 192 --seasonal_patterns  'Monthly' --mask_rate 0.25 --anomaly_ratio 0.25 --top_k 5 --num_kernels 6 --enc_in 8 --dec_in 8 --c_out 8 --d_model 512 --n_heads 8 --e_layers 2 --d_layers 1 --d_ff 2048 --moving_avg 25 --factor 3 --dropout 0.1 --embed 'timeF' --activation 'gelu' --num_workers 10 --itr 1 --train_epochs 10 --batch_size 32 --patience 3 --learning_rate 0.0001 --des 'Exp' --loss 'MSE' --lradj 'type1' --devices '0,1,2,3' --p_hidden_layers 2\n",
        "print(f'\\nRunning Model with pred_len 336...')\n",
        "!python run.py --task_name 'long_term_forecast' --is_training 1 --model_id 'Exchange_96_336' --model 'FEDformer' --data 'custom' --root_path './dataset/exchange_rate/' --data_path 'exchange_rate.csv' --features 'M' --target 'OT' --freq 'h' --checkpoints './checkpoints/' --seq_len 96 --label_len 48 --pred_len 336 --seasonal_patterns 'Monthly' --mask_rate 0.25 --anomaly_ratio 0.25 --top_k 5 --num_kernels 6 --enc_in 8 --dec_in 8 --c_out 8 --d_model 512 --n_heads 8 --e_layers 2 --d_layers 1 --d_ff 2048 --moving_avg 25 --factor 3 --dropout 0.1 --embed 'timeF' --activation 'gelu' --num_workers 10 --itr 1 --train_epochs 10 --batch_size 32 --patience 3 --learning_rate 0.0001 --des 'Exp' --loss 'MSE' --lradj 'type1' --devices '0,1,2,3' --p_hidden_layers 2\n",
        "print(f'\\nRunning Model with pred_len 720...')\n",
        "!python run.py --task_name 'long_term_forecast' --is_training 1 --model_id 'Exchange_96_720' --model 'FEDformer' --data 'custom' --root_path './dataset/exchange_rate/' --data_path 'exchange_rate.csv' --features 'M' --target 'OT' --freq 'h' --checkpoints './checkpoints/' --seq_len 96 --label_len 48 --pred_len 720 --seasonal_patterns 'Monthly' --mask_rate 0.25 --anomaly_ratio 0.25 --top_k 5 --num_kernels 6 --enc_in 8 --dec_in 8 --c_out 8 --d_model 512 --n_heads 8 --e_layers 2 --d_layers 1 --d_ff 2048 --moving_avg 25 --factor 3 --dropout 0.1 --embed 'timeF' --activation 'gelu' --num_workers 10 --itr 1 --train_epochs 10 --batch_size 32 --patience 3 --learning_rate 0.0001 --des 'Exp' --loss 'MSE' --lradj 'type1' --devices '0,1,2,3' --p_hidden_layers 2\n",
        "\n"
      ]
    },
    {
      "cell_type": "code",
      "execution_count": null,
      "metadata": {
        "colab": {
          "background_save": true
        },
        "id": "BCB-LSX--5P8"
      },
      "outputs": [],
      "source": [
        "# FEDformer - Exchange + VARMA Residuals\n",
        "print(f'\\nRunning Model with pred_len 96...')\n",
        "!python run.py --task_name 'long_term_forecast' --is_training 1 --model_id 'Exchange_96_96' --model 'FEDformer' --data 'custom' --root_path './dataset/exchange_rate/' --data_path 'exchange_rate_VARMA_Residuals.csv' --features 'M' --target 'OT' --freq 'h' --checkpoints './checkpoints/' --seq_len 96 --label_len 48 --pred_len 96 --seasonal_patterns 'Monthly' --mask_rate 0.25 --anomaly_ratio 0.25 --top_k 5 --num_kernels 6 --enc_in 9 --dec_in 9 --c_out 9 --d_model 512 --n_heads 8 --e_layers 2 --d_layers 1 --d_ff 2048 --moving_avg 25 --factor 3 --dropout 0.1 --embed 'timeF' --activation 'gelu' --num_workers 10 --itr 1 --train_epochs 10 --batch_size 32 --patience 3 --learning_rate 0.0001 --des 'Exp' --loss 'MSE' --lradj 'type1' --devices '0,1,2,3' --p_hidden_layers 2\n",
        "print(f'\\nRunning Model with pred_len 192...')\n",
        "!python run.py --task_name 'long_term_forecast' --is_training 1 --model_id 'Exchange_96_192' --model 'FEDformer' --data 'custom' --root_path './dataset/exchange_rate/' --data_path 'exchange_rate_VARMA_Residuals.csv' --features 'M' --target 'OT' --freq 'h' --checkpoints './checkpoints/' --seq_len 96 --label_len 48 --pred_len 192 --seasonal_patterns  'Monthly' --mask_rate 0.25 --anomaly_ratio 0.25 --top_k 5 --num_kernels 6 --enc_in 9 --dec_in 9 --c_out 9 --d_model 512 --n_heads 8 --e_layers 2 --d_layers 1 --d_ff 2048 --moving_avg 25 --factor 3 --dropout 0.1 --embed 'timeF' --activation 'gelu' --num_workers 10 --itr 1 --train_epochs 10 --batch_size 32 --patience 3 --learning_rate 0.0001 --des 'Exp' --loss 'MSE' --lradj 'type1' --devices '0,1,2,3' --p_hidden_layers 2\n",
        "print(f'\\nRunning Model with pred_len 336...')\n",
        "!python run.py --task_name 'long_term_forecast' --is_training 1 --model_id 'Exchange_96_336' --model 'FEDformer' --data 'custom' --root_path './dataset/exchange_rate/' --data_path 'exchange_rate_VARMA_Residuals.csv' --features 'M' --target 'OT' --freq 'h' --checkpoints './checkpoints/' --seq_len 96 --label_len 48 --pred_len 336 --seasonal_patterns 'Monthly' --mask_rate 0.25 --anomaly_ratio 0.25 --top_k 5 --num_kernels 6 --enc_in 9 --dec_in 9 --c_out 9 --d_model 512 --n_heads 8 --e_layers 2 --d_layers 1 --d_ff 2048 --moving_avg 25 --factor 3 --dropout 0.1 --embed 'timeF' --activation 'gelu' --num_workers 10 --itr 1 --train_epochs 10 --batch_size 32 --patience 3 --learning_rate 0.0001 --des 'Exp' --loss 'MSE' --lradj 'type1' --devices '0,1,2,3' --p_hidden_layers 2\n",
        "print(f'\\nRunning Model with pred_len 720...')\n",
        "!python run.py --task_name 'long_term_forecast' --is_training 1 --model_id 'Exchange_96_720' --model 'FEDformer' --data 'custom' --root_path './dataset/exchange_rate/' --data_path 'exchange_rate_VARMA_Residuals.csv' --features 'M' --target 'OT' --freq 'h' --checkpoints './checkpoints/' --seq_len 96 --label_len 48 --pred_len 720 --seasonal_patterns 'Monthly' --mask_rate 0.25 --anomaly_ratio 0.25 --top_k 5 --num_kernels 6 --enc_in 9 --dec_in 9 --c_out 9 --d_model 512 --n_heads 8 --e_layers 2 --d_layers 1 --d_ff 2048 --moving_avg 25 --factor 3 --dropout 0.1 --embed 'timeF' --activation 'gelu' --num_workers 10 --itr 1 --train_epochs 10 --batch_size 32 --patience 3 --learning_rate 0.0001 --des 'Exp' --loss 'MSE' --lradj 'type1' --devices '0,1,2,3' --p_hidden_layers 2\n",
        "\n"
      ]
    },
    {
      "cell_type": "code",
      "execution_count": null,
      "metadata": {
        "id": "NA2_zOAW-5XZ"
      },
      "outputs": [],
      "source": [
        "# Pyraformer - Exchange\n",
        "print(f'\\nRunning Model with pred_len 96...')\n",
        "!python run.py --task_name 'long_term_forecast' --is_training 1 --model_id 'Exchange_96_96' --model 'Pyraformer' --data 'custom' --root_path './dataset/exchange_rate/' --data_path 'exchange_rate.csv' --features 'M' --target 'OT' --freq 'h' --checkpoints './checkpoints/' --seq_len 96 --label_len 48 --pred_len 96 --seasonal_patterns 'Monthly' --mask_rate 0.25 --anomaly_ratio 0.25 --top_k 5 --num_kernels 6 --enc_in 8 --dec_in 8 --c_out 8 --d_model 512 --n_heads 8 --e_layers 2 --d_layers 1 --d_ff 2048 --moving_avg 25 --factor 3 --dropout 0.1 --embed 'timeF' --activation 'gelu' --num_workers 10 --itr 1 --train_epochs 10 --batch_size 32 --patience 3 --learning_rate 0.0001 --des 'Exp' --loss 'MSE' --lradj 'type1' --devices '0,1,2,3' --p_hidden_layers 2\n",
        "print(f'\\nRunning Model with pred_len 192...')\n",
        "!python run.py --task_name 'long_term_forecast' --is_training 1 --model_id 'Exchange_96_192' --model 'Pyraformer' --data 'custom' --root_path './dataset/exchange_rate/' --data_path 'exchange_rate.csv' --features 'M' --target 'OT' --freq 'h' --checkpoints './checkpoints/' --seq_len 96 --label_len 48 --pred_len 192 --seasonal_patterns  'Monthly' --mask_rate 0.25 --anomaly_ratio 0.25 --top_k 5 --num_kernels 6 --enc_in 8 --dec_in 8 --c_out 8 --d_model 512 --n_heads 8 --e_layers 2 --d_layers 1 --d_ff 2048 --moving_avg 25 --factor 3 --dropout 0.1 --embed 'timeF' --activation 'gelu' --num_workers 10 --itr 1 --train_epochs 10 --batch_size 32 --patience 3 --learning_rate 0.0001 --des 'Exp' --loss 'MSE' --lradj 'type1' --devices '0,1,2,3' --p_hidden_layers 2\n",
        "print(f'\\nRunning Model with pred_len 336...')\n",
        "!python run.py --task_name 'long_term_forecast' --is_training 1 --model_id 'Exchange_96_336' --model 'Pyraformer' --data 'custom' --root_path './dataset/exchange_rate/' --data_path 'exchange_rate.csv' --features 'M' --target 'OT' --freq 'h' --checkpoints './checkpoints/' --seq_len 96 --label_len 48 --pred_len 336 --seasonal_patterns 'Monthly' --mask_rate 0.25 --anomaly_ratio 0.25 --top_k 5 --num_kernels 6 --enc_in 8 --dec_in 8 --c_out 8 --d_model 512 --n_heads 8 --e_layers 2 --d_layers 1 --d_ff 2048 --moving_avg 25 --factor 3 --dropout 0.1 --embed 'timeF' --activation 'gelu' --num_workers 10 --itr 1 --train_epochs 10 --batch_size 32 --patience 3 --learning_rate 0.0001 --des 'Exp' --loss 'MSE' --lradj 'type1' --devices '0,1,2,3' --p_hidden_layers 2\n",
        "print(f'\\nRunning Model with pred_len 720...')\n",
        "!python run.py --task_name 'long_term_forecast' --is_training 1 --model_id 'Exchange_96_720' --model 'Pyraformer' --data 'custom' --root_path './dataset/exchange_rate/' --data_path 'exchange_rate.csv' --features 'M' --target 'OT' --freq 'h' --checkpoints './checkpoints/' --seq_len 96 --label_len 48 --pred_len 720 --seasonal_patterns 'Monthly' --mask_rate 0.25 --anomaly_ratio 0.25 --top_k 5 --num_kernels 6 --enc_in 8 --dec_in 8 --c_out 8 --d_model 512 --n_heads 8 --e_layers 2 --d_layers 1 --d_ff 2048 --moving_avg 25 --factor 3 --dropout 0.1 --embed 'timeF' --activation 'gelu' --num_workers 10 --itr 1 --train_epochs 10 --batch_size 32 --patience 3 --learning_rate 0.0001 --des 'Exp' --loss 'MSE' --lradj 'type1' --devices '0,1,2,3' --p_hidden_layers 2\n",
        "\n"
      ]
    },
    {
      "cell_type": "code",
      "execution_count": null,
      "metadata": {
        "id": "mfK5bKcw-5b0"
      },
      "outputs": [],
      "source": [
        "# Pyraformer - Exchange + VARMA Residuals\n",
        "print(f'\\nRunning Model with pred_len 96...')\n",
        "!python run.py --task_name 'long_term_forecast' --is_training 1 --model_id 'Exchange_96_96' --model 'Pyraformer' --data 'custom' --root_path './dataset/exchange_rate/' --data_path 'exchange_rate_VARMA_Residuals.csv' --features 'M' --target 'OT' --freq 'h' --checkpoints './checkpoints/' --seq_len 96 --label_len 48 --pred_len 96 --seasonal_patterns 'Monthly' --mask_rate 0.25 --anomaly_ratio 0.25 --top_k 5 --num_kernels 6 --enc_in 9 --dec_in 9 --c_out 9 --d_model 512 --n_heads 8 --e_layers 2 --d_layers 1 --d_ff 2048 --moving_avg 25 --factor 3 --dropout 0.1 --embed 'timeF' --activation 'gelu' --num_workers 10 --itr 1 --train_epochs 10 --batch_size 32 --patience 3 --learning_rate 0.0001 --des 'Exp' --loss 'MSE' --lradj 'type1' --devices '0,1,2,3' --p_hidden_layers 2\n",
        "print(f'\\nRunning Model with pred_len 192...')\n",
        "!python run.py --task_name 'long_term_forecast' --is_training 1 --model_id 'Exchange_96_192' --model 'Pyraformer' --data 'custom' --root_path './dataset/exchange_rate/' --data_path 'exchange_rate_VARMA_Residuals.csv' --features 'M' --target 'OT' --freq 'h' --checkpoints './checkpoints/' --seq_len 96 --label_len 48 --pred_len 192 --seasonal_patterns  'Monthly' --mask_rate 0.25 --anomaly_ratio 0.25 --top_k 5 --num_kernels 6 --enc_in 9 --dec_in 9 --c_out 9 --d_model 512 --n_heads 8 --e_layers 2 --d_layers 1 --d_ff 2048 --moving_avg 25 --factor 3 --dropout 0.1 --embed 'timeF' --activation 'gelu' --num_workers 10 --itr 1 --train_epochs 10 --batch_size 32 --patience 3 --learning_rate 0.0001 --des 'Exp' --loss 'MSE' --lradj 'type1' --devices '0,1,2,3' --p_hidden_layers 2\n",
        "print(f'\\nRunning Model with pred_len 336...')\n",
        "!python run.py --task_name 'long_term_forecast' --is_training 1 --model_id 'Exchange_96_336' --model 'Pyraformer' --data 'custom' --root_path './dataset/exchange_rate/' --data_path 'exchange_rate_VARMA_Residuals.csv' --features 'M' --target 'OT' --freq 'h' --checkpoints './checkpoints/' --seq_len 96 --label_len 48 --pred_len 336 --seasonal_patterns 'Monthly' --mask_rate 0.25 --anomaly_ratio 0.25 --top_k 5 --num_kernels 6 --enc_in 9 --dec_in 9 --c_out 9 --d_model 512 --n_heads 8 --e_layers 2 --d_layers 1 --d_ff 2048 --moving_avg 25 --factor 3 --dropout 0.1 --embed 'timeF' --activation 'gelu' --num_workers 10 --itr 1 --train_epochs 10 --batch_size 32 --patience 3 --learning_rate 0.0001 --des 'Exp' --loss 'MSE' --lradj 'type1' --devices '0,1,2,3' --p_hidden_layers 2\n",
        "print(f'\\nRunning Model with pred_len 720...')\n",
        "!python run.py --task_name 'long_term_forecast' --is_training 1 --model_id 'Exchange_96_720' --model 'Pyraformer' --data 'custom' --root_path './dataset/exchange_rate/' --data_path 'exchange_rate_VARMA_Residuals.csv' --features 'M' --target 'OT' --freq 'h' --checkpoints './checkpoints/' --seq_len 96 --label_len 48 --pred_len 720 --seasonal_patterns 'Monthly' --mask_rate 0.25 --anomaly_ratio 0.25 --top_k 5 --num_kernels 6 --enc_in 9 --dec_in 9 --c_out 9 --d_model 512 --n_heads 8 --e_layers 2 --d_layers 1 --d_ff 2048 --moving_avg 25 --factor 3 --dropout 0.1 --embed 'timeF' --activation 'gelu' --num_workers 10 --itr 1 --train_epochs 10 --batch_size 32 --patience 3 --learning_rate 0.0001 --des 'Exp' --loss 'MSE' --lradj 'type1' --devices '0,1,2,3' --p_hidden_layers 2\n",
        "\n"
      ]
    },
    {
      "cell_type": "code",
      "execution_count": null,
      "metadata": {
        "id": "lq4ycZqZHdwJ"
      },
      "outputs": [],
      "source": [
        "# Crossformer - Exchange\n",
        "print(f'\\nRunning Model with pred_len 96...')\n",
        "!python run.py --task_name 'long_term_forecast' --is_training 1 --model_id 'Exchange_96_96' --model 'Crossformer' --data 'custom' --root_path './dataset/exchange_rate/' --data_path 'exchange_rate.csv' --features 'M' --target 'OT' --freq 'h' --checkpoints './checkpoints/' --seq_len 96 --label_len 48 --pred_len 96 --seasonal_patterns 'Monthly' --mask_rate 0.25 --anomaly_ratio 0.25 --top_k 5 --num_kernels 6 --enc_in 8 --dec_in 8 --c_out 8 --d_model 512 --n_heads 8 --e_layers 2 --d_layers 1 --d_ff 2048 --moving_avg 25 --factor 3 --dropout 0.1 --embed 'timeF' --activation 'gelu' --num_workers 10 --itr 1 --train_epochs 10 --batch_size 32 --patience 3 --learning_rate 0.0001 --des 'Exp' --loss 'MSE' --lradj 'type1' --devices '0,1,2,3' --p_hidden_layers 2\n",
        "print(f'\\nRunning Model with pred_len 192...')\n",
        "!python run.py --task_name 'long_term_forecast' --is_training 1 --model_id 'Exchange_96_192' --model 'Crossformer' --data 'custom' --root_path './dataset/exchange_rate/' --data_path 'exchange_rate.csv' --features 'M' --target 'OT' --freq 'h' --checkpoints './checkpoints/' --seq_len 96 --label_len 48 --pred_len 192 --seasonal_patterns  'Monthly' --mask_rate 0.25 --anomaly_ratio 0.25 --top_k 5 --num_kernels 6 --enc_in 8 --dec_in 8 --c_out 8 --d_model 512 --n_heads 8 --e_layers 2 --d_layers 1 --d_ff 2048 --moving_avg 25 --factor 3 --dropout 0.1 --embed 'timeF' --activation 'gelu' --num_workers 10 --itr 1 --train_epochs 10 --batch_size 32 --patience 3 --learning_rate 0.0001 --des 'Exp' --loss 'MSE' --lradj 'type1' --devices '0,1,2,3' --p_hidden_layers 2\n",
        "print(f'\\nRunning Model with pred_len 336...')\n",
        "!python run.py --task_name 'long_term_forecast' --is_training 1 --model_id 'Exchange_96_336' --model 'Crossformer' --data 'custom' --root_path './dataset/exchange_rate/' --data_path 'exchange_rate.csv' --features 'M' --target 'OT' --freq 'h' --checkpoints './checkpoints/' --seq_len 96 --label_len 48 --pred_len 336 --seasonal_patterns 'Monthly' --mask_rate 0.25 --anomaly_ratio 0.25 --top_k 5 --num_kernels 6 --enc_in 8 --dec_in 8 --c_out 8 --d_model 512 --n_heads 8 --e_layers 2 --d_layers 1 --d_ff 2048 --moving_avg 25 --factor 3 --dropout 0.1 --embed 'timeF' --activation 'gelu' --num_workers 10 --itr 1 --train_epochs 10 --batch_size 32 --patience 3 --learning_rate 0.0001 --des 'Exp' --loss 'MSE' --lradj 'type1' --devices '0,1,2,3' --p_hidden_layers 2\n",
        "print(f'\\nRunning Model with pred_len 720...')\n",
        "!python run.py --task_name 'long_term_forecast' --is_training 1 --model_id 'Exchange_96_720' --model 'Crossformer' --data 'custom' --root_path './dataset/exchange_rate/' --data_path 'exchange_rate.csv' --features 'M' --target 'OT' --freq 'h' --checkpoints './checkpoints/' --seq_len 96 --label_len 48 --pred_len 720 --seasonal_patterns 'Monthly' --mask_rate 0.25 --anomaly_ratio 0.25 --top_k 5 --num_kernels 6 --enc_in 8 --dec_in 8 --c_out 8 --d_model 512 --n_heads 8 --e_layers 2 --d_layers 1 --d_ff 2048 --moving_avg 25 --factor 3 --dropout 0.1 --embed 'timeF' --activation 'gelu' --num_workers 10 --itr 1 --train_epochs 10 --batch_size 32 --patience 3 --learning_rate 0.0001 --des 'Exp' --loss 'MSE' --lradj 'type1' --devices '0,1,2,3' --p_hidden_layers 2\n",
        "\n"
      ]
    },
    {
      "cell_type": "code",
      "execution_count": null,
      "metadata": {
        "colab": {
          "background_save": true
        },
        "id": "A3hNdFU4Hd4e"
      },
      "outputs": [],
      "source": [
        "# Crossformer - Exchange + VARMA Residuals\n",
        "print(f'\\nRunning Model with pred_len 96...')\n",
        "!python run.py --task_name 'long_term_forecast' --is_training 1 --model_id 'Exchange_96_96' --model 'Crossformer' --data 'custom' --root_path './dataset/exchange_rate/' --data_path 'exchange_rate_VARMA_Residuals.csv' --features 'M' --target 'OT' --freq 'h' --checkpoints './checkpoints/' --seq_len 96 --label_len 48 --pred_len 96 --seasonal_patterns 'Monthly' --mask_rate 0.25 --anomaly_ratio 0.25 --top_k 5 --num_kernels 6 --enc_in 9 --dec_in 9 --c_out 9 --d_model 512 --n_heads 8 --e_layers 2 --d_layers 1 --d_ff 2048 --moving_avg 25 --factor 3 --dropout 0.1 --embed 'timeF' --activation 'gelu' --num_workers 10 --itr 1 --train_epochs 10 --batch_size 32 --patience 3 --learning_rate 0.0001 --des 'Exp' --loss 'MSE' --lradj 'type1' --devices '0,1,2,3' --p_hidden_layers 2\n",
        "print(f'\\nRunning Model with pred_len 192...')\n",
        "!python run.py --task_name 'long_term_forecast' --is_training 1 --model_id 'Exchange_96_192' --model 'Crossformer' --data 'custom' --root_path './dataset/exchange_rate/' --data_path 'exchange_rate_VARMA_Residuals.csv' --features 'M' --target 'OT' --freq 'h' --checkpoints './checkpoints/' --seq_len 96 --label_len 48 --pred_len 192 --seasonal_patterns  'Monthly' --mask_rate 0.25 --anomaly_ratio 0.25 --top_k 5 --num_kernels 6 --enc_in 9 --dec_in 9 --c_out 9 --d_model 512 --n_heads 8 --e_layers 2 --d_layers 1 --d_ff 2048 --moving_avg 25 --factor 3 --dropout 0.1 --embed 'timeF' --activation 'gelu' --num_workers 10 --itr 1 --train_epochs 10 --batch_size 32 --patience 3 --learning_rate 0.0001 --des 'Exp' --loss 'MSE' --lradj 'type1' --devices '0,1,2,3' --p_hidden_layers 2\n",
        "print(f'\\nRunning Model with pred_len 336...')\n",
        "!python run.py --task_name 'long_term_forecast' --is_training 1 --model_id 'Exchange_96_336' --model 'Crossformer' --data 'custom' --root_path './dataset/exchange_rate/' --data_path 'exchange_rate_VARMA_Residuals.csv' --features 'M' --target 'OT' --freq 'h' --checkpoints './checkpoints/' --seq_len 96 --label_len 48 --pred_len 336 --seasonal_patterns 'Monthly' --mask_rate 0.25 --anomaly_ratio 0.25 --top_k 5 --num_kernels 6 --enc_in 9 --dec_in 9 --c_out 9 --d_model 512 --n_heads 8 --e_layers 2 --d_layers 1 --d_ff 2048 --moving_avg 25 --factor 3 --dropout 0.1 --embed 'timeF' --activation 'gelu' --num_workers 10 --itr 1 --train_epochs 10 --batch_size 32 --patience 3 --learning_rate 0.0001 --des 'Exp' --loss 'MSE' --lradj 'type1' --devices '0,1,2,3' --p_hidden_layers 2\n",
        "print(f'\\nRunning Model with pred_len 720...')\n",
        "!python run.py --task_name 'long_term_forecast' --is_training 1 --model_id 'Exchange_96_720' --model 'Crossformer' --data 'custom' --root_path './dataset/exchange_rate/' --data_path 'exchange_rate_VARMA_Residuals.csv' --features 'M' --target 'OT' --freq 'h' --checkpoints './checkpoints/' --seq_len 96 --label_len 48 --pred_len 720 --seasonal_patterns 'Monthly' --mask_rate 0.25 --anomaly_ratio 0.25 --top_k 5 --num_kernels 6 --enc_in 9 --dec_in 9 --c_out 9 --d_model 512 --n_heads 8 --e_layers 2 --d_layers 1 --d_ff 2048 --moving_avg 25 --factor 3 --dropout 0.1 --embed 'timeF' --activation 'gelu' --num_workers 10 --itr 1 --train_epochs 10 --batch_size 32 --patience 3 --learning_rate 0.0001 --des 'Exp' --loss 'MSE' --lradj 'type1' --devices '0,1,2,3' --p_hidden_layers 2\n",
        "\n"
      ]
    },
    {
      "cell_type": "code",
      "execution_count": null,
      "metadata": {
        "colab": {
          "background_save": true
        },
        "id": "8bAJdBBBpD3T"
      },
      "outputs": [],
      "source": [
        "# PatchTST - Exchange\n",
        "print(f'\\nRunning Model with pred_len 96...')\n",
        "!python run.py --task_name 'long_term_forecast' --is_training 1 --model_id 'Exchange_96_96' --model 'PatchTST' --data 'custom' --root_path './dataset/exchange_rate/' --data_path 'exchange_rate.csv' --features 'M' --target 'OT' --freq 'h' --checkpoints './checkpoints/' --seq_len 96 --label_len 48 --pred_len 96 --seasonal_patterns 'Monthly' --mask_rate 0.25 --anomaly_ratio 0.25 --top_k 5 --num_kernels 6 --enc_in 8 --dec_in 8 --c_out 8 --d_model 512 --n_heads 8 --e_layers 2 --d_layers 1 --d_ff 2048 --moving_avg 25 --factor 3 --dropout 0.1 --embed 'timeF' --activation 'gelu' --num_workers 10 --itr 1 --train_epochs 10 --batch_size 32 --patience 3 --learning_rate 0.0001 --des 'Exp' --loss 'MSE' --lradj 'type1' --devices '0,1,2,3' --p_hidden_layers 2\n",
        "print(f'\\nRunning Model with pred_len 192...')\n",
        "!python run.py --task_name 'long_term_forecast' --is_training 1 --model_id 'Exchange_96_192' --model 'PatchTST' --data 'custom' --root_path './dataset/exchange_rate/' --data_path 'exchange_rate.csv' --features 'M' --target 'OT' --freq 'h' --checkpoints './checkpoints/' --seq_len 96 --label_len 48 --pred_len 192 --seasonal_patterns  'Monthly' --mask_rate 0.25 --anomaly_ratio 0.25 --top_k 5 --num_kernels 6 --enc_in 8 --dec_in 8 --c_out 8 --d_model 512 --n_heads 8 --e_layers 2 --d_layers 1 --d_ff 2048 --moving_avg 25 --factor 3 --dropout 0.1 --embed 'timeF' --activation 'gelu' --num_workers 10 --itr 1 --train_epochs 10 --batch_size 32 --patience 3 --learning_rate 0.0001 --des 'Exp' --loss 'MSE' --lradj 'type1' --devices '0,1,2,3' --p_hidden_layers 2\n",
        "print(f'\\nRunning Model with pred_len 336...')\n",
        "!python run.py --task_name 'long_term_forecast' --is_training 1 --model_id 'Exchange_96_336' --model 'PatchTST' --data 'custom' --root_path './dataset/exchange_rate/' --data_path 'exchange_rate.csv' --features 'M' --target 'OT' --freq 'h' --checkpoints './checkpoints/' --seq_len 96 --label_len 48 --pred_len 336 --seasonal_patterns 'Monthly' --mask_rate 0.25 --anomaly_ratio 0.25 --top_k 5 --num_kernels 6 --enc_in 8 --dec_in 8 --c_out 8 --d_model 512 --n_heads 8 --e_layers 2 --d_layers 1 --d_ff 2048 --moving_avg 25 --factor 3 --dropout 0.1 --embed 'timeF' --activation 'gelu' --num_workers 10 --itr 1 --train_epochs 10 --batch_size 32 --patience 3 --learning_rate 0.0001 --des 'Exp' --loss 'MSE' --lradj 'type1' --devices '0,1,2,3' --p_hidden_layers 2\n",
        "print(f'\\nRunning Model with pred_len 720...')\n",
        "!python run.py --task_name 'long_term_forecast' --is_training 1 --model_id 'Exchange_96_720' --model 'PatchTST' --data 'custom' --root_path './dataset/exchange_rate/' --data_path 'exchange_rate.csv' --features 'M' --target 'OT' --freq 'h' --checkpoints './checkpoints/' --seq_len 96 --label_len 48 --pred_len 720 --seasonal_patterns 'Monthly' --mask_rate 0.25 --anomaly_ratio 0.25 --top_k 5 --num_kernels 6 --enc_in 8 --dec_in 8 --c_out 8 --d_model 512 --n_heads 8 --e_layers 2 --d_layers 1 --d_ff 2048 --moving_avg 25 --factor 3 --dropout 0.1 --embed 'timeF' --activation 'gelu' --num_workers 10 --itr 1 --train_epochs 10 --batch_size 32 --patience 3 --learning_rate 0.0001 --des 'Exp' --loss 'MSE' --lradj 'type1' --devices '0,1,2,3' --p_hidden_layers 2\n"
      ]
    },
    {
      "cell_type": "code",
      "execution_count": null,
      "metadata": {
        "id": "88eHJCFJpIaM"
      },
      "outputs": [],
      "source": [
        "# PatchTST - Exchange + VARMA Residuals\n",
        "print(f'\\nRunning Model with pred_len 96...')\n",
        "!python run.py --task_name 'long_term_forecast' --is_training 1 --model_id 'Exchange_96_96' --model 'PatchTST' --data 'custom' --root_path './dataset/exchange_rate/' --data_path 'exchange_rate_VARMA_Residuals.csv' --features 'M' --target 'OT' --freq 'h' --checkpoints './checkpoints/' --seq_len 96 --label_len 48 --pred_len 96 --seasonal_patterns 'Monthly' --mask_rate 0.25 --anomaly_ratio 0.25 --top_k 5 --num_kernels 6 --enc_in 9 --dec_in 9 --c_out 9 --d_model 512 --n_heads 8 --e_layers 2 --d_layers 1 --d_ff 2048 --moving_avg 25 --factor 3 --dropout 0.1 --embed 'timeF' --activation 'gelu' --num_workers 10 --itr 1 --train_epochs 10 --batch_size 32 --patience 3 --learning_rate 0.0001 --des 'Exp' --loss 'MSE' --lradj 'type1' --devices '0,1,2,3' --p_hidden_layers 2\n",
        "print(f'\\nRunning Model with pred_len 192...')\n",
        "!python run.py --task_name 'long_term_forecast' --is_training 1 --model_id 'Exchange_96_192' --model 'PatchTST' --data 'custom' --root_path './dataset/exchange_rate/' --data_path 'exchange_rate_VARMA_Residuals.csv' --features 'M' --target 'OT' --freq 'h' --checkpoints './checkpoints/' --seq_len 96 --label_len 48 --pred_len 192 --seasonal_patterns  'Monthly' --mask_rate 0.25 --anomaly_ratio 0.25 --top_k 5 --num_kernels 6 --enc_in 9 --dec_in 9 --c_out 9 --d_model 512 --n_heads 8 --e_layers 2 --d_layers 1 --d_ff 2048 --moving_avg 25 --factor 3 --dropout 0.1 --embed 'timeF' --activation 'gelu' --num_workers 10 --itr 1 --train_epochs 10 --batch_size 32 --patience 3 --learning_rate 0.0001 --des 'Exp' --loss 'MSE' --lradj 'type1' --devices '0,1,2,3' --p_hidden_layers 2\n",
        "print(f'\\nRunning Model with pred_len 336...')\n",
        "!python run.py --task_name 'long_term_forecast' --is_training 1 --model_id 'Exchange_96_336' --model 'PatchTST' --data 'custom' --root_path './dataset/exchange_rate/' --data_path 'exchange_rate_VARMA_Residuals.csv' --features 'M' --target 'OT' --freq 'h' --checkpoints './checkpoints/' --seq_len 96 --label_len 48 --pred_len 336 --seasonal_patterns 'Monthly' --mask_rate 0.25 --anomaly_ratio 0.25 --top_k 5 --num_kernels 6 --enc_in 9 --dec_in 9 --c_out 9 --d_model 512 --n_heads 8 --e_layers 2 --d_layers 1 --d_ff 2048 --moving_avg 25 --factor 3 --dropout 0.1 --embed 'timeF' --activation 'gelu' --num_workers 10 --itr 1 --train_epochs 10 --batch_size 32 --patience 3 --learning_rate 0.0001 --des 'Exp' --loss 'MSE' --lradj 'type1' --devices '0,1,2,3' --p_hidden_layers 2\n",
        "print(f'\\nRunning Model with pred_len 720...')\n",
        "!python run.py --task_name 'long_term_forecast' --is_training 1 --model_id 'Exchange_96_720' --model 'PatchTST' --data 'custom' --root_path './dataset/exchange_rate/' --data_path 'exchange_rate_VARMA_Residuals.csv' --features 'M' --target 'OT' --freq 'h' --checkpoints './checkpoints/' --seq_len 96 --label_len 48 --pred_len 720 --seasonal_patterns 'Monthly' --mask_rate 0.25 --anomaly_ratio 0.25 --top_k 5 --num_kernels 6 --enc_in 9 --dec_in 9 --c_out 9 --d_model 512 --n_heads 8 --e_layers 2 --d_layers 1 --d_ff 2048 --moving_avg 25 --factor 3 --dropout 0.1 --embed 'timeF' --activation 'gelu' --num_workers 10 --itr 1 --train_epochs 10 --batch_size 32 --patience 3 --learning_rate 0.0001 --des 'Exp' --loss 'MSE' --lradj 'type1' --devices '0,1,2,3' --p_hidden_layers 2\n"
      ]
    },
    {
      "cell_type": "markdown",
      "metadata": {
        "id": "jHkCMVdZ_R15"
      },
      "source": [
        "### Illness data"
      ]
    },
    {
      "cell_type": "code",
      "execution_count": null,
      "metadata": {
        "id": "YpFU6quy_Tue"
      },
      "outputs": [],
      "source": [
        "# Autoformer - Illness\n",
        "print(f'\\nRunning Model with pred_len 24...')\n",
        "!python run.py --task_name 'long_term_forecast' --is_training 1 --model_id 'ili_36_24' --model 'Autoformer' --data 'custom' --root_path './dataset/illness/' --data_path 'national_illness.csv' --features 'M' --target 'OT' --freq 'h' --checkpoints './checkpoints/' --seq_len 36 --label_len 18 --pred_len 24 --seasonal_patterns 'Monthly' --mask_rate 0.25 --anomaly_ratio 0.25 --top_k 5 --num_kernels 6 --enc_in 7 --dec_in 7 --c_out 7 --d_model 512 --n_heads 8 --e_layers 2 --d_layers 1 --d_ff 2048 --moving_avg 25 --factor 3 --dropout 0.1 --embed 'timeF' --activation 'gelu' --num_workers 10 --itr 1 --train_epochs 10 --batch_size 32 --patience 3 --learning_rate 0.0001 --des 'Exp' --loss 'MSE' --lradj 'type1' --devices '0,1,2,3' --p_hidden_layers 2\n",
        "print(f'\\nRunning Model with pred_len 36...')\n",
        "!python run.py --task_name 'long_term_forecast' --is_training 1 --model_id 'ili_36_36' --model 'Autoformer' --data 'custom' --root_path './dataset/illness/' --data_path 'national_illness.csv' --features 'M' --target 'OT' --freq 'h' --checkpoints './checkpoints/' --seq_len 36 --label_len 18 --pred_len 36 --seasonal_patterns  'Monthly' --mask_rate 0.25 --anomaly_ratio 0.25 --top_k 5 --num_kernels 6 --enc_in 7 --dec_in 7 --c_out 7 --d_model 512 --n_heads 8 --e_layers 2 --d_layers 1 --d_ff 2048 --moving_avg 25 --factor 3 --dropout 0.1 --embed 'timeF' --activation 'gelu' --num_workers 10 --itr 1 --train_epochs 10 --batch_size 32 --patience 3 --learning_rate 0.0001 --des 'Exp' --loss 'MSE' --lradj 'type1' --devices '0,1,2,3' --p_hidden_layers 2\n",
        "print(f'\\nRunning Model with pred_len 48...')\n",
        "!python run.py --task_name 'long_term_forecast' --is_training 1 --model_id 'ili_36_48' --model 'Autoformer' --data 'custom' --root_path './dataset/illness/' --data_path 'national_illness.csv' --features 'M' --target 'OT' --freq 'h' --checkpoints './checkpoints/' --seq_len 36 --label_len 18 --pred_len 48 --seasonal_patterns 'Monthly' --mask_rate 0.25 --anomaly_ratio 0.25 --top_k 5 --num_kernels 6 --enc_in 7 --dec_in 7 --c_out 7 --d_model 512 --n_heads 8 --e_layers 2 --d_layers 1 --d_ff 2048 --moving_avg 25 --factor 3 --dropout 0.1 --embed 'timeF' --activation 'gelu' --num_workers 10 --itr 1 --train_epochs 10 --batch_size 32 --patience 3 --learning_rate 0.0001 --des 'Exp' --loss 'MSE' --lradj 'type1' --devices '0,1,2,3' --p_hidden_layers 2\n",
        "print(f'\\nRunning Model with pred_len 60...')\n",
        "!python run.py --task_name 'long_term_forecast' --is_training 1 --model_id 'ili_36_60' --model 'Autoformer' --data 'custom' --root_path './dataset/illness/' --data_path 'national_illness.csv' --features 'M' --target 'OT' --freq 'h' --checkpoints './checkpoints/' --seq_len 36 --label_len 18 --pred_len 60 --seasonal_patterns 'Monthly' --mask_rate 0.25 --anomaly_ratio 0.25 --top_k 5 --num_kernels 6 --enc_in 7 --dec_in 7 --c_out 7 --d_model 512 --n_heads 8 --e_layers 2 --d_layers 1 --d_ff 2048 --moving_avg 25 --factor 3 --dropout 0.1 --embed 'timeF' --activation 'gelu' --num_workers 10 --itr 1 --train_epochs 10 --batch_size 32 --patience 3 --learning_rate 0.0001 --des 'Exp' --loss 'MSE' --lradj 'type1' --devices '0,1,2,3' --p_hidden_layers 2\n"
      ]
    },
    {
      "cell_type": "code",
      "execution_count": null,
      "metadata": {
        "id": "zbA3qZTIlnSs"
      },
      "outputs": [],
      "source": [
        "# Autoformer - Illness + VARMA Residuals\n",
        "print(f'\\nRunning Model with pred_len 24...')\n",
        "!python run.py --task_name 'long_term_forecast' --is_training 1 --model_id 'ili_36_24' --model 'Autoformer' --data 'custom' --root_path './dataset/illness/' --data_path 'national_illness_VARMA_Residuals.csv' --features 'M' --target 'OT' --freq 'h' --checkpoints './checkpoints/' --seq_len 36 --label_len 18 --pred_len 24 --seasonal_patterns 'Monthly' --mask_rate 0.25 --anomaly_ratio 0.25 --top_k 5 --num_kernels 6 --enc_in 8 --dec_in 8 --c_out 8 --d_model 512 --n_heads 8 --e_layers 2 --d_layers 1 --d_ff 2048 --moving_avg 25 --factor 3 --dropout 0.1 --embed 'timeF' --activation 'gelu' --num_workers 10 --itr 1 --train_epochs 10 --batch_size 32 --patience 3 --learning_rate 0.0001 --des 'Exp' --loss 'MSE' --lradj 'type1' --devices '0,1,2,3' --p_hidden_layers 2\n",
        "print(f'\\nRunning Model with pred_len 36...')\n",
        "!python run.py --task_name 'long_term_forecast' --is_training 1 --model_id 'ili_36_36' --model 'Autoformer' --data 'custom' --root_path './dataset/illness/' --data_path 'national_illness_VARMA_Residuals.csv' --features 'M' --target 'OT' --freq 'h' --checkpoints './checkpoints/' --seq_len 36 --label_len 18 --pred_len 36 --seasonal_patterns  'Monthly' --mask_rate 0.25 --anomaly_ratio 0.25 --top_k 5 --num_kernels 6 --enc_in 8 --dec_in 8 --c_out 8 --d_model 512 --n_heads 8 --e_layers 2 --d_layers 1 --d_ff 2048 --moving_avg 25 --factor 3 --dropout 0.1 --embed 'timeF' --activation 'gelu' --num_workers 10 --itr 1 --train_epochs 10 --batch_size 32 --patience 3 --learning_rate 0.0001 --des 'Exp' --loss 'MSE' --lradj 'type1' --devices '0,1,2,3' --p_hidden_layers 2\n",
        "print(f'\\nRunning Model with pred_len 48...')\n",
        "!python run.py --task_name 'long_term_forecast' --is_training 1 --model_id 'ili_36_48' --model 'Autoformer' --data 'custom' --root_path './dataset/illness/' --data_path 'national_illness_VARMA_Residuals.csv' --features 'M' --target 'OT' --freq 'h' --checkpoints './checkpoints/' --seq_len 36 --label_len 18 --pred_len 48 --seasonal_patterns 'Monthly' --mask_rate 0.25 --anomaly_ratio 0.25 --top_k 5 --num_kernels 6 --enc_in 8 --dec_in 8 --c_out 8 --d_model 512 --n_heads 8 --e_layers 2 --d_layers 1 --d_ff 2048 --moving_avg 25 --factor 3 --dropout 0.1 --embed 'timeF' --activation 'gelu' --num_workers 10 --itr 1 --train_epochs 10 --batch_size 32 --patience 3 --learning_rate 0.0001 --des 'Exp' --loss 'MSE' --lradj 'type1' --devices '0,1,2,3' --p_hidden_layers 2\n",
        "print(f'\\nRunning Model with pred_len 60...')\n",
        "!python run.py --task_name 'long_term_forecast' --is_training 1 --model_id 'ili_36_60' --model 'Autoformer' --data 'custom' --root_path './dataset/illness/' --data_path 'national_illness_VARMA_Residuals.csv' --features 'M' --target 'OT' --freq 'h' --checkpoints './checkpoints/' --seq_len 36 --label_len 18 --pred_len 60 --seasonal_patterns 'Monthly' --mask_rate 0.25 --anomaly_ratio 0.25 --top_k 5 --num_kernels 6 --enc_in 8 --dec_in 8 --c_out 8 --d_model 512 --n_heads 8 --e_layers 2 --d_layers 1 --d_ff 2048 --moving_avg 25 --factor 3 --dropout 0.1 --embed 'timeF' --activation 'gelu' --num_workers 10 --itr 1 --train_epochs 10 --batch_size 32 --patience 3 --learning_rate 0.0001 --des 'Exp' --loss 'MSE' --lradj 'type1' --devices '0,1,2,3' --p_hidden_layers 2\n"
      ]
    },
    {
      "cell_type": "code",
      "execution_count": null,
      "metadata": {
        "id": "erFBHw3z_T_G"
      },
      "outputs": [],
      "source": [
        "# FEDformer - Illness\n",
        "print(f'\\nRunning Model with pred_len 24...')\n",
        "!python run.py --task_name 'long_term_forecast' --is_training 1 --model_id 'ili_36_24' --model 'FEDformer' --data 'custom' --root_path './dataset/illness/' --data_path 'national_illness.csv' --features 'M' --target 'OT' --freq 'h' --checkpoints './checkpoints/' --seq_len 36 --label_len 18 --pred_len 24 --seasonal_patterns 'Monthly' --mask_rate 0.25 --anomaly_ratio 0.25 --top_k 5 --num_kernels 6 --enc_in 7 --dec_in 7 --c_out 7 --d_model 512 --n_heads 8 --e_layers 2 --d_layers 1 --d_ff 2048 --moving_avg 25 --factor 3 --dropout 0.1 --embed 'timeF' --activation 'gelu' --num_workers 10 --itr 1 --train_epochs 10 --batch_size 32 --patience 3 --learning_rate 0.0001 --des 'Exp' --loss 'MSE' --lradj 'type1' --devices '0,1,2,3' --p_hidden_layers 2\n",
        "print(f'\\nRunning Model with pred_len 36...')\n",
        "!python run.py --task_name 'long_term_forecast' --is_training 1 --model_id 'ili_36_36' --model 'FEDformer' --data 'custom' --root_path './dataset/illness/' --data_path 'national_illness.csv' --features 'M' --target 'OT' --freq 'h' --checkpoints './checkpoints/' --seq_len 36 --label_len 18 --pred_len 36 --seasonal_patterns  'Monthly' --mask_rate 0.25 --anomaly_ratio 0.25 --top_k 5 --num_kernels 6 --enc_in 7 --dec_in 7 --c_out 7 --d_model 512 --n_heads 8 --e_layers 2 --d_layers 1 --d_ff 2048 --moving_avg 25 --factor 3 --dropout 0.1 --embed 'timeF' --activation 'gelu' --num_workers 10 --itr 1 --train_epochs 10 --batch_size 32 --patience 3 --learning_rate 0.0001 --des 'Exp' --loss 'MSE' --lradj 'type1' --devices '0,1,2,3' --p_hidden_layers 2\n",
        "print(f'\\nRunning Model with pred_len 48...')\n",
        "!python run.py --task_name 'long_term_forecast' --is_training 1 --model_id 'ili_36_48' --model 'FEDformer' --data 'custom' --root_path './dataset/illness/' --data_path 'national_illness.csv' --features 'M' --target 'OT' --freq 'h' --checkpoints './checkpoints/' --seq_len 36 --label_len 18 --pred_len 48 --seasonal_patterns 'Monthly' --mask_rate 0.25 --anomaly_ratio 0.25 --top_k 5 --num_kernels 6 --enc_in 7 --dec_in 7 --c_out 7 --d_model 512 --n_heads 8 --e_layers 2 --d_layers 1 --d_ff 2048 --moving_avg 25 --factor 3 --dropout 0.1 --embed 'timeF' --activation 'gelu' --num_workers 10 --itr 1 --train_epochs 10 --batch_size 32 --patience 3 --learning_rate 0.0001 --des 'Exp' --loss 'MSE' --lradj 'type1' --devices '0,1,2,3' --p_hidden_layers 2\n",
        "print(f'\\nRunning Model with pred_len 60...')\n",
        "!python run.py --task_name 'long_term_forecast' --is_training 1 --model_id 'ili_36_60' --model 'FEDformer' --data 'custom' --root_path './dataset/illness/' --data_path 'national_illness.csv' --features 'M' --target 'OT' --freq 'h' --checkpoints './checkpoints/' --seq_len 36 --label_len 18 --pred_len 60 --seasonal_patterns 'Monthly' --mask_rate 0.25 --anomaly_ratio 0.25 --top_k 5 --num_kernels 6 --enc_in 7 --dec_in 7 --c_out 7 --d_model 512 --n_heads 8 --e_layers 2 --d_layers 1 --d_ff 2048 --moving_avg 25 --factor 3 --dropout 0.1 --embed 'timeF' --activation 'gelu' --num_workers 10 --itr 1 --train_epochs 10 --batch_size 32 --patience 3 --learning_rate 0.0001 --des 'Exp' --loss 'MSE' --lradj 'type1' --devices '0,1,2,3' --p_hidden_layers 2\n"
      ]
    },
    {
      "cell_type": "code",
      "execution_count": null,
      "metadata": {
        "id": "ZrMJ5Szn_UCm"
      },
      "outputs": [],
      "source": [
        "# FEDformer - Illness + VARMA Residuals\n",
        "print(f'\\nRunning Model with pred_len 24...')\n",
        "!python run.py --task_name 'long_term_forecast' --is_training 1 --model_id 'ili_36_24' --model 'FEDformer' --data 'custom' --root_path './dataset/illness/' --data_path 'national_illness_VARMA_Residuals.csv' --features 'M' --target 'OT' --freq 'h' --checkpoints './checkpoints/' --seq_len 36 --label_len 18 --pred_len 24 --seasonal_patterns 'Monthly' --mask_rate 0.25 --anomaly_ratio 0.25 --top_k 5 --num_kernels 6 --enc_in 8 --dec_in 8 --c_out 8 --d_model 512 --n_heads 8 --e_layers 2 --d_layers 1 --d_ff 2048 --moving_avg 25 --factor 3 --dropout 0.1 --embed 'timeF' --activation 'gelu' --num_workers 10 --itr 1 --train_epochs 10 --batch_size 32 --patience 3 --learning_rate 0.0001 --des 'Exp' --loss 'MSE' --lradj 'type1' --devices '0,1,2,3' --p_hidden_layers 2\n",
        "print(f'\\nRunning Model with pred_len 36...')\n",
        "!python run.py --task_name 'long_term_forecast' --is_training 1 --model_id 'ili_36_36' --model 'FEDformer' --data 'custom' --root_path './dataset/illness/' --data_path 'national_illness_VARMA_Residuals.csv' --features 'M' --target 'OT' --freq 'h' --checkpoints './checkpoints/' --seq_len 36 --label_len 18 --pred_len 36 --seasonal_patterns  'Monthly' --mask_rate 0.25 --anomaly_ratio 0.25 --top_k 5 --num_kernels 6 --enc_in 8 --dec_in 8 --c_out 8 --d_model 512 --n_heads 8 --e_layers 2 --d_layers 1 --d_ff 2048 --moving_avg 25 --factor 3 --dropout 0.1 --embed 'timeF' --activation 'gelu' --num_workers 10 --itr 1 --train_epochs 10 --batch_size 32 --patience 3 --learning_rate 0.0001 --des 'Exp' --loss 'MSE' --lradj 'type1' --devices '0,1,2,3' --p_hidden_layers 2\n",
        "print(f'\\nRunning Model with pred_len 48...')\n",
        "!python run.py --task_name 'long_term_forecast' --is_training 1 --model_id 'ili_36_48' --model 'FEDformer' --data 'custom' --root_path './dataset/illness/' --data_path 'national_illness_VARMA_Residuals.csv' --features 'M' --target 'OT' --freq 'h' --checkpoints './checkpoints/' --seq_len 36 --label_len 18 --pred_len 48 --seasonal_patterns 'Monthly' --mask_rate 0.25 --anomaly_ratio 0.25 --top_k 5 --num_kernels 6 --enc_in 8 --dec_in 8 --c_out 8 --d_model 512 --n_heads 8 --e_layers 2 --d_layers 1 --d_ff 2048 --moving_avg 25 --factor 3 --dropout 0.1 --embed 'timeF' --activation 'gelu' --num_workers 10 --itr 1 --train_epochs 10 --batch_size 32 --patience 3 --learning_rate 0.0001 --des 'Exp' --loss 'MSE' --lradj 'type1' --devices '0,1,2,3' --p_hidden_layers 2\n",
        "print(f'\\nRunning Model with pred_len 60...')\n",
        "!python run.py --task_name 'long_term_forecast' --is_training 1 --model_id 'ili_36_60' --model 'FEDformer' --data 'custom' --root_path './dataset/illness/' --data_path 'national_illness_VARMA_Residuals.csv' --features 'M' --target 'OT' --freq 'h' --checkpoints './checkpoints/' --seq_len 36 --label_len 18 --pred_len 60 --seasonal_patterns 'Monthly' --mask_rate 0.25 --anomaly_ratio 0.25 --top_k 5 --num_kernels 6 --enc_in 8 --dec_in 8 --c_out 8 --d_model 512 --n_heads 8 --e_layers 2 --d_layers 1 --d_ff 2048 --moving_avg 25 --factor 3 --dropout 0.1 --embed 'timeF' --activation 'gelu' --num_workers 10 --itr 1 --train_epochs 10 --batch_size 32 --patience 3 --learning_rate 0.0001 --des 'Exp' --loss 'MSE' --lradj 'type1' --devices '0,1,2,3' --p_hidden_layers 2\n"
      ]
    },
    {
      "cell_type": "code",
      "execution_count": null,
      "metadata": {
        "id": "r6SxCiJ0_UFw"
      },
      "outputs": [],
      "source": [
        "# Pyraformer - Illness\n",
        "print(f'\\nRunning Model with pred_len 24...')\n",
        "!python run.py --task_name 'long_term_forecast' --is_training 1 --model_id 'ili_36_24' --model 'Pyraformer' --data 'custom' --root_path './dataset/illness/' --data_path 'national_illness.csv' --features 'M' --target 'OT' --freq 'h' --checkpoints './checkpoints/' --seq_len 36 --label_len 18 --pred_len 24 --seasonal_patterns 'Monthly' --mask_rate 0.25 --anomaly_ratio 0.25 --top_k 5 --num_kernels 6 --enc_in 7 --dec_in 7 --c_out 7 --d_model 512 --n_heads 8 --e_layers 2 --d_layers 1 --d_ff 2048 --moving_avg 25 --factor 3 --dropout 0.1 --embed 'timeF' --activation 'gelu' --num_workers 10 --itr 1 --train_epochs 10 --batch_size 32 --patience 3 --learning_rate 0.0001 --des 'Exp' --loss 'MSE' --lradj 'type1' --devices '0,1,2,3' --p_hidden_layers 2\n",
        "print(f'\\nRunning Model with pred_len 36...')\n",
        "!python run.py --task_name 'long_term_forecast' --is_training 1 --model_id 'ili_36_36' --model 'Pyraformer' --data 'custom' --root_path './dataset/illness/' --data_path 'national_illness.csv' --features 'M' --target 'OT' --freq 'h' --checkpoints './checkpoints/' --seq_len 36 --label_len 18 --pred_len 36 --seasonal_patterns  'Monthly' --mask_rate 0.25 --anomaly_ratio 0.25 --top_k 5 --num_kernels 6 --enc_in 7 --dec_in 7 --c_out 7 --d_model 512 --n_heads 8 --e_layers 2 --d_layers 1 --d_ff 2048 --moving_avg 25 --factor 3 --dropout 0.1 --embed 'timeF' --activation 'gelu' --num_workers 10 --itr 1 --train_epochs 10 --batch_size 32 --patience 3 --learning_rate 0.0001 --des 'Exp' --loss 'MSE' --lradj 'type1' --devices '0,1,2,3' --p_hidden_layers 2\n",
        "print(f'\\nRunning Model with pred_len 48...')\n",
        "!python run.py --task_name 'long_term_forecast' --is_training 1 --model_id 'ili_36_48' --model 'Pyraformer' --data 'custom' --root_path './dataset/illness/' --data_path 'national_illness.csv' --features 'M' --target 'OT' --freq 'h' --checkpoints './checkpoints/' --seq_len 36 --label_len 18 --pred_len 48 --seasonal_patterns 'Monthly' --mask_rate 0.25 --anomaly_ratio 0.25 --top_k 5 --num_kernels 6 --enc_in 7 --dec_in 7 --c_out 7 --d_model 512 --n_heads 8 --e_layers 2 --d_layers 1 --d_ff 2048 --moving_avg 25 --factor 3 --dropout 0.1 --embed 'timeF' --activation 'gelu' --num_workers 10 --itr 1 --train_epochs 10 --batch_size 32 --patience 3 --learning_rate 0.0001 --des 'Exp' --loss 'MSE' --lradj 'type1' --devices '0,1,2,3' --p_hidden_layers 2\n",
        "print(f'\\nRunning Model with pred_len 60...')\n",
        "!python run.py --task_name 'long_term_forecast' --is_training 1 --model_id 'ili_36_60' --model 'Pyraformer' --data 'custom' --root_path './dataset/illness/' --data_path 'national_illness.csv' --features 'M' --target 'OT' --freq 'h' --checkpoints './checkpoints/' --seq_len 36 --label_len 18 --pred_len 60 --seasonal_patterns 'Monthly' --mask_rate 0.25 --anomaly_ratio 0.25 --top_k 5 --num_kernels 6 --enc_in 7 --dec_in 7 --c_out 7 --d_model 512 --n_heads 8 --e_layers 2 --d_layers 1 --d_ff 2048 --moving_avg 25 --factor 3 --dropout 0.1 --embed 'timeF' --activation 'gelu' --num_workers 10 --itr 1 --train_epochs 10 --batch_size 32 --patience 3 --learning_rate 0.0001 --des 'Exp' --loss 'MSE' --lradj 'type1' --devices '0,1,2,3' --p_hidden_layers 2\n"
      ]
    },
    {
      "cell_type": "code",
      "execution_count": null,
      "metadata": {
        "id": "X1z_TSCf_UIQ"
      },
      "outputs": [],
      "source": [
        "# Pyraformer - Illness + VARMA Residuals\n",
        "print(f'\\nRunning Model with pred_len 24...')\n",
        "!python run.py --task_name 'long_term_forecast' --is_training 1 --model_id 'ili_36_24' --model 'Pyraformer' --data 'custom' --root_path './dataset/illness/' --data_path 'national_illness_VARMA_Residuals.csv' --features 'M' --target 'OT' --freq 'h' --checkpoints './checkpoints/' --seq_len 36 --label_len 18 --pred_len 24 --seasonal_patterns 'Monthly' --mask_rate 0.25 --anomaly_ratio 0.25 --top_k 5 --num_kernels 6 --enc_in 8 --dec_in 8 --c_out 8 --d_model 512 --n_heads 8 --e_layers 2 --d_layers 1 --d_ff 2048 --moving_avg 25 --factor 3 --dropout 0.1 --embed 'timeF' --activation 'gelu' --num_workers 10 --itr 1 --train_epochs 10 --batch_size 32 --patience 3 --learning_rate 0.0001 --des 'Exp' --loss 'MSE' --lradj 'type1' --devices '0,1,2,3' --p_hidden_layers 2\n",
        "print(f'\\nRunning Model with pred_len 36...')\n",
        "!python run.py --task_name 'long_term_forecast' --is_training 1 --model_id 'ili_36_36' --model 'Pyraformer' --data 'custom' --root_path './dataset/illness/' --data_path 'national_illness_VARMA_Residuals.csv' --features 'M' --target 'OT' --freq 'h' --checkpoints './checkpoints/' --seq_len 36 --label_len 18 --pred_len 36 --seasonal_patterns  'Monthly' --mask_rate 0.25 --anomaly_ratio 0.25 --top_k 5 --num_kernels 6 --enc_in 8 --dec_in 8 --c_out 8 --d_model 512 --n_heads 8 --e_layers 2 --d_layers 1 --d_ff 2048 --moving_avg 25 --factor 3 --dropout 0.1 --embed 'timeF' --activation 'gelu' --num_workers 10 --itr 1 --train_epochs 10 --batch_size 32 --patience 3 --learning_rate 0.0001 --des 'Exp' --loss 'MSE' --lradj 'type1' --devices '0,1,2,3' --p_hidden_layers 2\n",
        "print(f'\\nRunning Model with pred_len 48...')\n",
        "!python run.py --task_name 'long_term_forecast' --is_training 1 --model_id 'ili_36_48' --model 'Pyraformer' --data 'custom' --root_path './dataset/illness/' --data_path 'national_illness_VARMA_Residuals.csv' --features 'M' --target 'OT' --freq 'h' --checkpoints './checkpoints/' --seq_len 36 --label_len 18 --pred_len 48 --seasonal_patterns 'Monthly' --mask_rate 0.25 --anomaly_ratio 0.25 --top_k 5 --num_kernels 6 --enc_in 8 --dec_in 8 --c_out 8 --d_model 512 --n_heads 8 --e_layers 2 --d_layers 1 --d_ff 2048 --moving_avg 25 --factor 3 --dropout 0.1 --embed 'timeF' --activation 'gelu' --num_workers 10 --itr 1 --train_epochs 10 --batch_size 32 --patience 3 --learning_rate 0.0001 --des 'Exp' --loss 'MSE' --lradj 'type1' --devices '0,1,2,3' --p_hidden_layers 2\n",
        "print(f'\\nRunning Model with pred_len 60...')\n",
        "!python run.py --task_name 'long_term_forecast' --is_training 1 --model_id 'ili_36_60' --model 'Pyraformer' --data 'custom' --root_path './dataset/illness/' --data_path 'national_illness_VARMA_Residuals.csv' --features 'M' --target 'OT' --freq 'h' --checkpoints './checkpoints/' --seq_len 36 --label_len 18 --pred_len 60 --seasonal_patterns 'Monthly' --mask_rate 0.25 --anomaly_ratio 0.25 --top_k 5 --num_kernels 6 --enc_in 8 --dec_in 8 --c_out 8 --d_model 512 --n_heads 8 --e_layers 2 --d_layers 1 --d_ff 2048 --moving_avg 25 --factor 3 --dropout 0.1 --embed 'timeF' --activation 'gelu' --num_workers 10 --itr 1 --train_epochs 10 --batch_size 32 --patience 3 --learning_rate 0.0001 --des 'Exp' --loss 'MSE' --lradj 'type1' --devices '0,1,2,3' --p_hidden_layers 2\n"
      ]
    },
    {
      "cell_type": "code",
      "execution_count": null,
      "metadata": {
        "id": "0n_XHfWs_UNG"
      },
      "outputs": [],
      "source": [
        "# Crossformer - Illness\n",
        "print(f'\\nRunning Model with pred_len 24...')\n",
        "!python run.py --task_name 'long_term_forecast' --is_training 1 --model_id 'ili_36_24' --model 'Crossformer' --data 'custom' --root_path './dataset/illness/' --data_path 'national_illness.csv' --features 'M' --target 'OT' --freq 'h' --checkpoints './checkpoints/' --seq_len 36 --label_len 18 --pred_len 24 --seasonal_patterns 'Monthly' --mask_rate 0.25 --anomaly_ratio 0.25 --top_k 5 --num_kernels 6 --enc_in 7 --dec_in 7 --c_out 7 --d_model 512 --n_heads 8 --e_layers 2 --d_layers 1 --d_ff 2048 --moving_avg 25 --factor 3 --dropout 0.1 --embed 'timeF' --activation 'gelu' --num_workers 10 --itr 1 --train_epochs 10 --batch_size 32 --patience 3 --learning_rate 0.0001 --des 'Exp' --loss 'MSE' --lradj 'type1' --devices '0,1,2,3' --p_hidden_layers 2\n",
        "print(f'\\nRunning Model with pred_len 36...')\n",
        "!python run.py --task_name 'long_term_forecast' --is_training 1 --model_id 'ili_36_36' --model 'Crossformer' --data 'custom' --root_path './dataset/illness/' --data_path 'national_illness.csv' --features 'M' --target 'OT' --freq 'h' --checkpoints './checkpoints/' --seq_len 36 --label_len 18 --pred_len 36 --seasonal_patterns  'Monthly' --mask_rate 0.25 --anomaly_ratio 0.25 --top_k 5 --num_kernels 6 --enc_in 7 --dec_in 7 --c_out 7 --d_model 512 --n_heads 8 --e_layers 2 --d_layers 1 --d_ff 2048 --moving_avg 25 --factor 3 --dropout 0.1 --embed 'timeF' --activation 'gelu' --num_workers 10 --itr 1 --train_epochs 10 --batch_size 32 --patience 3 --learning_rate 0.0001 --des 'Exp' --loss 'MSE' --lradj 'type1' --devices '0,1,2,3' --p_hidden_layers 2\n",
        "print(f'\\nRunning Model with pred_len 48...')\n",
        "!python run.py --task_name 'long_term_forecast' --is_training 1 --model_id 'ili_36_48' --model 'Crossformer' --data 'custom' --root_path './dataset/illness/' --data_path 'national_illness.csv' --features 'M' --target 'OT' --freq 'h' --checkpoints './checkpoints/' --seq_len 36 --label_len 18 --pred_len 48 --seasonal_patterns 'Monthly' --mask_rate 0.25 --anomaly_ratio 0.25 --top_k 5 --num_kernels 6 --enc_in 7 --dec_in 7 --c_out 7 --d_model 512 --n_heads 8 --e_layers 2 --d_layers 1 --d_ff 2048 --moving_avg 25 --factor 3 --dropout 0.1 --embed 'timeF' --activation 'gelu' --num_workers 10 --itr 1 --train_epochs 10 --batch_size 32 --patience 3 --learning_rate 0.0001 --des 'Exp' --loss 'MSE' --lradj 'type1' --devices '0,1,2,3' --p_hidden_layers 2\n",
        "print(f'\\nRunning Model with pred_len 60...')\n",
        "!python run.py --task_name 'long_term_forecast' --is_training 1 --model_id 'ili_36_60' --model 'Crossformer' --data 'custom' --root_path './dataset/illness/' --data_path 'national_illness.csv' --features 'M' --target 'OT' --freq 'h' --checkpoints './checkpoints/' --seq_len 36 --label_len 18 --pred_len 60 --seasonal_patterns 'Monthly' --mask_rate 0.25 --anomaly_ratio 0.25 --top_k 5 --num_kernels 6 --enc_in 7 --dec_in 7 --c_out 7 --d_model 512 --n_heads 8 --e_layers 2 --d_layers 1 --d_ff 2048 --moving_avg 25 --factor 3 --dropout 0.1 --embed 'timeF' --activation 'gelu' --num_workers 10 --itr 1 --train_epochs 10 --batch_size 32 --patience 3 --learning_rate 0.0001 --des 'Exp' --loss 'MSE' --lradj 'type1' --devices '0,1,2,3' --p_hidden_layers 2\n"
      ]
    },
    {
      "cell_type": "code",
      "execution_count": null,
      "metadata": {
        "id": "27qGqloYpaPp"
      },
      "outputs": [],
      "source": [
        "# Crossformer - Illness + VARMA Residuals\n",
        "print(f'\\nRunning Model with pred_len 24...')\n",
        "!python run.py --task_name 'long_term_forecast' --is_training 1 --model_id 'ili_36_24' --model 'Crossformer' --data 'custom' --root_path './dataset/illness/' --data_path 'national_illness_VARMA_Residuals.csv' --features 'M' --target 'OT' --freq 'h' --checkpoints './checkpoints/' --seq_len 36 --label_len 18 --pred_len 24 --seasonal_patterns 'Monthly' --mask_rate 0.25 --anomaly_ratio 0.25 --top_k 5 --num_kernels 6 --enc_in 8 --dec_in 8 --c_out 8 --d_model 512 --n_heads 8 --e_layers 2 --d_layers 1 --d_ff 2048 --moving_avg 25 --factor 3 --dropout 0.1 --embed 'timeF' --activation 'gelu' --num_workers 10 --itr 1 --train_epochs 10 --batch_size 32 --patience 3 --learning_rate 0.0001 --des 'Exp' --loss 'MSE' --lradj 'type1' --devices '0,1,2,3' --p_hidden_layers 2\n",
        "print(f'\\nRunning Model with pred_len 36...')\n",
        "!python run.py --task_name 'long_term_forecast' --is_training 1 --model_id 'ili_36_36' --model 'Crossformer' --data 'custom' --root_path './dataset/illness/' --data_path 'national_illness_VARMA_Residuals.csv' --features 'M' --target 'OT' --freq 'h' --checkpoints './checkpoints/' --seq_len 36 --label_len 18 --pred_len 36 --seasonal_patterns  'Monthly' --mask_rate 0.25 --anomaly_ratio 0.25 --top_k 5 --num_kernels 6 --enc_in 8 --dec_in 8 --c_out 8 --d_model 512 --n_heads 8 --e_layers 2 --d_layers 1 --d_ff 2048 --moving_avg 25 --factor 3 --dropout 0.1 --embed 'timeF' --activation 'gelu' --num_workers 10 --itr 1 --train_epochs 10 --batch_size 32 --patience 3 --learning_rate 0.0001 --des 'Exp' --loss 'MSE' --lradj 'type1' --devices '0,1,2,3' --p_hidden_layers 2\n",
        "print(f'\\nRunning Model with pred_len 48...')\n",
        "!python run.py --task_name 'long_term_forecast' --is_training 1 --model_id 'ili_36_48' --model 'Crossformer' --data 'custom' --root_path './dataset/illness/' --data_path 'national_illness_VARMA_Residuals.csv' --features 'M' --target 'OT' --freq 'h' --checkpoints './checkpoints/' --seq_len 36 --label_len 18 --pred_len 48 --seasonal_patterns 'Monthly' --mask_rate 0.25 --anomaly_ratio 0.25 --top_k 5 --num_kernels 6 --enc_in 8 --dec_in 8 --c_out 8 --d_model 512 --n_heads 8 --e_layers 2 --d_layers 1 --d_ff 2048 --moving_avg 25 --factor 3 --dropout 0.1 --embed 'timeF' --activation 'gelu' --num_workers 10 --itr 1 --train_epochs 10 --batch_size 32 --patience 3 --learning_rate 0.0001 --des 'Exp' --loss 'MSE' --lradj 'type1' --devices '0,1,2,3' --p_hidden_layers 2\n",
        "print(f'\\nRunning Model with pred_len 60...')\n",
        "!python run.py --task_name 'long_term_forecast' --is_training 1 --model_id 'ili_36_60' --model 'Crossformer' --data 'custom' --root_path './dataset/illness/' --data_path 'national_illness_VARMA_Residuals.csv' --features 'M' --target 'OT' --freq 'h' --checkpoints './checkpoints/' --seq_len 36 --label_len 18 --pred_len 60 --seasonal_patterns 'Monthly' --mask_rate 0.25 --anomaly_ratio 0.25 --top_k 5 --num_kernels 6 --enc_in 8 --dec_in 8 --c_out 8 --d_model 512 --n_heads 8 --e_layers 2 --d_layers 1 --d_ff 2048 --moving_avg 25 --factor 3 --dropout 0.1 --embed 'timeF' --activation 'gelu' --num_workers 10 --itr 1 --train_epochs 10 --batch_size 32 --patience 3 --learning_rate 0.0001 --des 'Exp' --loss 'MSE' --lradj 'type1' --devices '0,1,2,3' --p_hidden_layers 2\n"
      ]
    },
    {
      "cell_type": "code",
      "execution_count": null,
      "metadata": {
        "id": "ydGaCeXkpgKW"
      },
      "outputs": [],
      "source": [
        "# PatchTST - Illness\n",
        "print(f'\\nRunning Model with pred_len 24...')\n",
        "!python run.py --task_name 'long_term_forecast' --is_training 1 --model_id 'ili_36_24' --model 'PatchTST' --data 'custom' --root_path './dataset/illness/' --data_path 'national_illness.csv' --features 'M' --target 'OT' --freq 'h' --checkpoints './checkpoints/' --seq_len 36 --label_len 18 --pred_len 24 --seasonal_patterns 'Monthly' --mask_rate 0.25 --anomaly_ratio 0.25 --top_k 5 --num_kernels 6 --enc_in 7 --dec_in 7 --c_out 7 --d_model 512 --n_heads 8 --e_layers 2 --d_layers 1 --d_ff 2048 --moving_avg 25 --factor 3 --dropout 0.1 --embed 'timeF' --activation 'gelu' --num_workers 10 --itr 1 --train_epochs 10 --batch_size 32 --patience 3 --learning_rate 0.0001 --des 'Exp' --loss 'MSE' --lradj 'type1' --devices '0,1,2,3' --p_hidden_layers 2\n",
        "print(f'\\nRunning Model with pred_len 36...')\n",
        "!python run.py --task_name 'long_term_forecast' --is_training 1 --model_id 'ili_36_36' --model 'PatchTST' --data 'custom' --root_path './dataset/illness/' --data_path 'national_illness.csv' --features 'M' --target 'OT' --freq 'h' --checkpoints './checkpoints/' --seq_len 36 --label_len 18 --pred_len 36 --seasonal_patterns  'Monthly' --mask_rate 0.25 --anomaly_ratio 0.25 --top_k 5 --num_kernels 6 --enc_in 7 --dec_in 7 --c_out 7 --d_model 512 --n_heads 8 --e_layers 2 --d_layers 1 --d_ff 2048 --moving_avg 25 --factor 3 --dropout 0.1 --embed 'timeF' --activation 'gelu' --num_workers 10 --itr 1 --train_epochs 10 --batch_size 32 --patience 3 --learning_rate 0.0001 --des 'Exp' --loss 'MSE' --lradj 'type1' --devices '0,1,2,3' --p_hidden_layers 2\n",
        "print(f'\\nRunning Model with pred_len 48...')\n",
        "!python run.py --task_name 'long_term_forecast' --is_training 1 --model_id 'ili_36_48' --model 'PatchTST' --data 'custom' --root_path './dataset/illness/' --data_path 'national_illness.csv' --features 'M' --target 'OT' --freq 'h' --checkpoints './checkpoints/' --seq_len 36 --label_len 18 --pred_len 48 --seasonal_patterns 'Monthly' --mask_rate 0.25 --anomaly_ratio 0.25 --top_k 5 --num_kernels 6 --enc_in 7 --dec_in 7 --c_out 7 --d_model 512 --n_heads 8 --e_layers 2 --d_layers 1 --d_ff 2048 --moving_avg 25 --factor 3 --dropout 0.1 --embed 'timeF' --activation 'gelu' --num_workers 10 --itr 1 --train_epochs 10 --batch_size 32 --patience 3 --learning_rate 0.0001 --des 'Exp' --loss 'MSE' --lradj 'type1' --devices '0,1,2,3' --p_hidden_layers 2\n",
        "print(f'\\nRunning Model with pred_len 60...')\n",
        "!python run.py --task_name 'long_term_forecast' --is_training 1 --model_id 'ili_36_60' --model 'PatchTST' --data 'custom' --root_path './dataset/illness/' --data_path 'national_illness.csv' --features 'M' --target 'OT' --freq 'h' --checkpoints './checkpoints/' --seq_len 36 --label_len 18 --pred_len 60 --seasonal_patterns 'Monthly' --mask_rate 0.25 --anomaly_ratio 0.25 --top_k 5 --num_kernels 6 --enc_in 7 --dec_in 7 --c_out 7 --d_model 512 --n_heads 8 --e_layers 2 --d_layers 1 --d_ff 2048 --moving_avg 25 --factor 3 --dropout 0.1 --embed 'timeF' --activation 'gelu' --num_workers 10 --itr 1 --train_epochs 10 --batch_size 32 --patience 3 --learning_rate 0.0001 --des 'Exp' --loss 'MSE' --lradj 'type1' --devices '0,1,2,3' --p_hidden_layers 2\n"
      ]
    },
    {
      "cell_type": "code",
      "execution_count": null,
      "metadata": {
        "id": "F9j8eRW3pgPH"
      },
      "outputs": [],
      "source": [
        "# PatchTST - Illness + VARMA Residuals\n",
        "print(f'\\nRunning Model with pred_len 24...')\n",
        "!python run.py --task_name 'long_term_forecast' --is_training 1 --model_id 'ili_36_24' --model 'PatchTST' --data 'custom' --root_path './dataset/illness/' --data_path 'national_illness_VARMA_Residuals.csv' --features 'M' --target 'OT' --freq 'h' --checkpoints './checkpoints/' --seq_len 36 --label_len 18 --pred_len 24 --seasonal_patterns 'Monthly' --mask_rate 0.25 --anomaly_ratio 0.25 --top_k 5 --num_kernels 6 --enc_in 8 --dec_in 8 --c_out 8 --d_model 512 --n_heads 8 --e_layers 2 --d_layers 1 --d_ff 2048 --moving_avg 25 --factor 3 --dropout 0.1 --embed 'timeF' --activation 'gelu' --num_workers 10 --itr 1 --train_epochs 10 --batch_size 32 --patience 3 --learning_rate 0.0001 --des 'Exp' --loss 'MSE' --lradj 'type1' --devices '0,1,2,3' --p_hidden_layers 2\n",
        "print(f'\\nRunning Model with pred_len 36...')\n",
        "!python run.py --task_name 'long_term_forecast' --is_training 1 --model_id 'ili_36_36' --model 'PatchTST' --data 'custom' --root_path './dataset/illness/' --data_path 'national_illness_VARMA_Residuals.csv' --features 'M' --target 'OT' --freq 'h' --checkpoints './checkpoints/' --seq_len 36 --label_len 18 --pred_len 36 --seasonal_patterns  'Monthly' --mask_rate 0.25 --anomaly_ratio 0.25 --top_k 5 --num_kernels 6 --enc_in 8 --dec_in 8 --c_out 8 --d_model 512 --n_heads 8 --e_layers 2 --d_layers 1 --d_ff 2048 --moving_avg 25 --factor 3 --dropout 0.1 --embed 'timeF' --activation 'gelu' --num_workers 10 --itr 1 --train_epochs 10 --batch_size 32 --patience 3 --learning_rate 0.0001 --des 'Exp' --loss 'MSE' --lradj 'type1' --devices '0,1,2,3' --p_hidden_layers 2\n",
        "print(f'\\nRunning Model with pred_len 48...')\n",
        "!python run.py --task_name 'long_term_forecast' --is_training 1 --model_id 'ili_36_48' --model 'PatchTST' --data 'custom' --root_path './dataset/illness/' --data_path 'national_illness_VARMA_Residuals.csv' --features 'M' --target 'OT' --freq 'h' --checkpoints './checkpoints/' --seq_len 36 --label_len 18 --pred_len 48 --seasonal_patterns 'Monthly' --mask_rate 0.25 --anomaly_ratio 0.25 --top_k 5 --num_kernels 6 --enc_in 8 --dec_in 8 --c_out 8 --d_model 512 --n_heads 8 --e_layers 2 --d_layers 1 --d_ff 2048 --moving_avg 25 --factor 3 --dropout 0.1 --embed 'timeF' --activation 'gelu' --num_workers 10 --itr 1 --train_epochs 10 --batch_size 32 --patience 3 --learning_rate 0.0001 --des 'Exp' --loss 'MSE' --lradj 'type1' --devices '0,1,2,3' --p_hidden_layers 2\n",
        "print(f'\\nRunning Model with pred_len 60...')\n",
        "!python run.py --task_name 'long_term_forecast' --is_training 1 --model_id 'ili_36_60' --model 'PatchTST' --data 'custom' --root_path './dataset/illness/' --data_path 'national_illness_VARMA_Residuals.csv' --features 'M' --target 'OT' --freq 'h' --checkpoints './checkpoints/' --seq_len 36 --label_len 18 --pred_len 60 --seasonal_patterns 'Monthly' --mask_rate 0.25 --anomaly_ratio 0.25 --top_k 5 --num_kernels 6 --enc_in 8 --dec_in 8 --c_out 8 --d_model 512 --n_heads 8 --e_layers 2 --d_layers 1 --d_ff 2048 --moving_avg 25 --factor 3 --dropout 0.1 --embed 'timeF' --activation 'gelu' --num_workers 10 --itr 1 --train_epochs 10 --batch_size 32 --patience 3 --learning_rate 0.0001 --des 'Exp' --loss 'MSE' --lradj 'type1' --devices '0,1,2,3' --p_hidden_layers 2\n"
      ]
    },
    {
      "cell_type": "markdown",
      "metadata": {
        "id": "cLzQ4Ip39t4_"
      },
      "source": [
        "# PatchTST"
      ]
    },
    {
      "cell_type": "code",
      "execution_count": 5,
      "metadata": {
        "id": "bBQCsELR945u",
        "colab": {
          "base_uri": "https://localhost:8080/"
        },
        "outputId": "a523a097-5c25-4a0f-a32f-6ed5397bdb56"
      },
      "outputs": [
        {
          "output_type": "stream",
          "name": "stdout",
          "text": [
            "/content/PatchTST/PatchTST_supervised\n"
          ]
        }
      ],
      "source": [
        "%cd /content/PatchTST/PatchTST_supervised"
      ]
    },
    {
      "cell_type": "code",
      "source": [
        "!git pull"
      ],
      "metadata": {
        "colab": {
          "base_uri": "https://localhost:8080/"
        },
        "id": "7pXrMZPRC38X",
        "outputId": "f10b30ad-dcca-4d4b-b0d5-dc226fec5298"
      },
      "execution_count": 6,
      "outputs": [
        {
          "output_type": "stream",
          "name": "stdout",
          "text": [
            "Already up to date.\n"
          ]
        }
      ]
    },
    {
      "cell_type": "code",
      "source": [
        "!git stash"
      ],
      "metadata": {
        "colab": {
          "base_uri": "https://localhost:8080/"
        },
        "id": "9qa6vg8tMmOv",
        "outputId": "1066aeec-ac9c-4c49-90e4-f6c01a27ce4c"
      },
      "execution_count": 9,
      "outputs": [
        {
          "output_type": "stream",
          "name": "stdout",
          "text": [
            "Saved working directory and index state WIP on main: ea3dbe4 add data name to saved results\n"
          ]
        }
      ]
    },
    {
      "cell_type": "code",
      "execution_count": 7,
      "metadata": {
        "id": "N5-Sj2iu9pKp"
      },
      "outputs": [],
      "source": [
        "# PatchTST - Exchange\n",
        "!sh /content/PatchTST/PatchTST_supervised/scripts/PatchTST/exchange.sh"
      ]
    },
    {
      "cell_type": "code",
      "execution_count": 8,
      "metadata": {
        "id": "TWqV_aMpW7Sh"
      },
      "outputs": [],
      "source": [
        "# PatchTST - Exchange + VARMA Residuals\n",
        "!sh /content/PatchTST/PatchTST_supervised/scripts/PatchTST/exchange_residuals.sh"
      ]
    },
    {
      "cell_type": "code",
      "execution_count": 9,
      "metadata": {
        "id": "zzpTeqQR88mY"
      },
      "outputs": [],
      "source": [
        "# PatchTST - Illness\n",
        "!sh /content/PatchTST/PatchTST_supervised/scripts/PatchTST/illness.sh"
      ]
    },
    {
      "cell_type": "code",
      "execution_count": 10,
      "metadata": {
        "id": "zG6RoCZVZBpa"
      },
      "outputs": [],
      "source": [
        "# PatchTST - Illness + VARMA Residuals\n",
        "!sh /content/PatchTST/PatchTST_supervised/scripts/PatchTST/illness_residuals.sh"
      ]
    },
    {
      "cell_type": "code",
      "execution_count": 11,
      "metadata": {
        "id": "FiLQ-azFKYeV",
        "colab": {
          "base_uri": "https://localhost:8080/"
        },
        "outputId": "221cb3b8-4ea4-41c7-a268-0053b7571180"
      },
      "outputs": [
        {
          "output_type": "stream",
          "name": "stdout",
          "text": [
            "On branch main\n",
            "Your branch is up to date with 'origin/main'.\n",
            "\n",
            "Changes not staged for commit:\n",
            "  (use \"git add <file>...\" to update what will be committed)\n",
            "  (use \"git restore <file>...\" to discard changes in working directory)\n",
            "\t\u001b[31mmodified:   logs/LongForecasting/PatchTST_national_illness_104_24.log\u001b[m\n",
            "\t\u001b[31mmodified:   logs/LongForecasting/PatchTST_national_illness_104_36.log\u001b[m\n",
            "\t\u001b[31mmodified:   logs/LongForecasting/PatchTST_national_illness_104_48.log\u001b[m\n",
            "\t\u001b[31mmodified:   logs/LongForecasting/PatchTST_national_illness_104_60.log\u001b[m\n",
            "\t\u001b[31mmodified:   result.txt\u001b[m\n",
            "\n",
            "Untracked files:\n",
            "  (use \"git add <file>...\" to include in what will be committed)\n",
            "\t\u001b[31mcheckpoints/104_24_PatchTST_national_illness_VARMA_Residuals_ftM_sl104_ll48_pl24_dm16_nh4_el3_dl1_df128_fc1_ebtimeF_dtTrue_Exp_0/\u001b[m\n",
            "\t\u001b[31mcheckpoints/104_24_PatchTST_national_illness_ftM_sl104_ll48_pl24_dm16_nh4_el3_dl1_df128_fc1_ebtimeF_dtTrue_Exp_0/\u001b[m\n",
            "\t\u001b[31mcheckpoints/104_36_PatchTST_national_illness_VARMA_Residuals_ftM_sl104_ll48_pl36_dm16_nh4_el3_dl1_df128_fc1_ebtimeF_dtTrue_Exp_0/\u001b[m\n",
            "\t\u001b[31mcheckpoints/104_36_PatchTST_national_illness_ftM_sl104_ll48_pl36_dm16_nh4_el3_dl1_df128_fc1_ebtimeF_dtTrue_Exp_0/\u001b[m\n",
            "\t\u001b[31mcheckpoints/104_48_PatchTST_national_illness_VARMA_Residuals_ftM_sl104_ll48_pl48_dm16_nh4_el3_dl1_df128_fc1_ebtimeF_dtTrue_Exp_0/\u001b[m\n",
            "\t\u001b[31mcheckpoints/104_48_PatchTST_national_illness_ftM_sl104_ll48_pl48_dm16_nh4_el3_dl1_df128_fc1_ebtimeF_dtTrue_Exp_0/\u001b[m\n",
            "\t\u001b[31mcheckpoints/104_60_PatchTST_national_illness_VARMA_Residuals_ftM_sl104_ll48_pl60_dm16_nh4_el3_dl1_df128_fc1_ebtimeF_dtTrue_Exp_0/\u001b[m\n",
            "\t\u001b[31mcheckpoints/104_60_PatchTST_national_illness_ftM_sl104_ll48_pl60_dm16_nh4_el3_dl1_df128_fc1_ebtimeF_dtTrue_Exp_0/\u001b[m\n",
            "\t\u001b[31mcheckpoints/336_192_PatchTST_exchange_rate_VARMA_Residuals_ftM_sl336_ll48_pl192_dm128_nh16_el3_dl1_df256_fc1_ebtimeF_dtTrue_Exp_0/\u001b[m\n",
            "\t\u001b[31mcheckpoints/336_192_PatchTST_exchange_rate_ftM_sl336_ll48_pl192_dm128_nh16_el3_dl1_df256_fc1_ebtimeF_dtTrue_Exp_0/\u001b[m\n",
            "\t\u001b[31mcheckpoints/336_336_PatchTST_exchange_rate_VARMA_Residuals_ftM_sl336_ll48_pl336_dm128_nh16_el3_dl1_df256_fc1_ebtimeF_dtTrue_Exp_0/\u001b[m\n",
            "\t\u001b[31mcheckpoints/336_336_PatchTST_exchange_rate_ftM_sl336_ll48_pl336_dm128_nh16_el3_dl1_df256_fc1_ebtimeF_dtTrue_Exp_0/\u001b[m\n",
            "\t\u001b[31mcheckpoints/336_720_PatchTST_exchange_rate_VARMA_Residuals_ftM_sl336_ll48_pl720_dm128_nh16_el3_dl1_df256_fc1_ebtimeF_dtTrue_Exp_0/\u001b[m\n",
            "\t\u001b[31mcheckpoints/336_720_PatchTST_exchange_rate_ftM_sl336_ll48_pl720_dm128_nh16_el3_dl1_df256_fc1_ebtimeF_dtTrue_Exp_0/\u001b[m\n",
            "\t\u001b[31mcheckpoints/336_96_PatchTST_exchange_rate_VARMA_Residuals_ftM_sl336_ll48_pl96_dm128_nh16_el3_dl1_df256_fc1_ebtimeF_dtTrue_Exp_0/\u001b[m\n",
            "\t\u001b[31mcheckpoints/336_96_PatchTST_exchange_rate_ftM_sl336_ll48_pl96_dm128_nh16_el3_dl1_df256_fc1_ebtimeF_dtTrue_Exp_0/\u001b[m\n",
            "\t\u001b[31mdata_provider/__pycache__/data_factory.cpython-310.pyc\u001b[m\n",
            "\t\u001b[31mdata_provider/__pycache__/data_loader.cpython-310.pyc\u001b[m\n",
            "\t\u001b[31mexp/__pycache__/exp_basic.cpython-310.pyc\u001b[m\n",
            "\t\u001b[31mexp/__pycache__/exp_main.cpython-310.pyc\u001b[m\n",
            "\t\u001b[31mlayers/__pycache__/AutoCorrelation.cpython-310.pyc\u001b[m\n",
            "\t\u001b[31mlayers/__pycache__/Autoformer_EncDec.cpython-310.pyc\u001b[m\n",
            "\t\u001b[31mlayers/__pycache__/Embed.cpython-310.pyc\u001b[m\n",
            "\t\u001b[31mlayers/__pycache__/PatchTST_backbone.cpython-310.pyc\u001b[m\n",
            "\t\u001b[31mlayers/__pycache__/PatchTST_layers.cpython-310.pyc\u001b[m\n",
            "\t\u001b[31mlayers/__pycache__/RevIN.cpython-310.pyc\u001b[m\n",
            "\t\u001b[31mlayers/__pycache__/SelfAttention_Family.cpython-310.pyc\u001b[m\n",
            "\t\u001b[31mlayers/__pycache__/Transformer_EncDec.cpython-310.pyc\u001b[m\n",
            "\t\u001b[31mlogs/LongForecasting/PatchTST_Exchange_336_192.log\u001b[m\n",
            "\t\u001b[31mlogs/LongForecasting/PatchTST_Exchange_336_336.log\u001b[m\n",
            "\t\u001b[31mlogs/LongForecasting/PatchTST_Exchange_336_720.log\u001b[m\n",
            "\t\u001b[31mlogs/LongForecasting/PatchTST_Exchange_336_96.log\u001b[m\n",
            "\t\u001b[31mlogs/LongForecasting/PatchTST_Exchange_VARMA_Residuals_336_192.log\u001b[m\n",
            "\t\u001b[31mlogs/LongForecasting/PatchTST_Exchange_VARMA_Residuals_336_336.log\u001b[m\n",
            "\t\u001b[31mlogs/LongForecasting/PatchTST_Exchange_VARMA_Residuals_336_720.log\u001b[m\n",
            "\t\u001b[31mlogs/LongForecasting/PatchTST_Exchange_VARMA_Residuals_336_96.log\u001b[m\n",
            "\t\u001b[31mlogs/LongForecasting/PatchTST_national_illness_VARMA_Residuals_104_24.log\u001b[m\n",
            "\t\u001b[31mlogs/LongForecasting/PatchTST_national_illness_VARMA_Residuals_104_36.log\u001b[m\n",
            "\t\u001b[31mlogs/LongForecasting/PatchTST_national_illness_VARMA_Residuals_104_48.log\u001b[m\n",
            "\t\u001b[31mlogs/LongForecasting/PatchTST_national_illness_VARMA_Residuals_104_60.log\u001b[m\n",
            "\t\u001b[31mmodels/__pycache__/Autoformer.cpython-310.pyc\u001b[m\n",
            "\t\u001b[31mmodels/__pycache__/DLinear.cpython-310.pyc\u001b[m\n",
            "\t\u001b[31mmodels/__pycache__/Informer.cpython-310.pyc\u001b[m\n",
            "\t\u001b[31mmodels/__pycache__/Linear.cpython-310.pyc\u001b[m\n",
            "\t\u001b[31mmodels/__pycache__/NLinear.cpython-310.pyc\u001b[m\n",
            "\t\u001b[31mmodels/__pycache__/PatchTST.cpython-310.pyc\u001b[m\n",
            "\t\u001b[31mmodels/__pycache__/Transformer.cpython-310.pyc\u001b[m\n",
            "\t\u001b[31mresults/\u001b[m\n",
            "\t\u001b[31mtest_results/\u001b[m\n",
            "\t\u001b[31mutils/__pycache__/masking.cpython-310.pyc\u001b[m\n",
            "\t\u001b[31mutils/__pycache__/metrics.cpython-310.pyc\u001b[m\n",
            "\t\u001b[31mutils/__pycache__/timefeatures.cpython-310.pyc\u001b[m\n",
            "\t\u001b[31mutils/__pycache__/tools.cpython-310.pyc\u001b[m\n",
            "\n",
            "no changes added to commit (use \"git add\" and/or \"git commit -a\")\n"
          ]
        }
      ],
      "source": [
        "!git status"
      ]
    },
    {
      "cell_type": "code",
      "source": [],
      "metadata": {
        "id": "ykQA1QKFXKXN"
      },
      "execution_count": null,
      "outputs": []
    }
  ],
  "metadata": {
    "accelerator": "GPU",
    "colab": {
      "machine_shape": "hm",
      "provenance": [],
      "gpuType": "T4"
    },
    "gpuClass": "premium",
    "kernelspec": {
      "display_name": "Python 3",
      "name": "python3"
    },
    "language_info": {
      "name": "python"
    }
  },
  "nbformat": 4,
  "nbformat_minor": 0
}